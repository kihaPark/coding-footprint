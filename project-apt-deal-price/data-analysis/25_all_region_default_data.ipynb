{
 "metadata": {
  "language_info": {
   "codemirror_mode": {
    "name": "ipython",
    "version": 3
   },
   "file_extension": ".py",
   "mimetype": "text/x-python",
   "name": "python",
   "nbconvert_exporter": "python",
   "pygments_lexer": "ipython3",
   "version": "3.7.9-final"
  },
  "orig_nbformat": 2,
  "kernelspec": {
   "name": "python_defaultSpec_1600952729869",
   "display_name": "Python 3.7.9 64-bit ('lotto_maker': conda)"
  }
 },
 "nbformat": 4,
 "nbformat_minor": 2,
 "cells": [
  {
   "cell_type": "code",
   "execution_count": 3,
   "metadata": {},
   "outputs": [],
   "source": [
    "import numpy as np\n",
    "import pandas as pd\n",
    "import matplotlib.pyplot as plt\n",
    "\n",
    "region_table = [\n",
    "    ('강원도','gw'), ('경기도','gg'), ('경상남도','gsn'),\n",
    "    ('경상북도','gsb'), ('광주광역시','gj'), ('대구광역시','dg'),\n",
    "    ('대전광역시','dj'), ('부산광역시','bs'), ('서울특별시','so'),\n",
    "    ('세종특별자치시','sj'), ('울산광역시','us'), ('인천광역시','ic'),\n",
    "    ('전라남도','jrn'), ('전라북도','jrb'), ('제주특별자치도','jj'),\n",
    "    ('충청남도','ccn'), ('충청북도','ccb')\n",
    "]\n"
   ]
  },
  {
   "cell_type": "code",
   "execution_count": 1,
   "metadata": {
    "tags": []
   },
   "outputs": [],
   "source": [
    "def make_default_data(region):\n",
    "    readD = pd.read_csv(f'region-ml-data-files/{region}.csv')\n",
    "\n",
    "    test = readD.tail(1)\n",
    "    test = test.drop(['price_per_pyung_present', 'price_cat'], axis=1)\n",
    "    test['region_sub'] = readD['region_sub'].value_counts().index[0]\n",
    "    test['apt_floor'] = 5\n",
    "    test['period_completed'] = 0\n",
    "    test['pyung'] = 25.71\n",
    "    print(test.to_dict('records'))\n",
    "\n",
    "# for region in region_table:\n",
    "#     make_default_data(region[1]+'_region')\n"
   ]
  },
  {
   "cell_type": "code",
   "execution_count": 3,
   "metadata": {
    "tags": []
   },
   "outputs": [],
   "source": [
    "def make_region_sub_data(region):\n",
    "    readD = pd.read_csv(f'region-ml-data-files/{region}.csv')\n",
    "    print(np.unique(readD['region_sub'].values))\n",
    "\n",
    "# for region in region_table:\n",
    "#     make_region_sub_data(region[1]+'_region')"
   ]
  },
  {
   "cell_type": "code",
   "execution_count": 4,
   "metadata": {
    "tags": []
   },
   "outputs": [],
   "source": [
    "def get_apt_floor_data(region):\n",
    "    readD = pd.read_csv(f'region-ml-data-files/{region}.csv')\n",
    "    floor = readD['apt_floor'].value_counts()\n",
    "    print(region, floor.index[0])\n",
    "\n",
    "# for region in region_table:\n",
    "#     get_apt_floor_data(region[1]+'_region')"
   ]
  },
  {
   "cell_type": "code",
   "execution_count": 4,
   "metadata": {},
   "outputs": [],
   "source": [
    "# 전지역 모델 기본값\n",
    "gw_default = [{\n",
    "    'region_sub': '원주시', 'apt_floor': 5, 'period_completed': 0, 'pyung': 25.71,\n",
    "    'kospi200': 280.09, 'kospi200construct': 189.47, 'kosdaq': 737.97, 'dowjones': 25812.88,\n",
    "    'shanghai': 2984.67, 'exchange_rate': 1199.0, 'gold': 1793.6, 'oil': 39.84,\n",
    "    'export': 39229801, 'import': 35597740, 'cpi_living': 104.88, 'loan_interest_rate': 2.67,\n",
    "    'gw_pop': 1540094, 'gg_pop': 13351891, 'gsb_pop': 2644001, 'ccb_pop': 1597936,\n",
    "    'gw_re_ccsi': 110.0, 'gw_loan': 21721.7\n",
    "}]\n",
    "\n",
    "gg_default = [{\n",
    "    'region_sub': '화성시', 'apt_floor': 5, 'period_completed': 0, 'pyung': 25.71,\n",
    "    'kospi200': 280.09, 'kospi200construct': 189.47, 'kosdaq': 737.97, 'dowjones': 25812.88,\n",
    "    'shanghai': 2984.67, 'exchange_rate': 1199.0, 'gold': 1793.6, 'oil': 39.84,\n",
    "    'export': 39229801, 'import': 35597740, 'cpi_living': 104.88, 'loan_interest_rate': 2.67,\n",
    "    'gg_pop': 13351891, 'so_pop': 9715429, 'ccn_pop': 2120692, 'gg_re_ccsi': 123.8,\n",
    "    'gg_loan': 275491.3\n",
    "}]\n",
    "\n",
    "gsn_default = [{\n",
    "    'region_sub': '김해시', 'apt_floor': 5, 'period_completed': 0, 'pyung': 25.71,\n",
    "    'kospi200': 280.09, 'kospi200construct': 189.47, 'kosdaq': 737.97, 'dowjones': 25812.88,\n",
    "    'shanghai': 2984.67, 'exchange_rate': 1199.0, 'gold': 1793.6, 'oil': 39.84,\n",
    "    'export': 39229801, 'import': 35597740, 'cpi_living': 104.88, 'loan_interest_rate': 2.67,\n",
    "    'gsn_pop': 3347637, 'gsb_pop': 2644001, 'jrn_pop': 1853339, 'gsn_re_ccsi': 110.6,\n",
    "    'gsn_loan': 57313.4\n",
    "}]\n",
    "\n",
    "gsb_default = [{\n",
    "    'region_sub': '구미시', 'apt_floor': 5, 'period_completed': 0, 'pyung': 25.71,\n",
    "    'kospi200': 280.09, 'kospi200construct': 189.47, 'kosdaq': 737.97, 'dowjones': 25812.88,\n",
    "    'shanghai': 2984.67, 'exchange_rate': 1199.0, 'gold': 1793.6, 'oil': 39.84,\n",
    "    'export': 39229801, 'import': 35597740, 'cpi_living': 104.88, 'loan_interest_rate': 2.67,\n",
    "    'gw_pop': 1540094, 'gsn_pop': 3347637, 'gsb_pop': 2644001, 'ccb_pop': 1597936,\n",
    "    'gsb_re_ccsi': 109.5, 'gsb_loan': 39039.1\n",
    "}]\n",
    "\n",
    "gj_default = [{\n",
    "    'region_sub': '북구', 'apt_floor': 5, 'period_completed': 0, 'pyung': 25.71,\n",
    "    'kospi200': 280.09, 'kospi200construct': 189.47, 'kosdaq': 737.97, 'dowjones': 25812.88,\n",
    "    'shanghai': 2984.67, 'exchange_rate': 1199.0, 'gold': 1793.6, 'oil': 39.84,\n",
    "    'export': 39229801, 'import': 35597740, 'cpi_living': 104.88, 'loan_interest_rate': 2.67,\n",
    "    'gj_pop': 1454709, 'jrn_pop': 1853339, 'jrb_pop': 1808044, 'gj_re_ccsi': 108.3,\n",
    "    'gj_loan': 26480.8\n",
    "}]\n",
    "\n",
    "dg_default = [{\n",
    "    'region_sub': '달서구', 'apt_floor': 5, 'period_completed': 0, 'pyung': 25.71,\n",
    "    'kospi200': 280.09, 'kospi200construct': 189.47, 'kosdaq': 737.97, 'dowjones': 25812.88,\n",
    "    'shanghai': 2984.67, 'exchange_rate': 1199.0, 'gold': 1793.6, 'oil': 39.84,\n",
    "    'export': 39229801, 'import': 35597740, 'cpi_living': 104.88, 'loan_interest_rate': 2.67,\n",
    "    'gsn_pop': 3347637, 'gsb_pop': 2644001, 'dg_pop': 2428022, 'dg_re_ccsi': 121.2,\n",
    "    'dg_loan': 44604.4\n",
    "}]\n",
    "\n",
    "dj_default = [{\n",
    "    'region_sub': '서구', 'apt_floor': 5, 'period_completed': 0, 'pyung': 25.71,\n",
    "    'kospi200': 280.09, 'kospi200construct': 189.47, 'kosdaq': 737.97, 'dowjones': 25812.88,\n",
    "    'shanghai': 2984.67, 'exchange_rate': 1199.0, 'gold': 1793.6, 'oil': 39.84,\n",
    "    'export': 39229801, 'import': 35597740, 'cpi_living': 104.88, 'loan_interest_rate': 2.67,\n",
    "    'dj_pop': 1470225, 'sj_pop': 346217, 'ccn_pop': 2120692, 'ccb_pop': 1597936,\n",
    "    'gj_re_ccsi': 108.3, 'dj_loan': 26862.0\n",
    "}]\n",
    "\n",
    "bs_default = [{\n",
    "    'region_sub': '해운대구', 'apt_floor': 5, 'period_completed': 0, 'pyung': 25.71,\n",
    "    'kospi200': 280.09, 'kospi200construct': 189.47, 'kosdaq': 737.97, 'dowjones': 25812.88,\n",
    "    'shanghai': 2984.67, 'exchange_rate': 1199.0, 'gold': 1793.6, 'oil': 39.84,\n",
    "    'export': 39229801, 'import': 35597740, 'cpi_living': 104.88, 'loan_interest_rate': 2.67,\n",
    "    'gsn_pop': 3347637, 'bs_pop': 3402776, 'so_pop': 9715429, 'us_pop': 1141362,\n",
    "    'bs_re_ccsi': 112.1, 'bs_loan': 66776.8\n",
    "}]\n",
    "\n",
    "so_default = [{\n",
    "    'region_sub': '노원구', 'apt_floor': 5, 'period_completed': 0, 'pyung': 25.71,\n",
    "    'kospi200': 280.09, 'kospi200construct': 189.47, 'kosdaq': 737.97, 'dowjones': 25812.88,\n",
    "    'shanghai': 2984.67, 'exchange_rate': 1199.0, 'gold': 1793.6, 'oil': 39.84,\n",
    "    'export': 39229801, 'import': 35597740, 'cpi_living': 104.88, 'loan_interest_rate': 2.67,\n",
    "    'gg_pop': 13351891, 'so_pop': 9715429, 'sj_pop': 346217, 'so_re_ccsi': 131.9,\n",
    "    'so_loan': 336897.1\n",
    "}]\n",
    "\n",
    "sj_default = [{\n",
    "    'region_sub': '세종특별자치도', 'apt_floor': 5, 'period_completed': 0, 'pyung': 25.71,\n",
    "    'kospi200': 280.09, 'kospi200construct': 189.47, 'kosdaq': 737.97, 'dowjones': 25812.88,\n",
    "    'shanghai': 2984.67, 'exchange_rate': 1199.0, 'gold': 1793.6, 'oil': 39.84,\n",
    "    'export': 39229801, 'import': 35597740, 'cpi_living': 104.88, 'loan_interest_rate': 2.67,\n",
    "    'so_pop': 9715429, 'sj_pop': 346217, 'ccn_pop': 2120692, 'ccb_pop': 1597936,\n",
    "    'so_re_ccsi': 131.9, 'ccb_re_ccsi': 119.6, 'ccn_re_ccsi': 120.3, 'sj_loan': 8117.9\n",
    "}]\n",
    "\n",
    "us_default = [{\n",
    "    'region_sub': '남구', 'apt_floor': 5, 'period_completed': 0, 'pyung': 25.71,\n",
    "    'kospi200': 280.09, 'kospi200construct': 189.47, 'kosdaq': 737.97, 'dowjones': 25812.88,\n",
    "    'shanghai': 2984.67, 'exchange_rate': 1199.0, 'gold': 1793.6, 'oil': 39.84,\n",
    "    'export': 39229801, 'import': 35597740, 'cpi_living': 104.88, 'loan_interest_rate': 2.67,\n",
    "    'gsn_pop': 3347637, 'dg_pop': 2428022, 'bs_pop': 3402776, 'us_pop': 1141362,\n",
    "    'us_re_ccsi': 116.1, 'us_loan': 21518.6\n",
    "}]\n",
    "\n",
    "ic_default = [{\n",
    "    'region_sub': '부평구', 'apt_floor': 5, 'period_completed': 0, 'pyung': 25.71,\n",
    "    'kospi200': 280.09, 'kospi200construct': 189.47, 'kosdaq': 737.97, 'dowjones': 25812.88,\n",
    "    'shanghai': 2984.67, 'exchange_rate': 1199.0, 'gold': 1793.6, 'oil': 39.84,\n",
    "    'export': 39229801, 'import': 35597740, 'cpi_living': 104.88, 'loan_interest_rate': 2.67,\n",
    "    'gg_pop': 13351891, 'so_pop': 9715429, 'ic_pop': 2945565, 'ic_re_ccsi': 116.1,\n",
    "    'ic_loan': 59575.8\n",
    "}]\n",
    "\n",
    "jrn_default = [{\n",
    "    'region_sub': '순천시', 'apt_floor': 5, 'period_completed': 0, 'pyung': 25.71,\n",
    "    'kospi200': 280.09, 'kospi200construct': 189.47, 'kosdaq': 737.97, 'dowjones': 25812.88,\n",
    "    'shanghai': 2984.67, 'exchange_rate': 1199.0, 'gold': 1793.6, 'oil': 39.84,\n",
    "    'export': 39229801, 'import': 35597740, 'cpi_living': 104.88, 'loan_interest_rate': 2.67,\n",
    "    'gsn_pop': 3347637, 'gj_pop': 1454709, 'jrn_pop': 1853339, 'jrn_re_ccsi': 113.0,\n",
    "    'jrn_loan': 24747.1\n",
    "}]\n",
    "\n",
    "jrb_default = [{\n",
    "    'region_sub': '전주완산구', 'apt_floor': 5, 'period_completed': 0, 'pyung': 25.71,\n",
    "    'kospi200': 280.09, 'kospi200construct': 189.47, 'kosdaq': 737.97, 'dowjones': 25812.88,\n",
    "    'shanghai': 2984.67, 'exchange_rate': 1199.0, 'gold': 1793.6, 'oil': 39.84,\n",
    "    'export': 39229801, 'import': 35597740, 'cpi_living': 104.88, 'loan_interest_rate': 2.67,\n",
    "    'gsn_pop': 3347637, 'jrb_pop': 1808044, 'ccn_pop': 2120692, 'jrb_re_ccsi': 107.3,\n",
    "    'jrb_loan': 26482.5\n",
    "}]\n",
    "\n",
    "jj_default = [{\n",
    "    'region_sub': '제주시', 'apt_floor': 5, 'period_completed': 0, 'pyung': 25.71,\n",
    "    'kospi200': 280.09, 'kospi200construct': 189.47, 'kosdaq': 737.97,\n",
    "    'dowjones': 25812.88, 'shanghai': 2984.67, 'exchange_rate': 1199.0, 'gold': 1793.6,\n",
    "    'oil': 39.84, 'export': 39229801, 'import': 35597740, 'cpi_living': 104.88,\n",
    "    'loan_interest_rate': 2.67, 'gg_pop': 13351891, 'so_pop': 9715429, 'jj_pop': 671913,\n",
    "    'so_re_ccsi': 131.9, 'gg_re_ccsi': 123.8, 'jj_loan': 16286.1\n",
    "}]\n",
    "\n",
    "ccn_default = [{\n",
    "    'region_sub': '천안서북구', 'apt_floor': 5, 'period_completed': 0, 'pyung': 25.71,\n",
    "    'kospi200': 280.09, 'kospi200construct': 189.47, 'kosdaq': 737.97, 'dowjones': 25812.88,\n",
    "    'shanghai': 2984.67, 'exchange_rate': 1199.0, 'gold': 1793.6, 'oil': 39.84,\n",
    "    'export': 39229801, 'import': 35597740, 'cpi_living': 104.88, 'loan_interest_rate': 2.67,\n",
    "    'sj_pop': 346217, 'jrb_pop': 1808044, 'ccn_pop': 2120692, 'ccb_pop': 1597936,\n",
    "    'ccn_re_ccsi': 120.3, 'ccn_loan': 34158.3\n",
    "}]\n",
    "\n",
    "ccb_default = [{\n",
    "    'region_sub': '청주흥덕구', 'apt_floor': 5, 'period_completed': 0, 'pyung': 25.71,\n",
    "    'kospi200': 280.09, 'kospi200construct': 189.47, 'kosdaq': 737.97, 'dowjones': 25812.88,\n",
    "    'shanghai': 2984.67, 'exchange_rate': 1199.0, 'gold': 1793.6, 'oil': 39.84,\n",
    "    'export': 39229801, 'import': 35597740, 'cpi_living': 104.88, 'loan_interest_rate': 2.67,\n",
    "    'gw_pop': 1540094, 'gg_pop': 13351891, 'gsb_pop': 2644001, 'ccb_pop': 1597936,\n",
    "    'ccb_re_ccsi': 119.6, 'ccb_loan': 23045.3\n",
    "}]\n",
    "\n",
    "\n",
    "all_default = [\n",
    "    gw_default, gg_default, gsn_default, gsb_default, gj_default,\n",
    "    dg_default, dj_default, bs_default, so_default, sj_default,\n",
    "    us_default, ic_default, jrn_default, jrb_default, jj_default,\n",
    "    ccn_default, ccb_default\n",
    "]"
   ]
  },
  {
   "cell_type": "code",
   "execution_count": 5,
   "metadata": {
    "tags": []
   },
   "outputs": [
    {
     "output_type": "stream",
     "name": "stdout",
     "text": "gw [10777797.93185249]\ngg [20229856.46281156]\ngsn [12520148.60899209]\ngsb [11647022.91840059]\ngj [13684543.56813291]\ndg [12952426.21721984]\ndj [29543811.28466105]\nbs [21326895.44078093]\nso [23874274.13615971]\nsj [23064061.4021448]\nus [22851853.60236808]\nic [13957461.84119417]\njrn [12797270.9510964]\njrb [11680642.5775578]\njj [14801202.79997045]\nccn [22871428.96545945]\nccb [13676230.7016771]\n"
    }
   ],
   "source": [
    "# 기본값 예측 테스트\n",
    "\n",
    "import joblib\n",
    "from sklearn.base import BaseEstimator, TransformerMixin\n",
    "\n",
    "class DataFrameSelector(BaseEstimator, TransformerMixin):\n",
    "    \n",
    "    def __init__(self, attribute_names):\n",
    "        self.attribute_names = attribute_names\n",
    "    \n",
    "    def fit(self, x, y=None):\n",
    "        return self\n",
    "    \n",
    "    def transform(self, x):\n",
    "        return x[self.attribute_names].values\n",
    "\n",
    "\n",
    "def test_load_predict(region, default_data):\n",
    "\n",
    "    predD = pd.DataFrame.from_records(default_data)\n",
    "    \n",
    "    model = joblib.load(f'models/{region+\"_region\"}.pkl')\n",
    "    \n",
    "    test_pred = model.predict(predD)\n",
    "    print(region, test_pred)\n",
    "\n",
    "for region, default in zip(region_table, all_default):\n",
    "    test_load_predict(region[1], default)\n"
   ]
  },
  {
   "cell_type": "code",
   "execution_count": null,
   "metadata": {},
   "outputs": [],
   "source": [
    "# gw [10777797.93185249]\n",
    "# gg [20229856.46281156]\n",
    "# gsn [12520148.60899209]\n",
    "# gsb [11647022.91840059]\n",
    "# gj [13684543.56813291]\n",
    "# dg [12952426.21721984]\n",
    "# dj [28052961.46364948]\n",
    "# bs [21326895.44078093]\n",
    "# so [23874274.13615971]\n",
    "# sj [23064061.4021448]\n",
    "# us [22851853.60236808]\n",
    "# ic [13957461.84119417]\n",
    "# jrn [12797270.9510964]\n",
    "# jrb [11680642.5775578]\n",
    "# jj [14801202.79997045]\n",
    "# ccn [22871428.96545945]\n",
    "# ccb [13676230.7016771]"
   ]
  },
  {
   "source": [
    "## 2020년 분양 아파트 가격 예측 비교"
   ],
   "cell_type": "markdown",
   "metadata": {}
  },
  {
   "cell_type": "code",
   "execution_count": 6,
   "metadata": {},
   "outputs": [],
   "source": [
    "import numpy as np\n",
    "import pandas as pd\n",
    "from prediction_man import predictionMan\n",
    "from sklearn.base import BaseEstimator, TransformerMixin\n",
    "\n",
    "class DataFrameSelector(BaseEstimator, TransformerMixin):\n",
    "    \n",
    "    def __init__(self, attribute_names):\n",
    "        self.attribute_names = attribute_names\n",
    "    \n",
    "    def fit(self, x, y=None):\n",
    "        return self\n",
    "    \n",
    "    def transform(self, x):\n",
    "        return x[self.attribute_names].values\n"
   ]
  },
  {
   "cell_type": "code",
   "execution_count": 7,
   "metadata": {
    "tags": []
   },
   "outputs": [
    {
     "output_type": "stream",
     "name": "stdout",
     "text": "<class 'pandas.core.frame.DataFrame'>\nRangeIndex: 169 entries, 0 to 168\nData columns (total 5 columns):\n #   Column  Non-Null Count  Dtype  \n---  ------  --------------  -----  \n 0   공급위치    169 non-null    object \n 1   아파트명    169 non-null    object \n 2   건설사     169 non-null    object \n 3   전용면적    169 non-null    float64\n 4   분양가격    169 non-null    int64  \ndtypes: float64(1), int64(1), object(3)\nmemory usage: 6.7+ KB\n"
    },
    {
     "output_type": "execute_result",
     "data": {
      "text/plain": "                    공급위치                아파트명       건설사    전용면적       분양가격\n0  강원도 강릉시 포남동 1117외 5필지       KTX강릉역 동도센트리움   동도건설(주)   59.99  287000000\n1           강원도 원주시 c4블럭   원주혁신도시 제일풍경채 센텀포레   제일건설(주)   91.40  323700000\n2           강원도 원주시 c4블럭   원주혁신도시 제일풍경채 센텀포레   제일건설(주)  110.58  391500000\n3  강원도 속초시 우렁3길 20 (동명동)       속초 롯데캐슬 인더스카이   롯데건설(주)   79.94  403150000\n4  강원도 속초시 우렁3길 20 (동명동)       속초 롯데캐슬 인더스카이   롯데건설(주)   84.98  466370000",
      "text/html": "<div>\n<style scoped>\n    .dataframe tbody tr th:only-of-type {\n        vertical-align: middle;\n    }\n\n    .dataframe tbody tr th {\n        vertical-align: top;\n    }\n\n    .dataframe thead th {\n        text-align: right;\n    }\n</style>\n<table border=\"1\" class=\"dataframe\">\n  <thead>\n    <tr style=\"text-align: right;\">\n      <th></th>\n      <th>공급위치</th>\n      <th>아파트명</th>\n      <th>건설사</th>\n      <th>전용면적</th>\n      <th>분양가격</th>\n    </tr>\n  </thead>\n  <tbody>\n    <tr>\n      <th>0</th>\n      <td>강원도 강릉시 포남동 1117외 5필지</td>\n      <td>KTX강릉역 동도센트리움</td>\n      <td>동도건설(주)</td>\n      <td>59.99</td>\n      <td>287000000</td>\n    </tr>\n    <tr>\n      <th>1</th>\n      <td>강원도 원주시 c4블럭</td>\n      <td>원주혁신도시 제일풍경채 센텀포레</td>\n      <td>제일건설(주)</td>\n      <td>91.40</td>\n      <td>323700000</td>\n    </tr>\n    <tr>\n      <th>2</th>\n      <td>강원도 원주시 c4블럭</td>\n      <td>원주혁신도시 제일풍경채 센텀포레</td>\n      <td>제일건설(주)</td>\n      <td>110.58</td>\n      <td>391500000</td>\n    </tr>\n    <tr>\n      <th>3</th>\n      <td>강원도 속초시 우렁3길 20 (동명동)</td>\n      <td>속초 롯데캐슬 인더스카이</td>\n      <td>롯데건설(주)</td>\n      <td>79.94</td>\n      <td>403150000</td>\n    </tr>\n    <tr>\n      <th>4</th>\n      <td>강원도 속초시 우렁3길 20 (동명동)</td>\n      <td>속초 롯데캐슬 인더스카이</td>\n      <td>롯데건설(주)</td>\n      <td>84.98</td>\n      <td>466370000</td>\n    </tr>\n  </tbody>\n</table>\n</div>"
     },
     "metadata": {},
     "execution_count": 7
    }
   ],
   "source": [
    "readD = pd.read_csv('sub-data-files/apply_home_2020.csv')\n",
    "readD.columns = ['공급위치', '아파트명', '건설사', '전용면적', '분양가격']\n",
    "readD.info()\n",
    "readD.head()"
   ]
  },
  {
   "cell_type": "code",
   "execution_count": 8,
   "metadata": {
    "tags": []
   },
   "outputs": [
    {
     "output_type": "stream",
     "name": "stdout",
     "text": "<class 'pandas.core.frame.DataFrame'>\nRangeIndex: 169 entries, 0 to 168\nData columns (total 15 columns):\n #   Column     Non-Null Count  Dtype  \n---  ------     --------------  -----  \n 0   공급위치       169 non-null    object \n 1   아파트명       169 non-null    object \n 2   건설사        169 non-null    object \n 3   전용면적       169 non-null    float64\n 4   분양가격       169 non-null    int64  \n 5   지역         169 non-null    object \n 6   세부지역       169 non-null    object \n 7   평          169 non-null    float64\n 8   평당 분양가격    169 non-null    int64  \n 9   평당 예측가격    169 non-null    int64  \n 10  평당 분양-예측   169 non-null    int64  \n 11  평당 분양/예측%  169 non-null    int64  \n 12  예측가격       169 non-null    int64  \n 13  분양-예측      169 non-null    int64  \n 14  분양/예측%     169 non-null    int64  \ndtypes: float64(2), int64(8), object(5)\nmemory usage: 19.9+ KB\n"
    }
   ],
   "source": [
    "dataD = readD.copy()\n",
    "dataD['지역'] = dataD['공급위치'].str.split(expand=True)[0]\n",
    "dataD['세부지역'] = dataD['공급위치'].str.split(expand=True)[1]\n",
    "dataD['평'] = round(dataD['전용면적'] / 3.3, 2)\n",
    "dataD['평당 분양가격'] = round(dataD['분양가격'] / dataD['평']).astype('int64')\n",
    "dataD['평당 예측가격'] = 0\n",
    "dataD['평당 분양-예측'] = 0\n",
    "dataD['평당 분양/예측%'] = 0\n",
    "dataD['예측가격'] = 0\n",
    "dataD['분양-예측'] = 0\n",
    "dataD['분양/예측%'] = 0\n",
    "dataD.info()"
   ]
  },
  {
   "cell_type": "code",
   "execution_count": 9,
   "metadata": {
    "tags": []
   },
   "outputs": [
    {
     "output_type": "stream",
     "name": "stdout",
     "text": "predictionMan init\n"
    }
   ],
   "source": [
    "pm = predictionMan()\n",
    "\n",
    "def add_data(D):\n",
    "    D['평당 예측가격'] = pm.predict_price(D['지역'], region_sub=D['세부지역'], pyung=D['평'])\n",
    "    D['예측가격'] = round(D['평당 예측가격'] * D['평'])\n",
    "    D['평당 분양-예측'] = round(D['평당 분양가격'] - D['평당 예측가격'])\n",
    "    D['평당 분양/예측%'] = round(D['평당 분양가격'] / D['평당 예측가격'] * 100)\n",
    "    D['분양-예측'] = round(D['분양가격'] - D['예측가격'])\n",
    "    D['분양/예측%'] = round(D['분양가격'] / D['예측가격'] * 100)\n",
    "    return D\n",
    "\n",
    "dataD = dataD.apply(add_data, axis=1)"
   ]
  },
  {
   "cell_type": "code",
   "execution_count": 10,
   "metadata": {
    "tags": []
   },
   "outputs": [],
   "source": [
    "dataD.to_csv('sub-data-files/apply_home_2020_ex.csv', index=False, encoding='utf-8-sig')"
   ]
  },
  {
   "cell_type": "code",
   "execution_count": 11,
   "metadata": {
    "tags": []
   },
   "outputs": [
    {
     "output_type": "stream",
     "name": "stdout",
     "text": "<class 'pandas.core.frame.DataFrame'>\nRangeIndex: 169 entries, 0 to 168\nData columns (total 15 columns):\n #   Column     Non-Null Count  Dtype  \n---  ------     --------------  -----  \n 0   공급위치       169 non-null    object \n 1   아파트명       169 non-null    object \n 2   건설사        169 non-null    object \n 3   전용면적       169 non-null    float64\n 4   분양가격       169 non-null    int64  \n 5   지역         169 non-null    object \n 6   세부지역       169 non-null    object \n 7   평          169 non-null    float64\n 8   평당 분양가격    169 non-null    int64  \n 9   평당 예측가격    169 non-null    int64  \n 10  평당 분양-예측   169 non-null    int64  \n 11  평당 분양/예측%  169 non-null    int64  \n 12  예측가격       169 non-null    int64  \n 13  분양-예측      169 non-null    int64  \n 14  분양/예측%     169 non-null    int64  \ndtypes: float64(2), int64(8), object(5)\nmemory usage: 19.9+ KB\n"
    },
    {
     "output_type": "execute_result",
     "data": {
      "text/plain": "                    공급위치                아파트명       건설사    전용면적       분양가격  \\\n0  강원도 강릉시 포남동 1117외 5필지       KTX강릉역 동도센트리움   동도건설(주)   59.99  287000000   \n1           강원도 원주시 c4블럭   원주혁신도시 제일풍경채 센텀포레   제일건설(주)   91.40  323700000   \n2           강원도 원주시 c4블럭   원주혁신도시 제일풍경채 센텀포레   제일건설(주)  110.58  391500000   \n3  강원도 속초시 우렁3길 20 (동명동)       속초 롯데캐슬 인더스카이   롯데건설(주)   79.94  403150000   \n4  강원도 속초시 우렁3길 20 (동명동)       속초 롯데캐슬 인더스카이   롯데건설(주)   84.98  466370000   \n\n    지역 세부지역      평   평당 분양가격   평당 예측가격  평당 분양-예측  평당 분양/예측%       예측가격  \\\n0  강원도  강릉시  18.18  15786579  12683849   3102730        124  230592375   \n1  강원도  원주시  27.70  11685921  11086345    599576        105  307091756   \n2  강원도  원주시  33.51  11683080  11698000    -14920        100  391999980   \n3  강원도  속초시  24.22  16645334  11420491   5224843        146  276604292   \n4  강원도  속초시  25.75  18111456  11375982   6735474        159  292931536   \n\n       분양-예측  분양/예측%  \n0   56407625     124  \n1   16608244     105  \n2    -499980     100  \n3  126545708     146  \n4  173438464     159  ",
      "text/html": "<div>\n<style scoped>\n    .dataframe tbody tr th:only-of-type {\n        vertical-align: middle;\n    }\n\n    .dataframe tbody tr th {\n        vertical-align: top;\n    }\n\n    .dataframe thead th {\n        text-align: right;\n    }\n</style>\n<table border=\"1\" class=\"dataframe\">\n  <thead>\n    <tr style=\"text-align: right;\">\n      <th></th>\n      <th>공급위치</th>\n      <th>아파트명</th>\n      <th>건설사</th>\n      <th>전용면적</th>\n      <th>분양가격</th>\n      <th>지역</th>\n      <th>세부지역</th>\n      <th>평</th>\n      <th>평당 분양가격</th>\n      <th>평당 예측가격</th>\n      <th>평당 분양-예측</th>\n      <th>평당 분양/예측%</th>\n      <th>예측가격</th>\n      <th>분양-예측</th>\n      <th>분양/예측%</th>\n    </tr>\n  </thead>\n  <tbody>\n    <tr>\n      <th>0</th>\n      <td>강원도 강릉시 포남동 1117외 5필지</td>\n      <td>KTX강릉역 동도센트리움</td>\n      <td>동도건설(주)</td>\n      <td>59.99</td>\n      <td>287000000</td>\n      <td>강원도</td>\n      <td>강릉시</td>\n      <td>18.18</td>\n      <td>15786579</td>\n      <td>12683849</td>\n      <td>3102730</td>\n      <td>124</td>\n      <td>230592375</td>\n      <td>56407625</td>\n      <td>124</td>\n    </tr>\n    <tr>\n      <th>1</th>\n      <td>강원도 원주시 c4블럭</td>\n      <td>원주혁신도시 제일풍경채 센텀포레</td>\n      <td>제일건설(주)</td>\n      <td>91.40</td>\n      <td>323700000</td>\n      <td>강원도</td>\n      <td>원주시</td>\n      <td>27.70</td>\n      <td>11685921</td>\n      <td>11086345</td>\n      <td>599576</td>\n      <td>105</td>\n      <td>307091756</td>\n      <td>16608244</td>\n      <td>105</td>\n    </tr>\n    <tr>\n      <th>2</th>\n      <td>강원도 원주시 c4블럭</td>\n      <td>원주혁신도시 제일풍경채 센텀포레</td>\n      <td>제일건설(주)</td>\n      <td>110.58</td>\n      <td>391500000</td>\n      <td>강원도</td>\n      <td>원주시</td>\n      <td>33.51</td>\n      <td>11683080</td>\n      <td>11698000</td>\n      <td>-14920</td>\n      <td>100</td>\n      <td>391999980</td>\n      <td>-499980</td>\n      <td>100</td>\n    </tr>\n    <tr>\n      <th>3</th>\n      <td>강원도 속초시 우렁3길 20 (동명동)</td>\n      <td>속초 롯데캐슬 인더스카이</td>\n      <td>롯데건설(주)</td>\n      <td>79.94</td>\n      <td>403150000</td>\n      <td>강원도</td>\n      <td>속초시</td>\n      <td>24.22</td>\n      <td>16645334</td>\n      <td>11420491</td>\n      <td>5224843</td>\n      <td>146</td>\n      <td>276604292</td>\n      <td>126545708</td>\n      <td>146</td>\n    </tr>\n    <tr>\n      <th>4</th>\n      <td>강원도 속초시 우렁3길 20 (동명동)</td>\n      <td>속초 롯데캐슬 인더스카이</td>\n      <td>롯데건설(주)</td>\n      <td>84.98</td>\n      <td>466370000</td>\n      <td>강원도</td>\n      <td>속초시</td>\n      <td>25.75</td>\n      <td>18111456</td>\n      <td>11375982</td>\n      <td>6735474</td>\n      <td>159</td>\n      <td>292931536</td>\n      <td>173438464</td>\n      <td>159</td>\n    </tr>\n  </tbody>\n</table>\n</div>"
     },
     "metadata": {},
     "execution_count": 11
    }
   ],
   "source": [
    "readD = pd.read_csv('sub-data-files/apply_home_2020_ex.csv')\n",
    "readD.info()\n",
    "readD.head()"
   ]
  },
  {
   "cell_type": "code",
   "execution_count": 1,
   "metadata": {},
   "outputs": [
    {
     "output_type": "execute_result",
     "data": {
      "text/plain": "['healstate_region_avg_price_per_pyung.csv',\n 'healstate_region_deal_count.csv',\n 'lottecastle_region_avg_price_per_pyung.csv',\n 'lottecastle_region_deal_count.csv',\n 'prugio_region_avg_price_per_pyung.csv',\n 'prugio_region_deal_count.csv',\n 'raemian_region_avg_price_per_pyung.csv',\n 'raemian_region_deal_count.csv',\n 'region_avg_price_per_pyung.csv',\n 'region_avg_price_per_pyung_month.csv',\n 'region_deal_count.csv',\n 'region_deal_count_month.csv',\n 'region_size_avg_price_per_pyung.csv',\n 'region_size_avg_price_per_pyung_month.csv',\n 'region_size_deal_count.csv',\n 'region_size_deal_count_month.csv',\n 'xi_region_avg_price_per_pyung.csv',\n 'xi_region_deal_count.csv']"
     },
     "metadata": {},
     "execution_count": 1
    }
   ],
   "source": [
    "import os\n",
    "\n",
    "stat_files = os.listdir('statistics')\n",
    "stat_files\n"
   ]
  },
  {
   "cell_type": "code",
   "execution_count": null,
   "metadata": {},
   "outputs": [],
   "source": []
  }
 ]
}