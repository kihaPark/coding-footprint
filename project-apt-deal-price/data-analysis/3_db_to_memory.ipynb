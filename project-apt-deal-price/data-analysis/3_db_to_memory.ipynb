{
 "metadata": {
  "language_info": {
   "codemirror_mode": {
    "name": "ipython",
    "version": 3
   },
   "file_extension": ".py",
   "mimetype": "text/x-python",
   "name": "python",
   "nbconvert_exporter": "python",
   "pygments_lexer": "ipython3",
   "version": "3.6.10-final"
  },
  "orig_nbformat": 2,
  "kernelspec": {
   "name": "python3",
   "display_name": "Python 3"
  }
 },
 "nbformat": 4,
 "nbformat_minor": 2,
 "cells": [
  {
   "cell_type": "code",
   "execution_count": 1,
   "metadata": {},
   "outputs": [],
   "source": [
    "import numpy as np\n",
    "import pandas as pd\n",
    "import cx_Oracle"
   ]
  },
  {
   "cell_type": "code",
   "execution_count": 2,
   "metadata": {},
   "outputs": [],
   "source": [
    "# 시계열 정보\n",
    "time_table1 =[\n",
    "    ['2012-08-01', '2012-12-31'],\n",
    "    ['2013-01-01', '2013-12-31'],\n",
    "    ['2014-01-01', '2014-12-31'],\n",
    "    ['2015-01-01', '2015-12-31'],\n",
    "    ['2016-01-01', '2016-12-31'],\n",
    "    ['2017-01-01', '2017-12-31'],\n",
    "    ['2018-01-01', '2018-12-31'],\n",
    "    ['2019-01-01', '2019-12-31'],\n",
    "    ['2020-01-01', '2020-07-31']]\n",
    "\n",
    "time_table2 = [\n",
    "    '2012', '2013', '2014', '2015', '2016',\n",
    "    '2017', '2018', '2019', '2020']"
   ]
  },
  {
   "cell_type": "code",
   "execution_count": 3,
   "metadata": {},
   "outputs": [],
   "source": [
    "# 지역 정보\n",
    "region_table1 = [\n",
    "    '강원도', '경기도', '경상남도', '경상북도', '광주광역시', '대구광역시',\n",
    "    '대전광역시', '부산광역시', '서울특별시', '세종특별자치시', '울산광역시',\n",
    "    '인천광역시', '전라남도', '전라북도', '제주특별자치도', '충청남도', '충청북도']"
   ]
  },
  {
   "cell_type": "code",
   "execution_count": 4,
   "metadata": {},
   "outputs": [],
   "source": [
    "def get_data_from_db(query):\n",
    "    conn = cx_Oracle.connect('hoseo', 'hoseo', 'localhost:1521/xe')\n",
    "    df = pd.read_sql(query, conn)\n",
    "    conn.close()\n",
    "    return df"
   ]
  },
  {
   "cell_type": "code",
   "execution_count": 5,
   "metadata": {
    "tags": []
   },
   "outputs": [],
   "source": [
    "# 년도별 지역별 전체 매매건수\n",
    "def make_region_deal_count():\n",
    "    for year in time_table2:\n",
    "\n",
    "        query = f\"\"\"\n",
    "            SELECT adp.region, COUNT(*) AS y{year} \n",
    "            FROM apt_deal_price adp \n",
    "            WHERE TO_CHAR(adp.contract_date, 'YYYY') = '{year}' \n",
    "            GROUP BY adp.region \n",
    "            ORDER BY adp.region ASC\n",
    "            \"\"\"\n",
    "\n",
    "        queD = get_data_from_db(query)\n",
    "\n",
    "        if year == '2012':\n",
    "            dataD = queD.copy()\n",
    "        else:\n",
    "            dataD = dataD.merge(queD)\n",
    "\n",
    "    dataD.info()\n",
    "    lower_col = dataD.columns.values.tolist()\n",
    "    dataD.columns = [ l.lower() for l in lower_col ]\n",
    "    dataD.to_csv('sub-data-files/region_deal_count.csv', index=False, encoding='utf-8-sig')\n",
    "    "
   ]
  },
  {
   "cell_type": "code",
   "execution_count": 6,
   "metadata": {
    "tags": []
   },
   "outputs": [],
   "source": [
    "# make_region_deal_count()"
   ]
  },
  {
   "cell_type": "code",
   "execution_count": 7,
   "metadata": {
    "tags": []
   },
   "outputs": [
    {
     "output_type": "execute_result",
     "data": {
      "text/plain": "     region  y2012   y2013   y2014   y2015   y2016   y2017   y2018   y2019  \\\n0       강원도   6630   17830   19607   22038   20351   16608   12825   13914   \n1       경기도  41582  147064  172370  200666  175042  154053  151747  141529   \n2      경상남도  12818   39806   47725   48027   37483   30780   25463   33552   \n3      경상북도  11594   29417   27867   27196   20114   20705   18861   22647   \n4     광주광역시   8387   22310   25424   23859   21420   22764   25384   20135   \n5     대구광역시  16495   39240   34041   32299   19047   32067   32582   30142   \n6     대전광역시   6432   20935   20923   21186   22785   20283   19602   27390   \n7     부산광역시  13255   42777   52758   62263   56409   37938   25857   36080   \n8     서울특별시  18633   68136   85537  120023  110183  105063   81389   74917   \n9   세종특별자치시    546    1130    1204    2033    3520    4669    3430    5802   \n10    울산광역시   6270   18591   23111   21153   14235   11513    8148   14289   \n11    인천광역시   9515   34446   42172   49099   42968   36600   30384   34224   \n12     전라남도   5774   13448   14652   18934   19502   19118   17092   16589   \n13     전라북도   6789   17167   19527   22914   22336   20038   17860   18681   \n14  제주특별자치도   1828    4284    4374    3540    3632    2524    2537    2316   \n15     충청남도  12359   27048   29074   25822   19542   19667   18926   24946   \n16     충청북도   7114   19946   20125   17001   16262   15921   13853   17149   \n\n     y2020  \n0    12550  \n1   150660  \n2    24848  \n3    18548  \n4    13465  \n5    21410  \n6    17102  \n7    30418  \n8    50428  \n9     5722  \n10   10276  \n11   36690  \n12   12207  \n13   14901  \n14    1617  \n15   19659  \n16   16503  ",
      "text/html": "<div>\n<style scoped>\n    .dataframe tbody tr th:only-of-type {\n        vertical-align: middle;\n    }\n\n    .dataframe tbody tr th {\n        vertical-align: top;\n    }\n\n    .dataframe thead th {\n        text-align: right;\n    }\n</style>\n<table border=\"1\" class=\"dataframe\">\n  <thead>\n    <tr style=\"text-align: right;\">\n      <th></th>\n      <th>region</th>\n      <th>y2012</th>\n      <th>y2013</th>\n      <th>y2014</th>\n      <th>y2015</th>\n      <th>y2016</th>\n      <th>y2017</th>\n      <th>y2018</th>\n      <th>y2019</th>\n      <th>y2020</th>\n    </tr>\n  </thead>\n  <tbody>\n    <tr>\n      <th>0</th>\n      <td>강원도</td>\n      <td>6630</td>\n      <td>17830</td>\n      <td>19607</td>\n      <td>22038</td>\n      <td>20351</td>\n      <td>16608</td>\n      <td>12825</td>\n      <td>13914</td>\n      <td>12550</td>\n    </tr>\n    <tr>\n      <th>1</th>\n      <td>경기도</td>\n      <td>41582</td>\n      <td>147064</td>\n      <td>172370</td>\n      <td>200666</td>\n      <td>175042</td>\n      <td>154053</td>\n      <td>151747</td>\n      <td>141529</td>\n      <td>150660</td>\n    </tr>\n    <tr>\n      <th>2</th>\n      <td>경상남도</td>\n      <td>12818</td>\n      <td>39806</td>\n      <td>47725</td>\n      <td>48027</td>\n      <td>37483</td>\n      <td>30780</td>\n      <td>25463</td>\n      <td>33552</td>\n      <td>24848</td>\n    </tr>\n    <tr>\n      <th>3</th>\n      <td>경상북도</td>\n      <td>11594</td>\n      <td>29417</td>\n      <td>27867</td>\n      <td>27196</td>\n      <td>20114</td>\n      <td>20705</td>\n      <td>18861</td>\n      <td>22647</td>\n      <td>18548</td>\n    </tr>\n    <tr>\n      <th>4</th>\n      <td>광주광역시</td>\n      <td>8387</td>\n      <td>22310</td>\n      <td>25424</td>\n      <td>23859</td>\n      <td>21420</td>\n      <td>22764</td>\n      <td>25384</td>\n      <td>20135</td>\n      <td>13465</td>\n    </tr>\n    <tr>\n      <th>5</th>\n      <td>대구광역시</td>\n      <td>16495</td>\n      <td>39240</td>\n      <td>34041</td>\n      <td>32299</td>\n      <td>19047</td>\n      <td>32067</td>\n      <td>32582</td>\n      <td>30142</td>\n      <td>21410</td>\n    </tr>\n    <tr>\n      <th>6</th>\n      <td>대전광역시</td>\n      <td>6432</td>\n      <td>20935</td>\n      <td>20923</td>\n      <td>21186</td>\n      <td>22785</td>\n      <td>20283</td>\n      <td>19602</td>\n      <td>27390</td>\n      <td>17102</td>\n    </tr>\n    <tr>\n      <th>7</th>\n      <td>부산광역시</td>\n      <td>13255</td>\n      <td>42777</td>\n      <td>52758</td>\n      <td>62263</td>\n      <td>56409</td>\n      <td>37938</td>\n      <td>25857</td>\n      <td>36080</td>\n      <td>30418</td>\n    </tr>\n    <tr>\n      <th>8</th>\n      <td>서울특별시</td>\n      <td>18633</td>\n      <td>68136</td>\n      <td>85537</td>\n      <td>120023</td>\n      <td>110183</td>\n      <td>105063</td>\n      <td>81389</td>\n      <td>74917</td>\n      <td>50428</td>\n    </tr>\n    <tr>\n      <th>9</th>\n      <td>세종특별자치시</td>\n      <td>546</td>\n      <td>1130</td>\n      <td>1204</td>\n      <td>2033</td>\n      <td>3520</td>\n      <td>4669</td>\n      <td>3430</td>\n      <td>5802</td>\n      <td>5722</td>\n    </tr>\n    <tr>\n      <th>10</th>\n      <td>울산광역시</td>\n      <td>6270</td>\n      <td>18591</td>\n      <td>23111</td>\n      <td>21153</td>\n      <td>14235</td>\n      <td>11513</td>\n      <td>8148</td>\n      <td>14289</td>\n      <td>10276</td>\n    </tr>\n    <tr>\n      <th>11</th>\n      <td>인천광역시</td>\n      <td>9515</td>\n      <td>34446</td>\n      <td>42172</td>\n      <td>49099</td>\n      <td>42968</td>\n      <td>36600</td>\n      <td>30384</td>\n      <td>34224</td>\n      <td>36690</td>\n    </tr>\n    <tr>\n      <th>12</th>\n      <td>전라남도</td>\n      <td>5774</td>\n      <td>13448</td>\n      <td>14652</td>\n      <td>18934</td>\n      <td>19502</td>\n      <td>19118</td>\n      <td>17092</td>\n      <td>16589</td>\n      <td>12207</td>\n    </tr>\n    <tr>\n      <th>13</th>\n      <td>전라북도</td>\n      <td>6789</td>\n      <td>17167</td>\n      <td>19527</td>\n      <td>22914</td>\n      <td>22336</td>\n      <td>20038</td>\n      <td>17860</td>\n      <td>18681</td>\n      <td>14901</td>\n    </tr>\n    <tr>\n      <th>14</th>\n      <td>제주특별자치도</td>\n      <td>1828</td>\n      <td>4284</td>\n      <td>4374</td>\n      <td>3540</td>\n      <td>3632</td>\n      <td>2524</td>\n      <td>2537</td>\n      <td>2316</td>\n      <td>1617</td>\n    </tr>\n    <tr>\n      <th>15</th>\n      <td>충청남도</td>\n      <td>12359</td>\n      <td>27048</td>\n      <td>29074</td>\n      <td>25822</td>\n      <td>19542</td>\n      <td>19667</td>\n      <td>18926</td>\n      <td>24946</td>\n      <td>19659</td>\n    </tr>\n    <tr>\n      <th>16</th>\n      <td>충청북도</td>\n      <td>7114</td>\n      <td>19946</td>\n      <td>20125</td>\n      <td>17001</td>\n      <td>16262</td>\n      <td>15921</td>\n      <td>13853</td>\n      <td>17149</td>\n      <td>16503</td>\n    </tr>\n  </tbody>\n</table>\n</div>"
     },
     "metadata": {},
     "execution_count": 7
    }
   ],
   "source": [
    "testD = pd.read_csv('sub-data-files/region_deal_count.csv')\n",
    "testD\n"
   ]
  },
  {
   "cell_type": "code",
   "execution_count": 8,
   "metadata": {},
   "outputs": [],
   "source": [
    "# 국민임대주택 규모\n",
    "# 전용면적 50m²(15평) 미만, 무주택 세대주 월평균 소득 50% 이하\n",
    "# 전용면적 50m²(15평)이상∼60m²(18평) 이하, 무주택 세대주 월평균 소득 70% 이하\n",
    "\n",
    "# 국민주택 규모\n",
    "# 전용면적 85m²(25.7평) 이하\n",
    "# 전용면적 100m²(30.2평) 이하, 수도권을 제외한 도시지역이 아닌 읍·면 지역\n",
    "\n",
    "# 전용면적 100m²(30.2평)초과~135m²(40.8평)이하\n",
    "# 전용면적 135m²(40.8평)초과\n",
    "\n",
    "# ~ 50m²\n",
    "# 50m² ~ 60m²\n",
    "# 60m² ~ 85m²\n",
    "# 85m² ~ 100m²\n",
    "# 100m² ~ 135m²\n",
    "# 135m² ~"
   ]
  },
  {
   "cell_type": "code",
   "execution_count": 9,
   "metadata": {},
   "outputs": [],
   "source": [
    "size_conditions = [\n",
    "    ('under_50', 'adp.apt_size < 50'),\n",
    "    ('50_60', 'adp.apt_size >= 50 AND adp.apt_size <= 60'),\n",
    "    ('60_85', 'adp.apt_size > 60 AND adp.apt_size <= 85'),\n",
    "    ('85_100', 'adp.apt_size > 85 AND adp.apt_size <= 100'),\n",
    "    ('100_135', 'adp.apt_size > 100 AND adp.apt_size <= 135'),\n",
    "    ('135_over', 'adp.apt_size > 135')]\n",
    "\n",
    "size_conditions2 = [\n",
    "    ('under_50', 'A.apt_size < 50'),\n",
    "    ('50_60', 'A.apt_size >= 50 AND A.apt_size <= 60'),\n",
    "    ('60_85', 'A.apt_size > 60 AND A.apt_size <= 85'),\n",
    "    ('85_100', 'A.apt_size > 85 AND A.apt_size <= 100'),\n",
    "    ('100_135', 'A.apt_size > 100 AND A.apt_size <= 135'),\n",
    "    ('135_over', 'A.apt_size > 135')]\n",
    "\n",
    "col_apt_size_data = [\n",
    "    'region', 'apt_size', 'y2012', 'y2013', 'y2014',\n",
    "    'y2015', 'y2016', 'y2017', 'y2018', 'y2019', 'y2020']\n",
    "    "
   ]
  },
  {
   "cell_type": "code",
   "execution_count": 10,
   "metadata": {},
   "outputs": [],
   "source": [
    "# 지역별 사이즈별 매매건수 데이터 수집\n",
    "def make_region_size_count(year = 2012):\n",
    "    for cond in size_conditions:\n",
    "\n",
    "        query = f\"\"\"\n",
    "            SELECT adp.region AS region, COUNT(adp.apt_size) AS \"{cond[0]}\"\n",
    "            FROM apt_deal_price adp\n",
    "            WHERE to_char(adp.contract_date, 'YYYY') = '{year}' AND {cond[1]}\n",
    "            GROUP BY adp.region\n",
    "            ORDER BY adp.region ASC\n",
    "            \"\"\"\n",
    "\n",
    "        queD = get_data_from_db(query)\n",
    "\n",
    "        if cond[0] == 'under_50':\n",
    "            dataD = queD.copy()\n",
    "        else:\n",
    "            dataD = dataD.merge(queD, how='left')\n",
    "        \n",
    "    dataD.fillna(0, inplace=True)\n",
    "    dataD = dataD.astype( \\\n",
    "        {'under_50':'int64', '50_60':'int64', '60_85':'int64',\n",
    "        '85_100':'int64', '100_135':'int64', '135_over':'int64'})\n",
    "    \n",
    "    # dataD.info()\n",
    "\n",
    "    dataD.set_index('REGION', inplace=True)\n",
    "    data_list = dataD.values.reshape(len(region_table1) * len(size_conditions), )\n",
    "\n",
    "    return data_list\n"
   ]
  },
  {
   "cell_type": "code",
   "execution_count": 11,
   "metadata": {
    "tags": []
   },
   "outputs": [],
   "source": [
    "# 년도별 지역별 사이즈별 매매건수 데이터 만들기\n",
    "def complete_region_size_count():\n",
    "\n",
    "    # 최종 데이터 테이블 형태 만들기\n",
    "    row_count = len(region_table1) * len(size_conditions)\n",
    "    col_count = len(col_apt_size_data)\n",
    "    allD = pd.DataFrame(np.zeros((row_count, col_count), dtype='int64'), columns=col_apt_size_data)\n",
    "\n",
    "    size_list = [ x[0] for x in size_conditions ]\n",
    "    allD['apt_size'] = size_list * len(region_table1)\n",
    "\n",
    "    region_list = []\n",
    "    for r in region_table1:\n",
    "        region_list.extend([r] * len(size_conditions))\n",
    "    allD['region'] = region_list\n",
    "\n",
    "    # 년도별 데이터 수집\n",
    "    for year in time_table2:\n",
    "        data_list = make_region_size_count(year)\n",
    "        allD['y' + year] = data_list\n",
    "        \n",
    "    allD.info()\n",
    "    allD.to_csv('sub-data-files/region_size_deal_count.csv', index=False, encoding='utf-8-sig')"
   ]
  },
  {
   "cell_type": "code",
   "execution_count": 12,
   "metadata": {
    "tags": []
   },
   "outputs": [],
   "source": [
    "# complete_region_size_count()"
   ]
  },
  {
   "cell_type": "code",
   "execution_count": 13,
   "metadata": {
    "tags": []
   },
   "outputs": [
    {
     "output_type": "execute_result",
     "data": {
      "text/plain": "   region  apt_size  y2012  y2013  y2014  y2015  y2016  y2017  y2018  y2019  \\\n0     강원도  under_50   1745   5230   5375   5129   4973   4335   2953   2599   \n1     강원도     50_60   2164   5709   6467   6971   6165   5092   4104   4500   \n2     강원도     60_85   2063   5477   6316   7868   7326   5814   4712   5820   \n3     강원도    85_100     75    194    218    278    262    198    135    154   \n4     강원도   100_135    432    894    992   1443   1282    937    742    660   \n5     강원도  135_over    151    326    239    349    343    232    179    181   \n6     경기도  under_50   5283  17442  23048  26504  23472  20073  17546  15751   \n7     경기도     50_60  11330  40630  46031  52233  46651  40635  37919  35299   \n8     경기도     60_85  17987  63772  73604  86951  75077  65850  67028  64718   \n9     경기도    85_100    638   2393   3079   3755   3081   2675   2951   3153   \n10    경기도   100_135   5101  18020  21557  25362  21818  20338  21258  18309   \n11    경기도  135_over   1243   4807   5051   5861   4943   4482   5045   4299   \n\n    y2020  \n0    2222  \n1    4139  \n2    5144  \n3     160  \n4     704  \n5     181  \n6   16352  \n7   38755  \n8   69997  \n9    3176  \n10  17679  \n11   4701  ",
      "text/html": "<div>\n<style scoped>\n    .dataframe tbody tr th:only-of-type {\n        vertical-align: middle;\n    }\n\n    .dataframe tbody tr th {\n        vertical-align: top;\n    }\n\n    .dataframe thead th {\n        text-align: right;\n    }\n</style>\n<table border=\"1\" class=\"dataframe\">\n  <thead>\n    <tr style=\"text-align: right;\">\n      <th></th>\n      <th>region</th>\n      <th>apt_size</th>\n      <th>y2012</th>\n      <th>y2013</th>\n      <th>y2014</th>\n      <th>y2015</th>\n      <th>y2016</th>\n      <th>y2017</th>\n      <th>y2018</th>\n      <th>y2019</th>\n      <th>y2020</th>\n    </tr>\n  </thead>\n  <tbody>\n    <tr>\n      <th>0</th>\n      <td>강원도</td>\n      <td>under_50</td>\n      <td>1745</td>\n      <td>5230</td>\n      <td>5375</td>\n      <td>5129</td>\n      <td>4973</td>\n      <td>4335</td>\n      <td>2953</td>\n      <td>2599</td>\n      <td>2222</td>\n    </tr>\n    <tr>\n      <th>1</th>\n      <td>강원도</td>\n      <td>50_60</td>\n      <td>2164</td>\n      <td>5709</td>\n      <td>6467</td>\n      <td>6971</td>\n      <td>6165</td>\n      <td>5092</td>\n      <td>4104</td>\n      <td>4500</td>\n      <td>4139</td>\n    </tr>\n    <tr>\n      <th>2</th>\n      <td>강원도</td>\n      <td>60_85</td>\n      <td>2063</td>\n      <td>5477</td>\n      <td>6316</td>\n      <td>7868</td>\n      <td>7326</td>\n      <td>5814</td>\n      <td>4712</td>\n      <td>5820</td>\n      <td>5144</td>\n    </tr>\n    <tr>\n      <th>3</th>\n      <td>강원도</td>\n      <td>85_100</td>\n      <td>75</td>\n      <td>194</td>\n      <td>218</td>\n      <td>278</td>\n      <td>262</td>\n      <td>198</td>\n      <td>135</td>\n      <td>154</td>\n      <td>160</td>\n    </tr>\n    <tr>\n      <th>4</th>\n      <td>강원도</td>\n      <td>100_135</td>\n      <td>432</td>\n      <td>894</td>\n      <td>992</td>\n      <td>1443</td>\n      <td>1282</td>\n      <td>937</td>\n      <td>742</td>\n      <td>660</td>\n      <td>704</td>\n    </tr>\n    <tr>\n      <th>5</th>\n      <td>강원도</td>\n      <td>135_over</td>\n      <td>151</td>\n      <td>326</td>\n      <td>239</td>\n      <td>349</td>\n      <td>343</td>\n      <td>232</td>\n      <td>179</td>\n      <td>181</td>\n      <td>181</td>\n    </tr>\n    <tr>\n      <th>6</th>\n      <td>경기도</td>\n      <td>under_50</td>\n      <td>5283</td>\n      <td>17442</td>\n      <td>23048</td>\n      <td>26504</td>\n      <td>23472</td>\n      <td>20073</td>\n      <td>17546</td>\n      <td>15751</td>\n      <td>16352</td>\n    </tr>\n    <tr>\n      <th>7</th>\n      <td>경기도</td>\n      <td>50_60</td>\n      <td>11330</td>\n      <td>40630</td>\n      <td>46031</td>\n      <td>52233</td>\n      <td>46651</td>\n      <td>40635</td>\n      <td>37919</td>\n      <td>35299</td>\n      <td>38755</td>\n    </tr>\n    <tr>\n      <th>8</th>\n      <td>경기도</td>\n      <td>60_85</td>\n      <td>17987</td>\n      <td>63772</td>\n      <td>73604</td>\n      <td>86951</td>\n      <td>75077</td>\n      <td>65850</td>\n      <td>67028</td>\n      <td>64718</td>\n      <td>69997</td>\n    </tr>\n    <tr>\n      <th>9</th>\n      <td>경기도</td>\n      <td>85_100</td>\n      <td>638</td>\n      <td>2393</td>\n      <td>3079</td>\n      <td>3755</td>\n      <td>3081</td>\n      <td>2675</td>\n      <td>2951</td>\n      <td>3153</td>\n      <td>3176</td>\n    </tr>\n    <tr>\n      <th>10</th>\n      <td>경기도</td>\n      <td>100_135</td>\n      <td>5101</td>\n      <td>18020</td>\n      <td>21557</td>\n      <td>25362</td>\n      <td>21818</td>\n      <td>20338</td>\n      <td>21258</td>\n      <td>18309</td>\n      <td>17679</td>\n    </tr>\n    <tr>\n      <th>11</th>\n      <td>경기도</td>\n      <td>135_over</td>\n      <td>1243</td>\n      <td>4807</td>\n      <td>5051</td>\n      <td>5861</td>\n      <td>4943</td>\n      <td>4482</td>\n      <td>5045</td>\n      <td>4299</td>\n      <td>4701</td>\n    </tr>\n  </tbody>\n</table>\n</div>"
     },
     "metadata": {},
     "execution_count": 13
    }
   ],
   "source": [
    "testD = pd.read_csv('sub-data-files/region_size_deal_count.csv')\n",
    "testD.head(12)"
   ]
  },
  {
   "cell_type": "code",
   "execution_count": 14,
   "metadata": {},
   "outputs": [],
   "source": [
    "def get_yyyymm():\n",
    "    query = \"\"\"\n",
    "        SELECT DISTINCT to_char(adp.contract_date, 'YYYYMM') AS ym\n",
    "        FROM apt_deal_price adp\n",
    "        ORDER BY ym ASC\n",
    "        \"\"\"\n",
    "\n",
    "    queD = get_data_from_db(query)\n",
    "    return list(queD['YM'])\n",
    "    "
   ]
  },
  {
   "cell_type": "code",
   "execution_count": 15,
   "metadata": {},
   "outputs": [],
   "source": [
    "# 월별 지역별 전체 매매건수\n",
    "def make_region_deal_count_month():\n",
    "    yyyymm = get_yyyymm()\n",
    "\n",
    "    for ym in yyyymm:\n",
    "\n",
    "        query = f\"\"\"\n",
    "            SELECT adp.region, COUNT(*) AS ym{ym} \n",
    "            FROM apt_deal_price adp \n",
    "            WHERE TO_CHAR(adp.contract_date, 'YYYYMM') = '{ym}' \n",
    "            GROUP BY adp.region \n",
    "            ORDER BY adp.region ASC\n",
    "            \"\"\"\n",
    "\n",
    "        queD = get_data_from_db(query)\n",
    "\n",
    "        if ym == '201208':\n",
    "            dataD = queD.copy()\n",
    "        else:\n",
    "            dataD = dataD.merge(queD, how='left')\n",
    "\n",
    "    dataD.info()\n",
    "    lower_col = dataD.columns.values.tolist()\n",
    "    dataD.columns = [ l.lower() for l in lower_col ]\n",
    "    dataD.to_csv('sub-data-files/region_deal_count_month.csv', index=False, encoding='utf-8-sig')"
   ]
  },
  {
   "cell_type": "code",
   "execution_count": 16,
   "metadata": {
    "tags": []
   },
   "outputs": [],
   "source": [
    "# make_region_deal_count_month()"
   ]
  },
  {
   "cell_type": "code",
   "execution_count": 17,
   "metadata": {},
   "outputs": [
    {
     "output_type": "execute_result",
     "data": {
      "text/plain": "  region  ym201208  ym201209  ym201210  ym201211  ym201212  ym201301  \\\n0    강원도       933      1191      1495      1513      1498      1023   \n1    경기도      5631      8083     10645      9178      8045      7115   \n2   경상남도      1623      2113      3168      3101      2813      2286   \n3   경상북도      1781      2087      2701      2519      2506      1947   \n4  광주광역시      1204      1483      2012      1956      1732      1413   \n\n   ym201302  ym201303  ym201304  ...  ym201910  ym201911  ym201912  ym202001  \\\n0      1227      2383      1660  ...      1343      1377      1751      1439   \n1      8588     13003     14632  ...     18101     20779     20988     20747   \n2      2801      3747      4001  ...      4026      4869      3822      3183   \n3      2324      2837      3134  ...      2549      2514      2400      2193   \n4      1799      2206      2051  ...      2046      2133      2128      1954   \n\n   ym202002  ym202003  ym202004  ym202005  ym202006  ym202007  \n0      1868      1579      1625      1982      2312      1745  \n1     31851     16368     12759     16979     34952     17004  \n2      3704      2625      2633      3376      5764      3563  \n3      2689      1915      2083      3392      3843      2433  \n4      2251      1738      1490      1778      2423      1831  \n\n[5 rows x 97 columns]",
      "text/html": "<div>\n<style scoped>\n    .dataframe tbody tr th:only-of-type {\n        vertical-align: middle;\n    }\n\n    .dataframe tbody tr th {\n        vertical-align: top;\n    }\n\n    .dataframe thead th {\n        text-align: right;\n    }\n</style>\n<table border=\"1\" class=\"dataframe\">\n  <thead>\n    <tr style=\"text-align: right;\">\n      <th></th>\n      <th>region</th>\n      <th>ym201208</th>\n      <th>ym201209</th>\n      <th>ym201210</th>\n      <th>ym201211</th>\n      <th>ym201212</th>\n      <th>ym201301</th>\n      <th>ym201302</th>\n      <th>ym201303</th>\n      <th>ym201304</th>\n      <th>...</th>\n      <th>ym201910</th>\n      <th>ym201911</th>\n      <th>ym201912</th>\n      <th>ym202001</th>\n      <th>ym202002</th>\n      <th>ym202003</th>\n      <th>ym202004</th>\n      <th>ym202005</th>\n      <th>ym202006</th>\n      <th>ym202007</th>\n    </tr>\n  </thead>\n  <tbody>\n    <tr>\n      <th>0</th>\n      <td>강원도</td>\n      <td>933</td>\n      <td>1191</td>\n      <td>1495</td>\n      <td>1513</td>\n      <td>1498</td>\n      <td>1023</td>\n      <td>1227</td>\n      <td>2383</td>\n      <td>1660</td>\n      <td>...</td>\n      <td>1343</td>\n      <td>1377</td>\n      <td>1751</td>\n      <td>1439</td>\n      <td>1868</td>\n      <td>1579</td>\n      <td>1625</td>\n      <td>1982</td>\n      <td>2312</td>\n      <td>1745</td>\n    </tr>\n    <tr>\n      <th>1</th>\n      <td>경기도</td>\n      <td>5631</td>\n      <td>8083</td>\n      <td>10645</td>\n      <td>9178</td>\n      <td>8045</td>\n      <td>7115</td>\n      <td>8588</td>\n      <td>13003</td>\n      <td>14632</td>\n      <td>...</td>\n      <td>18101</td>\n      <td>20779</td>\n      <td>20988</td>\n      <td>20747</td>\n      <td>31851</td>\n      <td>16368</td>\n      <td>12759</td>\n      <td>16979</td>\n      <td>34952</td>\n      <td>17004</td>\n    </tr>\n    <tr>\n      <th>2</th>\n      <td>경상남도</td>\n      <td>1623</td>\n      <td>2113</td>\n      <td>3168</td>\n      <td>3101</td>\n      <td>2813</td>\n      <td>2286</td>\n      <td>2801</td>\n      <td>3747</td>\n      <td>4001</td>\n      <td>...</td>\n      <td>4026</td>\n      <td>4869</td>\n      <td>3822</td>\n      <td>3183</td>\n      <td>3704</td>\n      <td>2625</td>\n      <td>2633</td>\n      <td>3376</td>\n      <td>5764</td>\n      <td>3563</td>\n    </tr>\n    <tr>\n      <th>3</th>\n      <td>경상북도</td>\n      <td>1781</td>\n      <td>2087</td>\n      <td>2701</td>\n      <td>2519</td>\n      <td>2506</td>\n      <td>1947</td>\n      <td>2324</td>\n      <td>2837</td>\n      <td>3134</td>\n      <td>...</td>\n      <td>2549</td>\n      <td>2514</td>\n      <td>2400</td>\n      <td>2193</td>\n      <td>2689</td>\n      <td>1915</td>\n      <td>2083</td>\n      <td>3392</td>\n      <td>3843</td>\n      <td>2433</td>\n    </tr>\n    <tr>\n      <th>4</th>\n      <td>광주광역시</td>\n      <td>1204</td>\n      <td>1483</td>\n      <td>2012</td>\n      <td>1956</td>\n      <td>1732</td>\n      <td>1413</td>\n      <td>1799</td>\n      <td>2206</td>\n      <td>2051</td>\n      <td>...</td>\n      <td>2046</td>\n      <td>2133</td>\n      <td>2128</td>\n      <td>1954</td>\n      <td>2251</td>\n      <td>1738</td>\n      <td>1490</td>\n      <td>1778</td>\n      <td>2423</td>\n      <td>1831</td>\n    </tr>\n  </tbody>\n</table>\n<p>5 rows × 97 columns</p>\n</div>"
     },
     "metadata": {},
     "execution_count": 17
    }
   ],
   "source": [
    "testD = pd.read_csv('sub-data-files/region_deal_count_month.csv')\n",
    "testD.head(5)\n"
   ]
  },
  {
   "cell_type": "code",
   "execution_count": 18,
   "metadata": {},
   "outputs": [],
   "source": [
    "# 월별 지역별 사이즈별 매매건수 데이터 수집\n",
    "def make_region_size_count_month(ym = 201208):\n",
    "    for cond in size_conditions:\n",
    "\n",
    "        query = f\"\"\"\n",
    "            SELECT adp.region AS region, COUNT(adp.apt_size) AS \"{cond[0]}\"\n",
    "            FROM apt_deal_price adp\n",
    "            WHERE to_char(adp.contract_date, 'YYYYMM') = '{ym}' AND {cond[1]}\n",
    "            GROUP BY adp.region\n",
    "            ORDER BY adp.region ASC\n",
    "            \"\"\"\n",
    "\n",
    "        queD = get_data_from_db(query)\n",
    "\n",
    "        if cond[0] == 'under_50':\n",
    "            dataD = queD.copy()\n",
    "        else:\n",
    "            dataD = dataD.merge(queD, how='left')\n",
    "    \n",
    "    # dataD empty 처리\n",
    "\n",
    "    dataD.fillna(0, inplace=True)\n",
    "    dataD = dataD.astype( \\\n",
    "        {'under_50':'int64', '50_60':'int64', '60_85':'int64',\n",
    "        '85_100':'int64', '100_135':'int64', '135_over':'int64'})\n",
    "    \n",
    "    # dataD.info()\n",
    "\n",
    "    dataD.set_index('REGION', inplace=True)\n",
    "    data_list = dataD.values.reshape(len(region_table1) * len(size_conditions), )\n",
    "\n",
    "    return data_list"
   ]
  },
  {
   "cell_type": "code",
   "execution_count": 19,
   "metadata": {},
   "outputs": [],
   "source": [
    "# 월별 지역별 사이즈별 매매건수 데이터 만들기\n",
    "def complete_region_size_count():\n",
    "    yyyymm = get_yyyymm()\n",
    "    col_ym = [ 'ym' + y for y in yyyymm ]\n",
    "    col_apt_size_month = ['region', 'apt_size']\n",
    "    col_apt_size_month += col_ym\n",
    "\n",
    "    # 최종 데이터 테이블 형태 만들기\n",
    "    row_count = len(region_table1) * len(size_conditions)\n",
    "    col_count = len(col_apt_size_month)\n",
    "    allD = pd.DataFrame(np.zeros((row_count, col_count), dtype='int64'), columns=col_apt_size_month)\n",
    "\n",
    "    size_list = [ x[0] for x in size_conditions ]\n",
    "    allD['apt_size'] = size_list * len(region_table1)\n",
    "\n",
    "    region_list = []\n",
    "    for r in region_table1:\n",
    "        region_list.extend([r] * len(size_conditions))\n",
    "    allD['region'] = region_list\n",
    "\n",
    "    # 년도별 데이터 수집\n",
    "    for ym in yyyymm:\n",
    "        data_list = make_region_size_count_month(ym)\n",
    "        allD['ym' + ym] = data_list\n",
    "        \n",
    "    allD.info()\n",
    "    allD.to_csv('sub-data-files/region_size_deal_count_month.csv', index=False, encoding='utf-8-sig')"
   ]
  },
  {
   "cell_type": "code",
   "execution_count": 20,
   "metadata": {
    "tags": []
   },
   "outputs": [],
   "source": [
    "# 1시간 정도 걸림\n",
    "# complete_region_size_count()"
   ]
  },
  {
   "cell_type": "code",
   "execution_count": 21,
   "metadata": {},
   "outputs": [
    {
     "output_type": "execute_result",
     "data": {
      "text/plain": "  region  apt_size  ym201208  ym201209  ym201210  ym201211  ym201212  \\\n0    강원도  under_50       229       239       357       439       481   \n1    강원도     50_60       296       470       540       466       392   \n2    강원도     60_85       318       362       452       455       476   \n3    강원도    85_100         7        14        23        11        20   \n4    강원도   100_135        63        79       100       112        78   \n5    강원도  135_over        20        27        23        30        51   \n\n   ym201301  ym201302  ym201303  ...  ym201910  ym201911  ym201912  ym202001  \\\n0       231       268      1120  ...       237       217       240       224   \n1       371       467       569  ...       415       483       469       441   \n2       325       395       561  ...       587       555       924       649   \n3         9        15        13  ...        10        19        19        18   \n4        66        63        91  ...        81        84        83        90   \n5        21        19        29  ...        13        19        16        17   \n\n   ym202002  ym202003  ym202004  ym202005  ym202006  ym202007  \n0       351       292       278       358       383       336  \n1       603       526       599       672       735       563  \n2       756       630       630       790      1007       682  \n3        24        22        16        18        30        32  \n4       109        86        79       115       122       103  \n5        25        23        23        29        35        29  \n\n[6 rows x 98 columns]",
      "text/html": "<div>\n<style scoped>\n    .dataframe tbody tr th:only-of-type {\n        vertical-align: middle;\n    }\n\n    .dataframe tbody tr th {\n        vertical-align: top;\n    }\n\n    .dataframe thead th {\n        text-align: right;\n    }\n</style>\n<table border=\"1\" class=\"dataframe\">\n  <thead>\n    <tr style=\"text-align: right;\">\n      <th></th>\n      <th>region</th>\n      <th>apt_size</th>\n      <th>ym201208</th>\n      <th>ym201209</th>\n      <th>ym201210</th>\n      <th>ym201211</th>\n      <th>ym201212</th>\n      <th>ym201301</th>\n      <th>ym201302</th>\n      <th>ym201303</th>\n      <th>...</th>\n      <th>ym201910</th>\n      <th>ym201911</th>\n      <th>ym201912</th>\n      <th>ym202001</th>\n      <th>ym202002</th>\n      <th>ym202003</th>\n      <th>ym202004</th>\n      <th>ym202005</th>\n      <th>ym202006</th>\n      <th>ym202007</th>\n    </tr>\n  </thead>\n  <tbody>\n    <tr>\n      <th>0</th>\n      <td>강원도</td>\n      <td>under_50</td>\n      <td>229</td>\n      <td>239</td>\n      <td>357</td>\n      <td>439</td>\n      <td>481</td>\n      <td>231</td>\n      <td>268</td>\n      <td>1120</td>\n      <td>...</td>\n      <td>237</td>\n      <td>217</td>\n      <td>240</td>\n      <td>224</td>\n      <td>351</td>\n      <td>292</td>\n      <td>278</td>\n      <td>358</td>\n      <td>383</td>\n      <td>336</td>\n    </tr>\n    <tr>\n      <th>1</th>\n      <td>강원도</td>\n      <td>50_60</td>\n      <td>296</td>\n      <td>470</td>\n      <td>540</td>\n      <td>466</td>\n      <td>392</td>\n      <td>371</td>\n      <td>467</td>\n      <td>569</td>\n      <td>...</td>\n      <td>415</td>\n      <td>483</td>\n      <td>469</td>\n      <td>441</td>\n      <td>603</td>\n      <td>526</td>\n      <td>599</td>\n      <td>672</td>\n      <td>735</td>\n      <td>563</td>\n    </tr>\n    <tr>\n      <th>2</th>\n      <td>강원도</td>\n      <td>60_85</td>\n      <td>318</td>\n      <td>362</td>\n      <td>452</td>\n      <td>455</td>\n      <td>476</td>\n      <td>325</td>\n      <td>395</td>\n      <td>561</td>\n      <td>...</td>\n      <td>587</td>\n      <td>555</td>\n      <td>924</td>\n      <td>649</td>\n      <td>756</td>\n      <td>630</td>\n      <td>630</td>\n      <td>790</td>\n      <td>1007</td>\n      <td>682</td>\n    </tr>\n    <tr>\n      <th>3</th>\n      <td>강원도</td>\n      <td>85_100</td>\n      <td>7</td>\n      <td>14</td>\n      <td>23</td>\n      <td>11</td>\n      <td>20</td>\n      <td>9</td>\n      <td>15</td>\n      <td>13</td>\n      <td>...</td>\n      <td>10</td>\n      <td>19</td>\n      <td>19</td>\n      <td>18</td>\n      <td>24</td>\n      <td>22</td>\n      <td>16</td>\n      <td>18</td>\n      <td>30</td>\n      <td>32</td>\n    </tr>\n    <tr>\n      <th>4</th>\n      <td>강원도</td>\n      <td>100_135</td>\n      <td>63</td>\n      <td>79</td>\n      <td>100</td>\n      <td>112</td>\n      <td>78</td>\n      <td>66</td>\n      <td>63</td>\n      <td>91</td>\n      <td>...</td>\n      <td>81</td>\n      <td>84</td>\n      <td>83</td>\n      <td>90</td>\n      <td>109</td>\n      <td>86</td>\n      <td>79</td>\n      <td>115</td>\n      <td>122</td>\n      <td>103</td>\n    </tr>\n    <tr>\n      <th>5</th>\n      <td>강원도</td>\n      <td>135_over</td>\n      <td>20</td>\n      <td>27</td>\n      <td>23</td>\n      <td>30</td>\n      <td>51</td>\n      <td>21</td>\n      <td>19</td>\n      <td>29</td>\n      <td>...</td>\n      <td>13</td>\n      <td>19</td>\n      <td>16</td>\n      <td>17</td>\n      <td>25</td>\n      <td>23</td>\n      <td>23</td>\n      <td>29</td>\n      <td>35</td>\n      <td>29</td>\n    </tr>\n  </tbody>\n</table>\n<p>6 rows × 98 columns</p>\n</div>"
     },
     "metadata": {},
     "execution_count": 21
    }
   ],
   "source": [
    "testD = pd.read_csv('sub-data-files/region_size_deal_count_month.csv')\n",
    "testD.head(6)"
   ]
  },
  {
   "cell_type": "code",
   "execution_count": 22,
   "metadata": {},
   "outputs": [],
   "source": [
    "# 년도별 지역별 평균 평당 가격\n",
    "def make_region_avg_price_per_pyung():\n",
    "    for year in time_table2:\n",
    "\n",
    "        query = f\"\"\"\n",
    "            SELECT adp.region, round(AVG(adp.price_per_pyung)) AS y{year}\n",
    "            FROM (SELECT A.region, (A.contract_price / (A.apt_size / 3.3)) price_per_pyung\n",
    "                  FROM apt_deal_price A\n",
    "                  WHERE to_char(A.contract_date, 'YYYY') = '{year}') adp\n",
    "            GROUP BY adp.region\n",
    "            ORDER BY adp.region ASC\n",
    "            \"\"\"\n",
    "\n",
    "        queD = get_data_from_db(query)\n",
    "\n",
    "        if year == '2012':\n",
    "            dataD = queD.copy()\n",
    "        else:\n",
    "            dataD = dataD.merge(queD, how='left')\n",
    "\n",
    "    dataD.info()\n",
    "    lower_col = dataD.columns.values.tolist()\n",
    "    dataD.columns = [ l.lower() for l in lower_col ]\n",
    "    dataD.to_csv('sub-data-files/region_avg_price_per_pyung.csv', index=False, encoding='utf-8-sig')"
   ]
  },
  {
   "cell_type": "code",
   "execution_count": 23,
   "metadata": {
    "tags": []
   },
   "outputs": [],
   "source": [
    "# make_region_avg_price_per_pyung()"
   ]
  },
  {
   "cell_type": "code",
   "execution_count": 24,
   "metadata": {},
   "outputs": [
    {
     "output_type": "execute_result",
     "data": {
      "text/plain": "     region     y2012     y2013     y2014     y2015     y2016     y2017  \\\n0       강원도   5017704   5073569   5244047   5697026   6288439   6610171   \n1       경기도  10268867  10721242  11194598  11861218  12768256  13887902   \n2      경상남도   7049242   7580157   8063321   8177517   8115336   8054941   \n3      경상북도   5154609   5510731   6015412   6365920   6152243   6295791   \n4     광주광역시   6159958   6387516   6988350   7665966   8172572   8712565   \n5     대구광역시   7630697   8177568   9304979  10538937  10625995  11316737   \n6     대전광역시   7994548   8229245   8379888   8445784   8762061   9130145   \n7     부산광역시   8955963   8681508   9182984   9920745  11047033  11730806   \n8     서울특별시  18912444  18659223  19201809  20206966  22287993  25421426   \n9   세종특별자치시   6241319   6168699   7381741   9044967  10432436  11415572   \n10    울산광역시   8549304   8525141   8730972   9411367  10178393  10272408   \n11    인천광역시   9012400   9044267   9559661  10024058  10746249  11223117   \n12     전라남도   4641582   5102109   5174298   5352663   5489391   6037071   \n13     전라북도   5305825   5742993   5828642   6007848   6150680   6337203   \n14  제주특별자치도   6960907   7490321   7921811   9639861  11929400  12991006   \n15     충청남도   6272607   6729618   7042029   7088800   6936223   6949639   \n16     충청북도   6468944   6342768   6717526   6803101   6644025   6724251   \n\n       y2018     y2019     y2020  \n0    6572811   6470442   6895954  \n1   14639393  15421171  15659928  \n2    7964061   8358840   9254155  \n3    6194193   6360006   6903557  \n4    9219905   9511984  10086411  \n5   11834449  11919879  12458865  \n6    9834420  10633223  11737035  \n7   11791791  13086323  13951932  \n8   27119611  34400559  33660626  \n9   12988359  15411576  17264926  \n10   9722977  10320963  11368712  \n11  11616445  12077865  12964064  \n12   6342887   6581690   6929461  \n13   6599338   6601301   7208466  \n14  12563689  12687691  12974835  \n15   7097180   7924791   8205053  \n16   6682570   7070350   7635677  ",
      "text/html": "<div>\n<style scoped>\n    .dataframe tbody tr th:only-of-type {\n        vertical-align: middle;\n    }\n\n    .dataframe tbody tr th {\n        vertical-align: top;\n    }\n\n    .dataframe thead th {\n        text-align: right;\n    }\n</style>\n<table border=\"1\" class=\"dataframe\">\n  <thead>\n    <tr style=\"text-align: right;\">\n      <th></th>\n      <th>region</th>\n      <th>y2012</th>\n      <th>y2013</th>\n      <th>y2014</th>\n      <th>y2015</th>\n      <th>y2016</th>\n      <th>y2017</th>\n      <th>y2018</th>\n      <th>y2019</th>\n      <th>y2020</th>\n    </tr>\n  </thead>\n  <tbody>\n    <tr>\n      <th>0</th>\n      <td>강원도</td>\n      <td>5017704</td>\n      <td>5073569</td>\n      <td>5244047</td>\n      <td>5697026</td>\n      <td>6288439</td>\n      <td>6610171</td>\n      <td>6572811</td>\n      <td>6470442</td>\n      <td>6895954</td>\n    </tr>\n    <tr>\n      <th>1</th>\n      <td>경기도</td>\n      <td>10268867</td>\n      <td>10721242</td>\n      <td>11194598</td>\n      <td>11861218</td>\n      <td>12768256</td>\n      <td>13887902</td>\n      <td>14639393</td>\n      <td>15421171</td>\n      <td>15659928</td>\n    </tr>\n    <tr>\n      <th>2</th>\n      <td>경상남도</td>\n      <td>7049242</td>\n      <td>7580157</td>\n      <td>8063321</td>\n      <td>8177517</td>\n      <td>8115336</td>\n      <td>8054941</td>\n      <td>7964061</td>\n      <td>8358840</td>\n      <td>9254155</td>\n    </tr>\n    <tr>\n      <th>3</th>\n      <td>경상북도</td>\n      <td>5154609</td>\n      <td>5510731</td>\n      <td>6015412</td>\n      <td>6365920</td>\n      <td>6152243</td>\n      <td>6295791</td>\n      <td>6194193</td>\n      <td>6360006</td>\n      <td>6903557</td>\n    </tr>\n    <tr>\n      <th>4</th>\n      <td>광주광역시</td>\n      <td>6159958</td>\n      <td>6387516</td>\n      <td>6988350</td>\n      <td>7665966</td>\n      <td>8172572</td>\n      <td>8712565</td>\n      <td>9219905</td>\n      <td>9511984</td>\n      <td>10086411</td>\n    </tr>\n    <tr>\n      <th>5</th>\n      <td>대구광역시</td>\n      <td>7630697</td>\n      <td>8177568</td>\n      <td>9304979</td>\n      <td>10538937</td>\n      <td>10625995</td>\n      <td>11316737</td>\n      <td>11834449</td>\n      <td>11919879</td>\n      <td>12458865</td>\n    </tr>\n    <tr>\n      <th>6</th>\n      <td>대전광역시</td>\n      <td>7994548</td>\n      <td>8229245</td>\n      <td>8379888</td>\n      <td>8445784</td>\n      <td>8762061</td>\n      <td>9130145</td>\n      <td>9834420</td>\n      <td>10633223</td>\n      <td>11737035</td>\n    </tr>\n    <tr>\n      <th>7</th>\n      <td>부산광역시</td>\n      <td>8955963</td>\n      <td>8681508</td>\n      <td>9182984</td>\n      <td>9920745</td>\n      <td>11047033</td>\n      <td>11730806</td>\n      <td>11791791</td>\n      <td>13086323</td>\n      <td>13951932</td>\n    </tr>\n    <tr>\n      <th>8</th>\n      <td>서울특별시</td>\n      <td>18912444</td>\n      <td>18659223</td>\n      <td>19201809</td>\n      <td>20206966</td>\n      <td>22287993</td>\n      <td>25421426</td>\n      <td>27119611</td>\n      <td>34400559</td>\n      <td>33660626</td>\n    </tr>\n    <tr>\n      <th>9</th>\n      <td>세종특별자치시</td>\n      <td>6241319</td>\n      <td>6168699</td>\n      <td>7381741</td>\n      <td>9044967</td>\n      <td>10432436</td>\n      <td>11415572</td>\n      <td>12988359</td>\n      <td>15411576</td>\n      <td>17264926</td>\n    </tr>\n    <tr>\n      <th>10</th>\n      <td>울산광역시</td>\n      <td>8549304</td>\n      <td>8525141</td>\n      <td>8730972</td>\n      <td>9411367</td>\n      <td>10178393</td>\n      <td>10272408</td>\n      <td>9722977</td>\n      <td>10320963</td>\n      <td>11368712</td>\n    </tr>\n    <tr>\n      <th>11</th>\n      <td>인천광역시</td>\n      <td>9012400</td>\n      <td>9044267</td>\n      <td>9559661</td>\n      <td>10024058</td>\n      <td>10746249</td>\n      <td>11223117</td>\n      <td>11616445</td>\n      <td>12077865</td>\n      <td>12964064</td>\n    </tr>\n    <tr>\n      <th>12</th>\n      <td>전라남도</td>\n      <td>4641582</td>\n      <td>5102109</td>\n      <td>5174298</td>\n      <td>5352663</td>\n      <td>5489391</td>\n      <td>6037071</td>\n      <td>6342887</td>\n      <td>6581690</td>\n      <td>6929461</td>\n    </tr>\n    <tr>\n      <th>13</th>\n      <td>전라북도</td>\n      <td>5305825</td>\n      <td>5742993</td>\n      <td>5828642</td>\n      <td>6007848</td>\n      <td>6150680</td>\n      <td>6337203</td>\n      <td>6599338</td>\n      <td>6601301</td>\n      <td>7208466</td>\n    </tr>\n    <tr>\n      <th>14</th>\n      <td>제주특별자치도</td>\n      <td>6960907</td>\n      <td>7490321</td>\n      <td>7921811</td>\n      <td>9639861</td>\n      <td>11929400</td>\n      <td>12991006</td>\n      <td>12563689</td>\n      <td>12687691</td>\n      <td>12974835</td>\n    </tr>\n    <tr>\n      <th>15</th>\n      <td>충청남도</td>\n      <td>6272607</td>\n      <td>6729618</td>\n      <td>7042029</td>\n      <td>7088800</td>\n      <td>6936223</td>\n      <td>6949639</td>\n      <td>7097180</td>\n      <td>7924791</td>\n      <td>8205053</td>\n    </tr>\n    <tr>\n      <th>16</th>\n      <td>충청북도</td>\n      <td>6468944</td>\n      <td>6342768</td>\n      <td>6717526</td>\n      <td>6803101</td>\n      <td>6644025</td>\n      <td>6724251</td>\n      <td>6682570</td>\n      <td>7070350</td>\n      <td>7635677</td>\n    </tr>\n  </tbody>\n</table>\n</div>"
     },
     "metadata": {},
     "execution_count": 24
    }
   ],
   "source": [
    "testD = pd.read_csv('sub-data-files/region_avg_price_per_pyung.csv')\n",
    "testD"
   ]
  },
  {
   "cell_type": "code",
   "execution_count": 25,
   "metadata": {},
   "outputs": [],
   "source": [
    "# 월별 지역별 평균 평당 가격\n",
    "def make_region_avg_price_per_pyung_month():\n",
    "    yyyymm = get_yyyymm()\n",
    "\n",
    "    for ym in yyyymm:\n",
    "\n",
    "        query = f\"\"\"\n",
    "            SELECT adp.region, round(AVG(adp.price_per_pyung)) AS ym{ym}\n",
    "            FROM (SELECT A.region, (A.contract_price / (A.apt_size / 3.3)) price_per_pyung\n",
    "                  FROM apt_deal_price A\n",
    "                  WHERE to_char(A.contract_date, 'YYYYMM') = '{ym}') adp\n",
    "            GROUP BY adp.region\n",
    "            ORDER BY adp.region ASC\n",
    "            \"\"\"\n",
    "\n",
    "        queD = get_data_from_db(query)\n",
    "\n",
    "        if ym == '201208':\n",
    "            dataD = queD.copy()\n",
    "        else:\n",
    "            dataD = dataD.merge(queD, how='left')\n",
    "\n",
    "    dataD.info()\n",
    "    lower_col = dataD.columns.values.tolist()\n",
    "    dataD.columns = [ l.lower() for l in lower_col ]\n",
    "    dataD.to_csv('sub-data-files/region_avg_price_per_pyung_month.csv', index=False, encoding='utf-8-sig')"
   ]
  },
  {
   "cell_type": "code",
   "execution_count": 26,
   "metadata": {
    "tags": []
   },
   "outputs": [],
   "source": [
    "# make_region_avg_price_per_pyung_month()"
   ]
  },
  {
   "cell_type": "code",
   "execution_count": 27,
   "metadata": {},
   "outputs": [
    {
     "output_type": "execute_result",
     "data": {
      "text/plain": "  region  ym201208  ym201209  ym201210  ym201211  ym201212  ym201301  \\\n0    강원도   5119250   5095286   4998207   4991621   4938578   5095420   \n1    경기도   9775160  10125170  10421214  10398610  10409208  10238318   \n2   경상남도   6881622   7086819   7188409   7023321   6989572   7291461   \n3   경상북도   5103845   5202156   5234563   5226411   4992737   5261965   \n4  광주광역시   5988665   6194381   6151116   6209057   6204378   6202909   \n\n   ym201302  ym201303  ym201304  ...  ym201910  ym201911  ym201912  ym202001  \\\n0   5105624   4545184   5075322  ...   6506124   6513893   6946799   6742633   \n1  10351601  10466027  10549645  ...  16601336  17185471  16412237  15685046   \n2   7225936   7359711   7608994  ...   9037953   9391425   8759668   9078625   \n3   5331156   5312663   5281205  ...   6669935   6807977   6744104   6796241   \n4   6242817   6222630   6185710  ...   9712906   9993954  10268687  10447595   \n\n   ym202002  ym202003  ym202004  ym202005  ym202006  ym202007  \n0   6690813   6620664   6526321   6865083   7441503   7147556  \n1  15325904  14077135  13613289  14859319  17084424  17185610  \n2   8667616   8114775   8141990   8940838  10604776   9793935  \n3   6780109   6594742   6362860   7034261   7428216   6831766  \n4  10017985   9695587   9420916   9720282  10538647  10454689  \n\n[5 rows x 97 columns]",
      "text/html": "<div>\n<style scoped>\n    .dataframe tbody tr th:only-of-type {\n        vertical-align: middle;\n    }\n\n    .dataframe tbody tr th {\n        vertical-align: top;\n    }\n\n    .dataframe thead th {\n        text-align: right;\n    }\n</style>\n<table border=\"1\" class=\"dataframe\">\n  <thead>\n    <tr style=\"text-align: right;\">\n      <th></th>\n      <th>region</th>\n      <th>ym201208</th>\n      <th>ym201209</th>\n      <th>ym201210</th>\n      <th>ym201211</th>\n      <th>ym201212</th>\n      <th>ym201301</th>\n      <th>ym201302</th>\n      <th>ym201303</th>\n      <th>ym201304</th>\n      <th>...</th>\n      <th>ym201910</th>\n      <th>ym201911</th>\n      <th>ym201912</th>\n      <th>ym202001</th>\n      <th>ym202002</th>\n      <th>ym202003</th>\n      <th>ym202004</th>\n      <th>ym202005</th>\n      <th>ym202006</th>\n      <th>ym202007</th>\n    </tr>\n  </thead>\n  <tbody>\n    <tr>\n      <th>0</th>\n      <td>강원도</td>\n      <td>5119250</td>\n      <td>5095286</td>\n      <td>4998207</td>\n      <td>4991621</td>\n      <td>4938578</td>\n      <td>5095420</td>\n      <td>5105624</td>\n      <td>4545184</td>\n      <td>5075322</td>\n      <td>...</td>\n      <td>6506124</td>\n      <td>6513893</td>\n      <td>6946799</td>\n      <td>6742633</td>\n      <td>6690813</td>\n      <td>6620664</td>\n      <td>6526321</td>\n      <td>6865083</td>\n      <td>7441503</td>\n      <td>7147556</td>\n    </tr>\n    <tr>\n      <th>1</th>\n      <td>경기도</td>\n      <td>9775160</td>\n      <td>10125170</td>\n      <td>10421214</td>\n      <td>10398610</td>\n      <td>10409208</td>\n      <td>10238318</td>\n      <td>10351601</td>\n      <td>10466027</td>\n      <td>10549645</td>\n      <td>...</td>\n      <td>16601336</td>\n      <td>17185471</td>\n      <td>16412237</td>\n      <td>15685046</td>\n      <td>15325904</td>\n      <td>14077135</td>\n      <td>13613289</td>\n      <td>14859319</td>\n      <td>17084424</td>\n      <td>17185610</td>\n    </tr>\n    <tr>\n      <th>2</th>\n      <td>경상남도</td>\n      <td>6881622</td>\n      <td>7086819</td>\n      <td>7188409</td>\n      <td>7023321</td>\n      <td>6989572</td>\n      <td>7291461</td>\n      <td>7225936</td>\n      <td>7359711</td>\n      <td>7608994</td>\n      <td>...</td>\n      <td>9037953</td>\n      <td>9391425</td>\n      <td>8759668</td>\n      <td>9078625</td>\n      <td>8667616</td>\n      <td>8114775</td>\n      <td>8141990</td>\n      <td>8940838</td>\n      <td>10604776</td>\n      <td>9793935</td>\n    </tr>\n    <tr>\n      <th>3</th>\n      <td>경상북도</td>\n      <td>5103845</td>\n      <td>5202156</td>\n      <td>5234563</td>\n      <td>5226411</td>\n      <td>4992737</td>\n      <td>5261965</td>\n      <td>5331156</td>\n      <td>5312663</td>\n      <td>5281205</td>\n      <td>...</td>\n      <td>6669935</td>\n      <td>6807977</td>\n      <td>6744104</td>\n      <td>6796241</td>\n      <td>6780109</td>\n      <td>6594742</td>\n      <td>6362860</td>\n      <td>7034261</td>\n      <td>7428216</td>\n      <td>6831766</td>\n    </tr>\n    <tr>\n      <th>4</th>\n      <td>광주광역시</td>\n      <td>5988665</td>\n      <td>6194381</td>\n      <td>6151116</td>\n      <td>6209057</td>\n      <td>6204378</td>\n      <td>6202909</td>\n      <td>6242817</td>\n      <td>6222630</td>\n      <td>6185710</td>\n      <td>...</td>\n      <td>9712906</td>\n      <td>9993954</td>\n      <td>10268687</td>\n      <td>10447595</td>\n      <td>10017985</td>\n      <td>9695587</td>\n      <td>9420916</td>\n      <td>9720282</td>\n      <td>10538647</td>\n      <td>10454689</td>\n    </tr>\n  </tbody>\n</table>\n<p>5 rows × 97 columns</p>\n</div>"
     },
     "metadata": {},
     "execution_count": 27
    }
   ],
   "source": [
    "testD = pd.read_csv('sub-data-files/region_avg_price_per_pyung_month.csv')\n",
    "testD.head(5)\n"
   ]
  },
  {
   "cell_type": "code",
   "execution_count": 28,
   "metadata": {},
   "outputs": [],
   "source": [
    "# 지역별 사이즈별 평균 평당 가격\n",
    "def make_region_size_per_pyung(year = 2012):\n",
    "    for cond in size_conditions2:\n",
    "\n",
    "        query = f\"\"\"\n",
    "            SELECT adp.region, round(AVG(adp.price_per_pyung)) AS \"{cond[0]}\"\n",
    "            FROM (SELECT A.region, (A.contract_price / (A.apt_size / 3.3)) price_per_pyung\n",
    "                  FROM apt_deal_price A\n",
    "                  WHERE to_char(A.contract_date, 'YYYY') = '{year}' AND {cond[1]}) adp\n",
    "            GROUP BY adp.region\n",
    "            ORDER BY adp.region ASC\n",
    "            \"\"\"\n",
    "\n",
    "        queD = get_data_from_db(query)\n",
    "\n",
    "        if cond[0] == 'under_50':\n",
    "            dataD = queD.copy()\n",
    "        else:\n",
    "            dataD = dataD.merge(queD, how='left')\n",
    "        \n",
    "    dataD.fillna(0, inplace=True)\n",
    "    dataD = dataD.astype( \\\n",
    "        {'under_50':'int64', '50_60':'int64', '60_85':'int64',\n",
    "        '85_100':'int64', '100_135':'int64', '135_over':'int64'})\n",
    "    \n",
    "    # dataD.info()\n",
    "\n",
    "    dataD.set_index('REGION', inplace=True)\n",
    "    data_list = dataD.values.reshape(len(region_table1) * len(size_conditions2), )\n",
    "\n",
    "    return data_list"
   ]
  },
  {
   "cell_type": "code",
   "execution_count": 29,
   "metadata": {},
   "outputs": [],
   "source": [
    "# 년도별 지역별 사이즈별 평균 평당 가격 데이터 만들기\n",
    "def complete_region_size_avg_price_per_pyung():\n",
    "\n",
    "    # 최종 데이터 테이블 형태 만들기\n",
    "    row_count = len(region_table1) * len(size_conditions2)\n",
    "    col_count = len(col_apt_size_data)\n",
    "    allD = pd.DataFrame(np.zeros((row_count, col_count), dtype='int64'), columns=col_apt_size_data)\n",
    "\n",
    "    size_list = [ x[0] for x in size_conditions ]\n",
    "    allD['apt_size'] = size_list * len(region_table1)\n",
    "\n",
    "    region_list = []\n",
    "    for r in region_table1:\n",
    "        region_list.extend([r] * len(size_conditions2))\n",
    "    allD['region'] = region_list\n",
    "\n",
    "    # 년도별 데이터 수집\n",
    "    for year in time_table2:\n",
    "        data_list = make_region_size_per_pyung(year)\n",
    "        allD['y' + year] = data_list\n",
    "        \n",
    "    allD.info()\n",
    "    allD.to_csv('sub-data-files/region_size_avg_price_per_pyung.csv', index=False, encoding='utf-8-sig')"
   ]
  },
  {
   "cell_type": "code",
   "execution_count": 30,
   "metadata": {
    "tags": []
   },
   "outputs": [],
   "source": [
    "# complete_region_size_avg_price_per_pyung()"
   ]
  },
  {
   "cell_type": "code",
   "execution_count": 31,
   "metadata": {},
   "outputs": [
    {
     "output_type": "execute_result",
     "data": {
      "text/plain": "   region  apt_size     y2012     y2013     y2014     y2015     y2016  \\\n0     강원도  under_50   3834824   3930871   4194376   4435724   5019125   \n1     강원도     50_60   5035603   5157185   5259505   5625213   6235641   \n2     강원도     60_85   5671159   5888292   5937993   6421464   7077037   \n3     강원도    85_100   6053554   6116621   6405393   6627079   7321626   \n4     강원도   100_135   6059070   5874995   6047482   6335626   6733753   \n5     강원도  135_over   6009470   5435167   5699527   5954606   6343648   \n6     경기도  under_50  10062621  10766882  11287985  12290707  13432154   \n7     경기도     50_60   9987100  10606181  11227112  11981337  12906303   \n8     경기도     60_85  10210120  10584366  11038438  11670396  12565168   \n9     경기도    85_100  10522374  11831791  11778145  12440266  13726847   \n10    경기도   100_135  11045072  11267439  11552981  11873022  12587492   \n11    경기도  135_over  11248392  10743649  10862517  11257425  11597836   \n\n       y2017     y2018     y2019     y2020  \n0    5274994   5190360   4847307   4899397  \n1    6711159   6508426   6126538   6428878  \n2    7371753   7331259   7408028   8041103  \n3    7739430   8348195   7355994   8352011  \n4    7191388   7167794   6703160   7244900  \n5    6945226   7084828   6577520   6897619  \n6   14414160  15147142  14816804  15911273  \n7   14069483  14968033  15826207  16390992  \n8   13715817  14502582  15359781  15441251  \n9   14661255  15657482  17870889  17327268  \n10  13808392  14343570  15404152  14971804  \n11  12312264  12872036  13509718  13476191  ",
      "text/html": "<div>\n<style scoped>\n    .dataframe tbody tr th:only-of-type {\n        vertical-align: middle;\n    }\n\n    .dataframe tbody tr th {\n        vertical-align: top;\n    }\n\n    .dataframe thead th {\n        text-align: right;\n    }\n</style>\n<table border=\"1\" class=\"dataframe\">\n  <thead>\n    <tr style=\"text-align: right;\">\n      <th></th>\n      <th>region</th>\n      <th>apt_size</th>\n      <th>y2012</th>\n      <th>y2013</th>\n      <th>y2014</th>\n      <th>y2015</th>\n      <th>y2016</th>\n      <th>y2017</th>\n      <th>y2018</th>\n      <th>y2019</th>\n      <th>y2020</th>\n    </tr>\n  </thead>\n  <tbody>\n    <tr>\n      <th>0</th>\n      <td>강원도</td>\n      <td>under_50</td>\n      <td>3834824</td>\n      <td>3930871</td>\n      <td>4194376</td>\n      <td>4435724</td>\n      <td>5019125</td>\n      <td>5274994</td>\n      <td>5190360</td>\n      <td>4847307</td>\n      <td>4899397</td>\n    </tr>\n    <tr>\n      <th>1</th>\n      <td>강원도</td>\n      <td>50_60</td>\n      <td>5035603</td>\n      <td>5157185</td>\n      <td>5259505</td>\n      <td>5625213</td>\n      <td>6235641</td>\n      <td>6711159</td>\n      <td>6508426</td>\n      <td>6126538</td>\n      <td>6428878</td>\n    </tr>\n    <tr>\n      <th>2</th>\n      <td>강원도</td>\n      <td>60_85</td>\n      <td>5671159</td>\n      <td>5888292</td>\n      <td>5937993</td>\n      <td>6421464</td>\n      <td>7077037</td>\n      <td>7371753</td>\n      <td>7331259</td>\n      <td>7408028</td>\n      <td>8041103</td>\n    </tr>\n    <tr>\n      <th>3</th>\n      <td>강원도</td>\n      <td>85_100</td>\n      <td>6053554</td>\n      <td>6116621</td>\n      <td>6405393</td>\n      <td>6627079</td>\n      <td>7321626</td>\n      <td>7739430</td>\n      <td>8348195</td>\n      <td>7355994</td>\n      <td>8352011</td>\n    </tr>\n    <tr>\n      <th>4</th>\n      <td>강원도</td>\n      <td>100_135</td>\n      <td>6059070</td>\n      <td>5874995</td>\n      <td>6047482</td>\n      <td>6335626</td>\n      <td>6733753</td>\n      <td>7191388</td>\n      <td>7167794</td>\n      <td>6703160</td>\n      <td>7244900</td>\n    </tr>\n    <tr>\n      <th>5</th>\n      <td>강원도</td>\n      <td>135_over</td>\n      <td>6009470</td>\n      <td>5435167</td>\n      <td>5699527</td>\n      <td>5954606</td>\n      <td>6343648</td>\n      <td>6945226</td>\n      <td>7084828</td>\n      <td>6577520</td>\n      <td>6897619</td>\n    </tr>\n    <tr>\n      <th>6</th>\n      <td>경기도</td>\n      <td>under_50</td>\n      <td>10062621</td>\n      <td>10766882</td>\n      <td>11287985</td>\n      <td>12290707</td>\n      <td>13432154</td>\n      <td>14414160</td>\n      <td>15147142</td>\n      <td>14816804</td>\n      <td>15911273</td>\n    </tr>\n    <tr>\n      <th>7</th>\n      <td>경기도</td>\n      <td>50_60</td>\n      <td>9987100</td>\n      <td>10606181</td>\n      <td>11227112</td>\n      <td>11981337</td>\n      <td>12906303</td>\n      <td>14069483</td>\n      <td>14968033</td>\n      <td>15826207</td>\n      <td>16390992</td>\n    </tr>\n    <tr>\n      <th>8</th>\n      <td>경기도</td>\n      <td>60_85</td>\n      <td>10210120</td>\n      <td>10584366</td>\n      <td>11038438</td>\n      <td>11670396</td>\n      <td>12565168</td>\n      <td>13715817</td>\n      <td>14502582</td>\n      <td>15359781</td>\n      <td>15441251</td>\n    </tr>\n    <tr>\n      <th>9</th>\n      <td>경기도</td>\n      <td>85_100</td>\n      <td>10522374</td>\n      <td>11831791</td>\n      <td>11778145</td>\n      <td>12440266</td>\n      <td>13726847</td>\n      <td>14661255</td>\n      <td>15657482</td>\n      <td>17870889</td>\n      <td>17327268</td>\n    </tr>\n    <tr>\n      <th>10</th>\n      <td>경기도</td>\n      <td>100_135</td>\n      <td>11045072</td>\n      <td>11267439</td>\n      <td>11552981</td>\n      <td>11873022</td>\n      <td>12587492</td>\n      <td>13808392</td>\n      <td>14343570</td>\n      <td>15404152</td>\n      <td>14971804</td>\n    </tr>\n    <tr>\n      <th>11</th>\n      <td>경기도</td>\n      <td>135_over</td>\n      <td>11248392</td>\n      <td>10743649</td>\n      <td>10862517</td>\n      <td>11257425</td>\n      <td>11597836</td>\n      <td>12312264</td>\n      <td>12872036</td>\n      <td>13509718</td>\n      <td>13476191</td>\n    </tr>\n  </tbody>\n</table>\n</div>"
     },
     "metadata": {},
     "execution_count": 31
    }
   ],
   "source": [
    "testD = pd.read_csv('sub-data-files/region_size_avg_price_per_pyung.csv')\n",
    "testD.head(12)"
   ]
  },
  {
   "cell_type": "code",
   "execution_count": 32,
   "metadata": {},
   "outputs": [],
   "source": [
    "# 월별 지역별 사이즈별 평균 평당 가격\n",
    "def make_region_size_per_pyung_month(ym = 201208):\n",
    "    for cond in size_conditions2:\n",
    "\n",
    "        query = f\"\"\"\n",
    "            SELECT adp.region, round(AVG(adp.price_per_pyung)) AS \"{cond[0]}\"\n",
    "            FROM (SELECT A.region, (A.contract_price / (A.apt_size / 3.3)) price_per_pyung\n",
    "                  FROM apt_deal_price A\n",
    "                  WHERE to_char(A.contract_date, 'YYYYMM') = '{ym}' AND {cond[1]}) adp\n",
    "            GROUP BY adp.region\n",
    "            ORDER BY adp.region ASC\n",
    "            \"\"\"\n",
    "\n",
    "        queD = get_data_from_db(query)\n",
    "\n",
    "        if cond[0] == 'under_50':\n",
    "            dataD = queD.copy()\n",
    "        else:\n",
    "            dataD = dataD.merge(queD, how='left')\n",
    "    \n",
    "    # dataD empty 처리\n",
    "\n",
    "    dataD.fillna(0, inplace=True)\n",
    "    dataD = dataD.astype( \\\n",
    "        {'under_50':'int64', '50_60':'int64', '60_85':'int64',\n",
    "        '85_100':'int64', '100_135':'int64', '135_over':'int64'})\n",
    "    \n",
    "    # dataD.info()\n",
    "\n",
    "    dataD.set_index('REGION', inplace=True)\n",
    "    data_list = dataD.values.reshape(len(region_table1) * len(size_conditions2), )\n",
    "\n",
    "    return data_list"
   ]
  },
  {
   "cell_type": "code",
   "execution_count": 33,
   "metadata": {},
   "outputs": [],
   "source": [
    "# 월별 지역별 사이즈별 평균 평당 가격 데이터 만들기\n",
    "def complete_region_size_avg_price_per_pyung_month():\n",
    "    yyyymm = get_yyyymm()\n",
    "    col_ym = [ 'ym' + y for y in yyyymm ]\n",
    "    col_apt_size_month = ['region', 'apt_size']\n",
    "    col_apt_size_month += col_ym\n",
    "\n",
    "    # 최종 데이터 테이블 형태 만들기\n",
    "    row_count = len(region_table1) * len(size_conditions2)\n",
    "    col_count = len(col_apt_size_month)\n",
    "    allD = pd.DataFrame(np.zeros((row_count, col_count), dtype='int64'), columns=col_apt_size_month)\n",
    "\n",
    "    size_list = [ x[0] for x in size_conditions2 ]\n",
    "    allD['apt_size'] = size_list * len(region_table1)\n",
    "\n",
    "    region_list = []\n",
    "    for r in region_table1:\n",
    "        region_list.extend([r] * len(size_conditions2))\n",
    "    allD['region'] = region_list\n",
    "\n",
    "    # 년도별 데이터 수집\n",
    "    for ym in yyyymm:\n",
    "        data_list = make_region_size_per_pyung_month(ym)\n",
    "        allD['ym' + ym] = data_list\n",
    "        \n",
    "    allD.info()\n",
    "    allD.to_csv('sub-data-files/region_size_avg_price_per_pyung_month.csv', index=False, encoding='utf-8-sig')"
   ]
  },
  {
   "cell_type": "code",
   "execution_count": 34,
   "metadata": {
    "tags": []
   },
   "outputs": [],
   "source": [
    "# complete_region_size_avg_price_per_pyung_month()"
   ]
  },
  {
   "cell_type": "code",
   "execution_count": 35,
   "metadata": {},
   "outputs": [
    {
     "output_type": "execute_result",
     "data": {
      "text/plain": "   region  apt_size  ym201208  ym201209  ym201210  ym201211  ym201212  \\\n0     강원도  under_50   4100543   3831493   3749504   3873928   3737606   \n1     강원도     50_60   4728273   5033243   4992276   5113644   5237412   \n2     강원도     60_85   5917922   5619339   5654734   5634440   5596408   \n3     강원도    85_100   6161315   6335932   6578804   5530117   5502024   \n4     강원도   100_135   6243071   6183028   6017450   5996006   5928819   \n5     강원도  135_over   5966271   6510079   5605203   5755194   6093273   \n6     경기도  under_50   9680685   9917403  10258948  10290641  10012240   \n7     경기도     50_60   9599046   9936279  10281836  10052954   9861034   \n8     경기도     60_85   9555021  10057183  10340940  10364811  10439033   \n9     경기도    85_100  10756021  10659672  10505660  10642336  10084796   \n10    경기도   100_135  10639154  10914295  11004625  11073194  11350580   \n11    경기도  135_over  11760383  10441956  11277829  11476608  11447706   \n\n    ym201301  ym201302  ym201303  ...  ym201910  ym201911  ym201912  ym202001  \\\n0    4051133   4125851   3501822  ...   4609876   4507726   4878141   4839482   \n1    4998976   4990708   5196714  ...   6147934   6077098   6311076   6179900   \n2    5741708   5702146   5694701  ...   7440279   7533972   7818561   7743580   \n3    5109969   6811836   5803805  ...   9244756   7601284   7844000   7154628   \n4    5933961   5736283   5676785  ...   6646343   7331529   6740437   6876742   \n5    5642685   5910573   5704797  ...   7349712   6030985   6272126   7058540   \n6   10397915  10574241  10478348  ...  15611293  16201234  15855971  15735733   \n7   10045181  10046882  10286979  ...  16917156  17383356  17268302  16763640   \n8   10111759  10325187  10437031  ...  16594629  17355689  16389466  15575620   \n9    9846498  10480973  10367531  ...  18608551  20655231  17639727  16112025   \n10  11077321  10808173  11153617  ...  16805513  17073512  15763849  14449517   \n11  10521662  10906833  10060243  ...  14851179  14241363  13710674  12071972   \n\n    ym202002  ym202003  ym202004  ym202005  ym202006  ym202007  \n0    4811668   4842320   4779160   4757371   5144811   5051655  \n1    6206069   6134343   6256045   6416735   6957298   6646247  \n2    7781692   7772065   7471970   8151192   8636073   8380033  \n3    8538528   7811454   7690386   7502829   9096376   9367920  \n4    7307654   6896854   6951239   7070545   7399136   8027998  \n5    7314592   6609761   6511298   7027750   7101921   6601820  \n6   15706315  14860943  13938903  15445554  17624586  16810373  \n7   16273083  14742257  14369330  15403201  17636631  17731350  \n8   15103650  13815465  13353314  14577056  16785031  17091120  \n9   16189588  14371161  15306959  16819249  19746030  20571916  \n10  14302557  13225839  12617464  14365377  16705157  16754909  \n11  12700128  11831429  11797920  12907980  15352820  14761171  \n\n[12 rows x 98 columns]",
      "text/html": "<div>\n<style scoped>\n    .dataframe tbody tr th:only-of-type {\n        vertical-align: middle;\n    }\n\n    .dataframe tbody tr th {\n        vertical-align: top;\n    }\n\n    .dataframe thead th {\n        text-align: right;\n    }\n</style>\n<table border=\"1\" class=\"dataframe\">\n  <thead>\n    <tr style=\"text-align: right;\">\n      <th></th>\n      <th>region</th>\n      <th>apt_size</th>\n      <th>ym201208</th>\n      <th>ym201209</th>\n      <th>ym201210</th>\n      <th>ym201211</th>\n      <th>ym201212</th>\n      <th>ym201301</th>\n      <th>ym201302</th>\n      <th>ym201303</th>\n      <th>...</th>\n      <th>ym201910</th>\n      <th>ym201911</th>\n      <th>ym201912</th>\n      <th>ym202001</th>\n      <th>ym202002</th>\n      <th>ym202003</th>\n      <th>ym202004</th>\n      <th>ym202005</th>\n      <th>ym202006</th>\n      <th>ym202007</th>\n    </tr>\n  </thead>\n  <tbody>\n    <tr>\n      <th>0</th>\n      <td>강원도</td>\n      <td>under_50</td>\n      <td>4100543</td>\n      <td>3831493</td>\n      <td>3749504</td>\n      <td>3873928</td>\n      <td>3737606</td>\n      <td>4051133</td>\n      <td>4125851</td>\n      <td>3501822</td>\n      <td>...</td>\n      <td>4609876</td>\n      <td>4507726</td>\n      <td>4878141</td>\n      <td>4839482</td>\n      <td>4811668</td>\n      <td>4842320</td>\n      <td>4779160</td>\n      <td>4757371</td>\n      <td>5144811</td>\n      <td>5051655</td>\n    </tr>\n    <tr>\n      <th>1</th>\n      <td>강원도</td>\n      <td>50_60</td>\n      <td>4728273</td>\n      <td>5033243</td>\n      <td>4992276</td>\n      <td>5113644</td>\n      <td>5237412</td>\n      <td>4998976</td>\n      <td>4990708</td>\n      <td>5196714</td>\n      <td>...</td>\n      <td>6147934</td>\n      <td>6077098</td>\n      <td>6311076</td>\n      <td>6179900</td>\n      <td>6206069</td>\n      <td>6134343</td>\n      <td>6256045</td>\n      <td>6416735</td>\n      <td>6957298</td>\n      <td>6646247</td>\n    </tr>\n    <tr>\n      <th>2</th>\n      <td>강원도</td>\n      <td>60_85</td>\n      <td>5917922</td>\n      <td>5619339</td>\n      <td>5654734</td>\n      <td>5634440</td>\n      <td>5596408</td>\n      <td>5741708</td>\n      <td>5702146</td>\n      <td>5694701</td>\n      <td>...</td>\n      <td>7440279</td>\n      <td>7533972</td>\n      <td>7818561</td>\n      <td>7743580</td>\n      <td>7781692</td>\n      <td>7772065</td>\n      <td>7471970</td>\n      <td>8151192</td>\n      <td>8636073</td>\n      <td>8380033</td>\n    </tr>\n    <tr>\n      <th>3</th>\n      <td>강원도</td>\n      <td>85_100</td>\n      <td>6161315</td>\n      <td>6335932</td>\n      <td>6578804</td>\n      <td>5530117</td>\n      <td>5502024</td>\n      <td>5109969</td>\n      <td>6811836</td>\n      <td>5803805</td>\n      <td>...</td>\n      <td>9244756</td>\n      <td>7601284</td>\n      <td>7844000</td>\n      <td>7154628</td>\n      <td>8538528</td>\n      <td>7811454</td>\n      <td>7690386</td>\n      <td>7502829</td>\n      <td>9096376</td>\n      <td>9367920</td>\n    </tr>\n    <tr>\n      <th>4</th>\n      <td>강원도</td>\n      <td>100_135</td>\n      <td>6243071</td>\n      <td>6183028</td>\n      <td>6017450</td>\n      <td>5996006</td>\n      <td>5928819</td>\n      <td>5933961</td>\n      <td>5736283</td>\n      <td>5676785</td>\n      <td>...</td>\n      <td>6646343</td>\n      <td>7331529</td>\n      <td>6740437</td>\n      <td>6876742</td>\n      <td>7307654</td>\n      <td>6896854</td>\n      <td>6951239</td>\n      <td>7070545</td>\n      <td>7399136</td>\n      <td>8027998</td>\n    </tr>\n    <tr>\n      <th>5</th>\n      <td>강원도</td>\n      <td>135_over</td>\n      <td>5966271</td>\n      <td>6510079</td>\n      <td>5605203</td>\n      <td>5755194</td>\n      <td>6093273</td>\n      <td>5642685</td>\n      <td>5910573</td>\n      <td>5704797</td>\n      <td>...</td>\n      <td>7349712</td>\n      <td>6030985</td>\n      <td>6272126</td>\n      <td>7058540</td>\n      <td>7314592</td>\n      <td>6609761</td>\n      <td>6511298</td>\n      <td>7027750</td>\n      <td>7101921</td>\n      <td>6601820</td>\n    </tr>\n    <tr>\n      <th>6</th>\n      <td>경기도</td>\n      <td>under_50</td>\n      <td>9680685</td>\n      <td>9917403</td>\n      <td>10258948</td>\n      <td>10290641</td>\n      <td>10012240</td>\n      <td>10397915</td>\n      <td>10574241</td>\n      <td>10478348</td>\n      <td>...</td>\n      <td>15611293</td>\n      <td>16201234</td>\n      <td>15855971</td>\n      <td>15735733</td>\n      <td>15706315</td>\n      <td>14860943</td>\n      <td>13938903</td>\n      <td>15445554</td>\n      <td>17624586</td>\n      <td>16810373</td>\n    </tr>\n    <tr>\n      <th>7</th>\n      <td>경기도</td>\n      <td>50_60</td>\n      <td>9599046</td>\n      <td>9936279</td>\n      <td>10281836</td>\n      <td>10052954</td>\n      <td>9861034</td>\n      <td>10045181</td>\n      <td>10046882</td>\n      <td>10286979</td>\n      <td>...</td>\n      <td>16917156</td>\n      <td>17383356</td>\n      <td>17268302</td>\n      <td>16763640</td>\n      <td>16273083</td>\n      <td>14742257</td>\n      <td>14369330</td>\n      <td>15403201</td>\n      <td>17636631</td>\n      <td>17731350</td>\n    </tr>\n    <tr>\n      <th>8</th>\n      <td>경기도</td>\n      <td>60_85</td>\n      <td>9555021</td>\n      <td>10057183</td>\n      <td>10340940</td>\n      <td>10364811</td>\n      <td>10439033</td>\n      <td>10111759</td>\n      <td>10325187</td>\n      <td>10437031</td>\n      <td>...</td>\n      <td>16594629</td>\n      <td>17355689</td>\n      <td>16389466</td>\n      <td>15575620</td>\n      <td>15103650</td>\n      <td>13815465</td>\n      <td>13353314</td>\n      <td>14577056</td>\n      <td>16785031</td>\n      <td>17091120</td>\n    </tr>\n    <tr>\n      <th>9</th>\n      <td>경기도</td>\n      <td>85_100</td>\n      <td>10756021</td>\n      <td>10659672</td>\n      <td>10505660</td>\n      <td>10642336</td>\n      <td>10084796</td>\n      <td>9846498</td>\n      <td>10480973</td>\n      <td>10367531</td>\n      <td>...</td>\n      <td>18608551</td>\n      <td>20655231</td>\n      <td>17639727</td>\n      <td>16112025</td>\n      <td>16189588</td>\n      <td>14371161</td>\n      <td>15306959</td>\n      <td>16819249</td>\n      <td>19746030</td>\n      <td>20571916</td>\n    </tr>\n    <tr>\n      <th>10</th>\n      <td>경기도</td>\n      <td>100_135</td>\n      <td>10639154</td>\n      <td>10914295</td>\n      <td>11004625</td>\n      <td>11073194</td>\n      <td>11350580</td>\n      <td>11077321</td>\n      <td>10808173</td>\n      <td>11153617</td>\n      <td>...</td>\n      <td>16805513</td>\n      <td>17073512</td>\n      <td>15763849</td>\n      <td>14449517</td>\n      <td>14302557</td>\n      <td>13225839</td>\n      <td>12617464</td>\n      <td>14365377</td>\n      <td>16705157</td>\n      <td>16754909</td>\n    </tr>\n    <tr>\n      <th>11</th>\n      <td>경기도</td>\n      <td>135_over</td>\n      <td>11760383</td>\n      <td>10441956</td>\n      <td>11277829</td>\n      <td>11476608</td>\n      <td>11447706</td>\n      <td>10521662</td>\n      <td>10906833</td>\n      <td>10060243</td>\n      <td>...</td>\n      <td>14851179</td>\n      <td>14241363</td>\n      <td>13710674</td>\n      <td>12071972</td>\n      <td>12700128</td>\n      <td>11831429</td>\n      <td>11797920</td>\n      <td>12907980</td>\n      <td>15352820</td>\n      <td>14761171</td>\n    </tr>\n  </tbody>\n</table>\n<p>12 rows × 98 columns</p>\n</div>"
     },
     "metadata": {},
     "execution_count": 35
    }
   ],
   "source": [
    "testD = pd.read_csv('sub-data-files/region_size_avg_price_per_pyung_month.csv')\n",
    "testD.head(12)"
   ]
  },
  {
   "cell_type": "markdown",
   "metadata": {},
   "source": [
    "## 2019년 아파트 브랜드 순위\n",
    "고객의 선호도, 투자가치 지표, 인지도, 주거시설 만족도, 시공 건설사\n",
    "\n",
    "1. gs건설 : 자이\n",
    "2. 현대건설 : 힐스테이트\n",
    "3. 삼성물산 : 래미안\n",
    "4. 대우건설 : 푸르지오\n",
    "5. 포스코건설 : 더샵\n",
    "6. 롯데건설 : 롯데캐슬\n",
    "7. 대림산업 : E편한세상\n",
    "8. 현대산업개발 : 아이파크\n",
    "9. 우미건설 : 린\n",
    "10. 두산건설 : 위브\n"
   ]
  },
  {
   "cell_type": "markdown",
   "metadata": {},
   "source": [
    "## 작업 아파트 브랜드 \n",
    "1. gs건설 : 자이\n",
    "2. 현대건설 : 힐스테이트\n",
    "3. 삼성물산 : 래미안\n",
    "4. 대우건설 : 푸르지오\n",
    "6. 롯데건설 : 롯데캐슬"
   ]
  },
  {
   "cell_type": "code",
   "execution_count": 70,
   "metadata": {},
   "outputs": [],
   "source": [
    "# 자이 아파트 년도별 지역별 매매건수\n",
    "def make_xi_region_deal_count():\n",
    "\n",
    "    dataD = pd.DataFrame({'REGION': region_table1})\n",
    "\n",
    "    for year in time_table2:\n",
    "\n",
    "        query = f\"\"\"\n",
    "            SELECT adp.region, COUNT(*) AS Y{year}\n",
    "            FROM (SELECT *\n",
    "                  FROM apt_deal_price A\n",
    "                  WHERE A.apt_name LIKE '%자이%') adp\n",
    "            WHERE to_char(adp.contract_date, 'YYYY') = '{year}' AND \n",
    "                  adp.apt_name NOT IN ('롯데캐슬자이언트','호등 자이젠 아파트(1665-9)',\n",
    "                                       '효자이지움','영진자이온','세왕자이연','사곡영진자이온1단지',\n",
    "                                       '자이온더퍼스트','사곡영진자이온2단지')\n",
    "            GROUP BY adp.region\n",
    "            ORDER BY adp.region ASC\n",
    "            \"\"\"\n",
    "\n",
    "        queD = get_data_from_db(query)\n",
    "        dataD = dataD.merge(queD, how='left')\n",
    "\n",
    "    lower_col = dataD.columns.values.tolist()\n",
    "    dataD.columns = [ l.lower() for l in lower_col ]\n",
    "\n",
    "    dataD.fillna(0, inplace=True)\n",
    "\n",
    "    dataD.set_index('region', inplace=True)\n",
    "    dataD = dataD.astype('int64')\n",
    "    dataD.reset_index(inplace=True)\n",
    "   \n",
    "    dataD.info()\n",
    "    dataD.to_csv('sub-data-files/xi_region_deal_count.csv', index=False, encoding='utf-8-sig')"
   ]
  },
  {
   "cell_type": "code",
   "execution_count": 37,
   "metadata": {
    "tags": []
   },
   "outputs": [],
   "source": [
    "# make_xi_region_deal_count()"
   ]
  },
  {
   "cell_type": "code",
   "execution_count": 38,
   "metadata": {},
   "outputs": [
    {
     "output_type": "execute_result",
     "data": {
      "text/plain": "     region  y2012  y2013  y2014  y2015  y2016  y2017  y2018  y2019  y2020\n0       강원도      0      0      0      0      0      0      0      0      0\n1       경기도    755   2541   2476   3174   2784   2475   3041   3448   3373\n2      경상남도    113    466    538    493    324    224    245    367    343\n3      경상북도      0      0      0      1     12     64     63    276    270\n4     광주광역시     88    222    300    176    150    243    234    151    130\n5     대구광역시     49    139     93    151    109    337    296    265    257\n6     대전광역시     43     98    149    157    148    173    198    272    134\n7     부산광역시     92    528    488    567    537    298    257    563    468\n8     서울특별시    142    594    839   1182   1356   1737   1268   1527    729\n9   세종특별자치시     71    107     84    133    159    138    125     96    229\n10    울산광역시      0     19     47     57     56     60     33    122     71\n11    인천광역시    220    567    663    836    656    635    597    721    798\n12     전라남도      0      0      0      0      0      0      0      0      0\n13     전라북도     25     65    103     90     84     78    100    127    114\n14  제주특별자치도      0      0      0      0      0      0      0      0      0\n15     충청남도     88    235    309    216    128    138    168    211    218\n16     충청북도      0      0      0      0      0      1     34    289    334",
      "text/html": "<div>\n<style scoped>\n    .dataframe tbody tr th:only-of-type {\n        vertical-align: middle;\n    }\n\n    .dataframe tbody tr th {\n        vertical-align: top;\n    }\n\n    .dataframe thead th {\n        text-align: right;\n    }\n</style>\n<table border=\"1\" class=\"dataframe\">\n  <thead>\n    <tr style=\"text-align: right;\">\n      <th></th>\n      <th>region</th>\n      <th>y2012</th>\n      <th>y2013</th>\n      <th>y2014</th>\n      <th>y2015</th>\n      <th>y2016</th>\n      <th>y2017</th>\n      <th>y2018</th>\n      <th>y2019</th>\n      <th>y2020</th>\n    </tr>\n  </thead>\n  <tbody>\n    <tr>\n      <th>0</th>\n      <td>강원도</td>\n      <td>0</td>\n      <td>0</td>\n      <td>0</td>\n      <td>0</td>\n      <td>0</td>\n      <td>0</td>\n      <td>0</td>\n      <td>0</td>\n      <td>0</td>\n    </tr>\n    <tr>\n      <th>1</th>\n      <td>경기도</td>\n      <td>755</td>\n      <td>2541</td>\n      <td>2476</td>\n      <td>3174</td>\n      <td>2784</td>\n      <td>2475</td>\n      <td>3041</td>\n      <td>3448</td>\n      <td>3373</td>\n    </tr>\n    <tr>\n      <th>2</th>\n      <td>경상남도</td>\n      <td>113</td>\n      <td>466</td>\n      <td>538</td>\n      <td>493</td>\n      <td>324</td>\n      <td>224</td>\n      <td>245</td>\n      <td>367</td>\n      <td>343</td>\n    </tr>\n    <tr>\n      <th>3</th>\n      <td>경상북도</td>\n      <td>0</td>\n      <td>0</td>\n      <td>0</td>\n      <td>1</td>\n      <td>12</td>\n      <td>64</td>\n      <td>63</td>\n      <td>276</td>\n      <td>270</td>\n    </tr>\n    <tr>\n      <th>4</th>\n      <td>광주광역시</td>\n      <td>88</td>\n      <td>222</td>\n      <td>300</td>\n      <td>176</td>\n      <td>150</td>\n      <td>243</td>\n      <td>234</td>\n      <td>151</td>\n      <td>130</td>\n    </tr>\n    <tr>\n      <th>5</th>\n      <td>대구광역시</td>\n      <td>49</td>\n      <td>139</td>\n      <td>93</td>\n      <td>151</td>\n      <td>109</td>\n      <td>337</td>\n      <td>296</td>\n      <td>265</td>\n      <td>257</td>\n    </tr>\n    <tr>\n      <th>6</th>\n      <td>대전광역시</td>\n      <td>43</td>\n      <td>98</td>\n      <td>149</td>\n      <td>157</td>\n      <td>148</td>\n      <td>173</td>\n      <td>198</td>\n      <td>272</td>\n      <td>134</td>\n    </tr>\n    <tr>\n      <th>7</th>\n      <td>부산광역시</td>\n      <td>92</td>\n      <td>528</td>\n      <td>488</td>\n      <td>567</td>\n      <td>537</td>\n      <td>298</td>\n      <td>257</td>\n      <td>563</td>\n      <td>468</td>\n    </tr>\n    <tr>\n      <th>8</th>\n      <td>서울특별시</td>\n      <td>142</td>\n      <td>594</td>\n      <td>839</td>\n      <td>1182</td>\n      <td>1356</td>\n      <td>1737</td>\n      <td>1268</td>\n      <td>1527</td>\n      <td>729</td>\n    </tr>\n    <tr>\n      <th>9</th>\n      <td>세종특별자치시</td>\n      <td>71</td>\n      <td>107</td>\n      <td>84</td>\n      <td>133</td>\n      <td>159</td>\n      <td>138</td>\n      <td>125</td>\n      <td>96</td>\n      <td>229</td>\n    </tr>\n    <tr>\n      <th>10</th>\n      <td>울산광역시</td>\n      <td>0</td>\n      <td>19</td>\n      <td>47</td>\n      <td>57</td>\n      <td>56</td>\n      <td>60</td>\n      <td>33</td>\n      <td>122</td>\n      <td>71</td>\n    </tr>\n    <tr>\n      <th>11</th>\n      <td>인천광역시</td>\n      <td>220</td>\n      <td>567</td>\n      <td>663</td>\n      <td>836</td>\n      <td>656</td>\n      <td>635</td>\n      <td>597</td>\n      <td>721</td>\n      <td>798</td>\n    </tr>\n    <tr>\n      <th>12</th>\n      <td>전라남도</td>\n      <td>0</td>\n      <td>0</td>\n      <td>0</td>\n      <td>0</td>\n      <td>0</td>\n      <td>0</td>\n      <td>0</td>\n      <td>0</td>\n      <td>0</td>\n    </tr>\n    <tr>\n      <th>13</th>\n      <td>전라북도</td>\n      <td>25</td>\n      <td>65</td>\n      <td>103</td>\n      <td>90</td>\n      <td>84</td>\n      <td>78</td>\n      <td>100</td>\n      <td>127</td>\n      <td>114</td>\n    </tr>\n    <tr>\n      <th>14</th>\n      <td>제주특별자치도</td>\n      <td>0</td>\n      <td>0</td>\n      <td>0</td>\n      <td>0</td>\n      <td>0</td>\n      <td>0</td>\n      <td>0</td>\n      <td>0</td>\n      <td>0</td>\n    </tr>\n    <tr>\n      <th>15</th>\n      <td>충청남도</td>\n      <td>88</td>\n      <td>235</td>\n      <td>309</td>\n      <td>216</td>\n      <td>128</td>\n      <td>138</td>\n      <td>168</td>\n      <td>211</td>\n      <td>218</td>\n    </tr>\n    <tr>\n      <th>16</th>\n      <td>충청북도</td>\n      <td>0</td>\n      <td>0</td>\n      <td>0</td>\n      <td>0</td>\n      <td>0</td>\n      <td>1</td>\n      <td>34</td>\n      <td>289</td>\n      <td>334</td>\n    </tr>\n  </tbody>\n</table>\n</div>"
     },
     "metadata": {},
     "execution_count": 38
    }
   ],
   "source": [
    "testD = pd.read_csv('sub-data-files/xi_region_deal_count.csv')\n",
    "testD"
   ]
  },
  {
   "cell_type": "code",
   "execution_count": 39,
   "metadata": {},
   "outputs": [],
   "source": [
    "# 자이 아파트 년도별 지역별 평균 평당 가격\n",
    "def make_xi_region_avg_price_per_pyung():\n",
    "\n",
    "    dataD = pd.DataFrame({'REGION': region_table1})\n",
    "\n",
    "    for year in time_table2:\n",
    "\n",
    "        query = f\"\"\"\n",
    "            SELECT adp.region, round(AVG(adp.price_per_pyung)) AS Y{year}\n",
    "            FROM (SELECT A.region, A.apt_name, A.contract_date,\n",
    "                         (A.contract_price / (A.apt_size / 3.3)) price_per_pyung\n",
    "                  FROM apt_deal_price A\n",
    "                  WHERE A.apt_name LIKE '%자이%') adp\n",
    "            WHERE to_char(adp.contract_date, 'YYYY') = '{year}' AND \n",
    "                  adp.apt_name NOT IN ('롯데캐슬자이언트','호등 자이젠 아파트(1665-9)',\n",
    "                                       '효자이지움','영진자이온','세왕자이연','사곡영진자이온1단지',\n",
    "                                       '자이온더퍼스트','사곡영진자이온2단지')\n",
    "            GROUP BY adp.region\n",
    "            ORDER BY adp.region ASC\n",
    "            \"\"\"\n",
    "\n",
    "        queD = get_data_from_db(query)\n",
    "        dataD = dataD.merge(queD, how='left')\n",
    "\n",
    "    lower_col = dataD.columns.values.tolist()\n",
    "    dataD.columns = [ l.lower() for l in lower_col ]\n",
    "\n",
    "    dataD.fillna(0, inplace=True)\n",
    "\n",
    "    dataD.set_index('region', inplace=True)\n",
    "    dataD = dataD.astype('int64')\n",
    "    dataD.reset_index(inplace=True)\n",
    "   \n",
    "    dataD.info()\n",
    "    dataD.to_csv('sub-data-files/xi_region_avg_price_per_pyung.csv', index=False, encoding='utf-8-sig')"
   ]
  },
  {
   "cell_type": "code",
   "execution_count": 40,
   "metadata": {
    "tags": []
   },
   "outputs": [],
   "source": [
    "# make_xi_region_avg_price_per_pyung()"
   ]
  },
  {
   "cell_type": "code",
   "execution_count": 41,
   "metadata": {},
   "outputs": [
    {
     "output_type": "execute_result",
     "data": {
      "text/plain": "     region     y2012     y2013     y2014     y2015     y2016     y2017  \\\n0       강원도         0         0         0         0         0         0   \n1       경기도  12796216  13453613  13578821  13684281  14812568  16424642   \n2      경상남도  10759983  10775361  11150230  11125783  10878730  10224536   \n3      경상북도         0         0         0   9717314  10744201  11967012   \n4     광주광역시   8067631   8399219   9086216  10594040  10974663  11184430   \n5     대구광역시   9799903   9974551  11524118  13956364  14676303  15826261   \n6     대전광역시  10217179   9693435   9982234  11117174  11729472  12096717   \n7     부산광역시  13142033  12402625  13539375  15153935  16489789  18705934   \n8     서울특별시  32284052  28810419  29358871  30197595  29727933  32862535   \n9   세종특별자치시   7943517   7709436   7356598   6732384   6739104   7026453   \n10    울산광역시         0  12549061  12543673  13985183  14846524  15499944   \n11    인천광역시  11520874  11053692  11203690  11464592  12443338  13100600   \n12     전라남도         0         0         0         0         0         0   \n13     전라북도   9212828   8748926   8585522   8603935   8813895   8975070   \n14  제주특별자치도         0         0         0         0         0         0   \n15     충청남도   7645973   7601163   7995638   7703872   7449691   7098962   \n16     충청북도         0         0         0         0         0   9861500   \n\n       y2018     y2019     y2020  \n0          0         0         0  \n1   16506220  21771261  18716357  \n2    9397641   9844829  10932060  \n3   11288322  12547971  13544201  \n4   11844527  12935584  13556124  \n5   18076107  18807187  19946162  \n6   12531677  13558236  16224588  \n7   18339586  19796612  21668286  \n8   37266745  49019007  51200766  \n9    6990573   6838827   7694445  \n10  15572750  14877088  16849313  \n11  13480431  13640867  14773506  \n12         0         0         0  \n13   9362557  11058352  12182727  \n14         0         0         0  \n15   6765584   8464628   8868058  \n16   9671075  10276315  10949879  ",
      "text/html": "<div>\n<style scoped>\n    .dataframe tbody tr th:only-of-type {\n        vertical-align: middle;\n    }\n\n    .dataframe tbody tr th {\n        vertical-align: top;\n    }\n\n    .dataframe thead th {\n        text-align: right;\n    }\n</style>\n<table border=\"1\" class=\"dataframe\">\n  <thead>\n    <tr style=\"text-align: right;\">\n      <th></th>\n      <th>region</th>\n      <th>y2012</th>\n      <th>y2013</th>\n      <th>y2014</th>\n      <th>y2015</th>\n      <th>y2016</th>\n      <th>y2017</th>\n      <th>y2018</th>\n      <th>y2019</th>\n      <th>y2020</th>\n    </tr>\n  </thead>\n  <tbody>\n    <tr>\n      <th>0</th>\n      <td>강원도</td>\n      <td>0</td>\n      <td>0</td>\n      <td>0</td>\n      <td>0</td>\n      <td>0</td>\n      <td>0</td>\n      <td>0</td>\n      <td>0</td>\n      <td>0</td>\n    </tr>\n    <tr>\n      <th>1</th>\n      <td>경기도</td>\n      <td>12796216</td>\n      <td>13453613</td>\n      <td>13578821</td>\n      <td>13684281</td>\n      <td>14812568</td>\n      <td>16424642</td>\n      <td>16506220</td>\n      <td>21771261</td>\n      <td>18716357</td>\n    </tr>\n    <tr>\n      <th>2</th>\n      <td>경상남도</td>\n      <td>10759983</td>\n      <td>10775361</td>\n      <td>11150230</td>\n      <td>11125783</td>\n      <td>10878730</td>\n      <td>10224536</td>\n      <td>9397641</td>\n      <td>9844829</td>\n      <td>10932060</td>\n    </tr>\n    <tr>\n      <th>3</th>\n      <td>경상북도</td>\n      <td>0</td>\n      <td>0</td>\n      <td>0</td>\n      <td>9717314</td>\n      <td>10744201</td>\n      <td>11967012</td>\n      <td>11288322</td>\n      <td>12547971</td>\n      <td>13544201</td>\n    </tr>\n    <tr>\n      <th>4</th>\n      <td>광주광역시</td>\n      <td>8067631</td>\n      <td>8399219</td>\n      <td>9086216</td>\n      <td>10594040</td>\n      <td>10974663</td>\n      <td>11184430</td>\n      <td>11844527</td>\n      <td>12935584</td>\n      <td>13556124</td>\n    </tr>\n    <tr>\n      <th>5</th>\n      <td>대구광역시</td>\n      <td>9799903</td>\n      <td>9974551</td>\n      <td>11524118</td>\n      <td>13956364</td>\n      <td>14676303</td>\n      <td>15826261</td>\n      <td>18076107</td>\n      <td>18807187</td>\n      <td>19946162</td>\n    </tr>\n    <tr>\n      <th>6</th>\n      <td>대전광역시</td>\n      <td>10217179</td>\n      <td>9693435</td>\n      <td>9982234</td>\n      <td>11117174</td>\n      <td>11729472</td>\n      <td>12096717</td>\n      <td>12531677</td>\n      <td>13558236</td>\n      <td>16224588</td>\n    </tr>\n    <tr>\n      <th>7</th>\n      <td>부산광역시</td>\n      <td>13142033</td>\n      <td>12402625</td>\n      <td>13539375</td>\n      <td>15153935</td>\n      <td>16489789</td>\n      <td>18705934</td>\n      <td>18339586</td>\n      <td>19796612</td>\n      <td>21668286</td>\n    </tr>\n    <tr>\n      <th>8</th>\n      <td>서울특별시</td>\n      <td>32284052</td>\n      <td>28810419</td>\n      <td>29358871</td>\n      <td>30197595</td>\n      <td>29727933</td>\n      <td>32862535</td>\n      <td>37266745</td>\n      <td>49019007</td>\n      <td>51200766</td>\n    </tr>\n    <tr>\n      <th>9</th>\n      <td>세종특별자치시</td>\n      <td>7943517</td>\n      <td>7709436</td>\n      <td>7356598</td>\n      <td>6732384</td>\n      <td>6739104</td>\n      <td>7026453</td>\n      <td>6990573</td>\n      <td>6838827</td>\n      <td>7694445</td>\n    </tr>\n    <tr>\n      <th>10</th>\n      <td>울산광역시</td>\n      <td>0</td>\n      <td>12549061</td>\n      <td>12543673</td>\n      <td>13985183</td>\n      <td>14846524</td>\n      <td>15499944</td>\n      <td>15572750</td>\n      <td>14877088</td>\n      <td>16849313</td>\n    </tr>\n    <tr>\n      <th>11</th>\n      <td>인천광역시</td>\n      <td>11520874</td>\n      <td>11053692</td>\n      <td>11203690</td>\n      <td>11464592</td>\n      <td>12443338</td>\n      <td>13100600</td>\n      <td>13480431</td>\n      <td>13640867</td>\n      <td>14773506</td>\n    </tr>\n    <tr>\n      <th>12</th>\n      <td>전라남도</td>\n      <td>0</td>\n      <td>0</td>\n      <td>0</td>\n      <td>0</td>\n      <td>0</td>\n      <td>0</td>\n      <td>0</td>\n      <td>0</td>\n      <td>0</td>\n    </tr>\n    <tr>\n      <th>13</th>\n      <td>전라북도</td>\n      <td>9212828</td>\n      <td>8748926</td>\n      <td>8585522</td>\n      <td>8603935</td>\n      <td>8813895</td>\n      <td>8975070</td>\n      <td>9362557</td>\n      <td>11058352</td>\n      <td>12182727</td>\n    </tr>\n    <tr>\n      <th>14</th>\n      <td>제주특별자치도</td>\n      <td>0</td>\n      <td>0</td>\n      <td>0</td>\n      <td>0</td>\n      <td>0</td>\n      <td>0</td>\n      <td>0</td>\n      <td>0</td>\n      <td>0</td>\n    </tr>\n    <tr>\n      <th>15</th>\n      <td>충청남도</td>\n      <td>7645973</td>\n      <td>7601163</td>\n      <td>7995638</td>\n      <td>7703872</td>\n      <td>7449691</td>\n      <td>7098962</td>\n      <td>6765584</td>\n      <td>8464628</td>\n      <td>8868058</td>\n    </tr>\n    <tr>\n      <th>16</th>\n      <td>충청북도</td>\n      <td>0</td>\n      <td>0</td>\n      <td>0</td>\n      <td>0</td>\n      <td>0</td>\n      <td>9861500</td>\n      <td>9671075</td>\n      <td>10276315</td>\n      <td>10949879</td>\n    </tr>\n  </tbody>\n</table>\n</div>"
     },
     "metadata": {},
     "execution_count": 41
    }
   ],
   "source": [
    "testD = pd.read_csv('sub-data-files/xi_region_avg_price_per_pyung.csv')\n",
    "testD"
   ]
  },
  {
   "cell_type": "code",
   "execution_count": 42,
   "metadata": {},
   "outputs": [],
   "source": [
    "# 힐스테이트 아파트 년도별 지역별 매매건수\n",
    "def make_healstate_region_deal_count():\n",
    "\n",
    "    dataD = pd.DataFrame({'REGION': region_table1})\n",
    "\n",
    "    for year in time_table2:\n",
    "\n",
    "        query = f\"\"\"\n",
    "            SELECT adp.region, COUNT(*) AS Y{year}\n",
    "            FROM (SELECT *\n",
    "                  FROM apt_deal_price A\n",
    "                  WHERE A.apt_name LIKE '%힐스테이트%') adp\n",
    "            WHERE to_char(adp.contract_date, 'YYYY') = '{year}'\n",
    "            GROUP BY adp.region\n",
    "            ORDER BY adp.region ASC\n",
    "            \"\"\"\n",
    "\n",
    "        queD = get_data_from_db(query)\n",
    "        dataD = dataD.merge(queD, how='left')\n",
    "\n",
    "    lower_col = dataD.columns.values.tolist()\n",
    "    dataD.columns = [ l.lower() for l in lower_col ]\n",
    "\n",
    "    dataD.fillna(0, inplace=True)\n",
    "\n",
    "    dataD.set_index('region', inplace=True)\n",
    "    dataD = dataD.astype('int64')\n",
    "    dataD.reset_index(inplace=True)\n",
    "   \n",
    "    dataD.info()\n",
    "    dataD.to_csv('sub-data-files/healstate_region_deal_count.csv', index=False, encoding='utf-8-sig')"
   ]
  },
  {
   "cell_type": "code",
   "execution_count": 43,
   "metadata": {
    "tags": []
   },
   "outputs": [],
   "source": [
    "# make_healstate_region_deal_count()"
   ]
  },
  {
   "cell_type": "code",
   "execution_count": 44,
   "metadata": {},
   "outputs": [
    {
     "output_type": "execute_result",
     "data": {
      "text/plain": "     region  y2012  y2013  y2014  y2015  y2016  y2017  y2018  y2019  y2020\n0       강원도     34     44     44     61     51     43     65     70     52\n1       경기도    459   1696   2270   2647   2078   2118   2685   2541   2589\n2      경상남도      4     23     80     80     93     72    157    335    367\n3      경상북도      0      0      0      0      0      0      0      0      0\n4     광주광역시     43     26     32     19    222    384    375    285    232\n5     대구광역시     88    213     98     95     56     89    102     90     92\n6     대전광역시      0      0      0      0      0      0      0      0      0\n7     부산광역시     45    182     85   1052    489    215    252    392    287\n8     서울특별시    330   1456   1523   2280   2564   2557   2105   1930   1184\n9   세종특별자치시      6      7     21     94    126    184    171    392    203\n10    울산광역시     69    163    206    190    118    134     86    167    120\n11    인천광역시    234    531   1023    970    825    717    613    796    819\n12     전라남도     15    254     50    103    117    123    124     92     85\n13     전라북도      0      0      0    204     55     64     30     38     57\n14  제주특별자치도      0      0      0      0      0      0      0      0      0\n15     충청남도     19     49     54     61     43    100    129    258    256\n16     충청북도     66     76     83     99     73     44     32     59     70",
      "text/html": "<div>\n<style scoped>\n    .dataframe tbody tr th:only-of-type {\n        vertical-align: middle;\n    }\n\n    .dataframe tbody tr th {\n        vertical-align: top;\n    }\n\n    .dataframe thead th {\n        text-align: right;\n    }\n</style>\n<table border=\"1\" class=\"dataframe\">\n  <thead>\n    <tr style=\"text-align: right;\">\n      <th></th>\n      <th>region</th>\n      <th>y2012</th>\n      <th>y2013</th>\n      <th>y2014</th>\n      <th>y2015</th>\n      <th>y2016</th>\n      <th>y2017</th>\n      <th>y2018</th>\n      <th>y2019</th>\n      <th>y2020</th>\n    </tr>\n  </thead>\n  <tbody>\n    <tr>\n      <th>0</th>\n      <td>강원도</td>\n      <td>34</td>\n      <td>44</td>\n      <td>44</td>\n      <td>61</td>\n      <td>51</td>\n      <td>43</td>\n      <td>65</td>\n      <td>70</td>\n      <td>52</td>\n    </tr>\n    <tr>\n      <th>1</th>\n      <td>경기도</td>\n      <td>459</td>\n      <td>1696</td>\n      <td>2270</td>\n      <td>2647</td>\n      <td>2078</td>\n      <td>2118</td>\n      <td>2685</td>\n      <td>2541</td>\n      <td>2589</td>\n    </tr>\n    <tr>\n      <th>2</th>\n      <td>경상남도</td>\n      <td>4</td>\n      <td>23</td>\n      <td>80</td>\n      <td>80</td>\n      <td>93</td>\n      <td>72</td>\n      <td>157</td>\n      <td>335</td>\n      <td>367</td>\n    </tr>\n    <tr>\n      <th>3</th>\n      <td>경상북도</td>\n      <td>0</td>\n      <td>0</td>\n      <td>0</td>\n      <td>0</td>\n      <td>0</td>\n      <td>0</td>\n      <td>0</td>\n      <td>0</td>\n      <td>0</td>\n    </tr>\n    <tr>\n      <th>4</th>\n      <td>광주광역시</td>\n      <td>43</td>\n      <td>26</td>\n      <td>32</td>\n      <td>19</td>\n      <td>222</td>\n      <td>384</td>\n      <td>375</td>\n      <td>285</td>\n      <td>232</td>\n    </tr>\n    <tr>\n      <th>5</th>\n      <td>대구광역시</td>\n      <td>88</td>\n      <td>213</td>\n      <td>98</td>\n      <td>95</td>\n      <td>56</td>\n      <td>89</td>\n      <td>102</td>\n      <td>90</td>\n      <td>92</td>\n    </tr>\n    <tr>\n      <th>6</th>\n      <td>대전광역시</td>\n      <td>0</td>\n      <td>0</td>\n      <td>0</td>\n      <td>0</td>\n      <td>0</td>\n      <td>0</td>\n      <td>0</td>\n      <td>0</td>\n      <td>0</td>\n    </tr>\n    <tr>\n      <th>7</th>\n      <td>부산광역시</td>\n      <td>45</td>\n      <td>182</td>\n      <td>85</td>\n      <td>1052</td>\n      <td>489</td>\n      <td>215</td>\n      <td>252</td>\n      <td>392</td>\n      <td>287</td>\n    </tr>\n    <tr>\n      <th>8</th>\n      <td>서울특별시</td>\n      <td>330</td>\n      <td>1456</td>\n      <td>1523</td>\n      <td>2280</td>\n      <td>2564</td>\n      <td>2557</td>\n      <td>2105</td>\n      <td>1930</td>\n      <td>1184</td>\n    </tr>\n    <tr>\n      <th>9</th>\n      <td>세종특별자치시</td>\n      <td>6</td>\n      <td>7</td>\n      <td>21</td>\n      <td>94</td>\n      <td>126</td>\n      <td>184</td>\n      <td>171</td>\n      <td>392</td>\n      <td>203</td>\n    </tr>\n    <tr>\n      <th>10</th>\n      <td>울산광역시</td>\n      <td>69</td>\n      <td>163</td>\n      <td>206</td>\n      <td>190</td>\n      <td>118</td>\n      <td>134</td>\n      <td>86</td>\n      <td>167</td>\n      <td>120</td>\n    </tr>\n    <tr>\n      <th>11</th>\n      <td>인천광역시</td>\n      <td>234</td>\n      <td>531</td>\n      <td>1023</td>\n      <td>970</td>\n      <td>825</td>\n      <td>717</td>\n      <td>613</td>\n      <td>796</td>\n      <td>819</td>\n    </tr>\n    <tr>\n      <th>12</th>\n      <td>전라남도</td>\n      <td>15</td>\n      <td>254</td>\n      <td>50</td>\n      <td>103</td>\n      <td>117</td>\n      <td>123</td>\n      <td>124</td>\n      <td>92</td>\n      <td>85</td>\n    </tr>\n    <tr>\n      <th>13</th>\n      <td>전라북도</td>\n      <td>0</td>\n      <td>0</td>\n      <td>0</td>\n      <td>204</td>\n      <td>55</td>\n      <td>64</td>\n      <td>30</td>\n      <td>38</td>\n      <td>57</td>\n    </tr>\n    <tr>\n      <th>14</th>\n      <td>제주특별자치도</td>\n      <td>0</td>\n      <td>0</td>\n      <td>0</td>\n      <td>0</td>\n      <td>0</td>\n      <td>0</td>\n      <td>0</td>\n      <td>0</td>\n      <td>0</td>\n    </tr>\n    <tr>\n      <th>15</th>\n      <td>충청남도</td>\n      <td>19</td>\n      <td>49</td>\n      <td>54</td>\n      <td>61</td>\n      <td>43</td>\n      <td>100</td>\n      <td>129</td>\n      <td>258</td>\n      <td>256</td>\n    </tr>\n    <tr>\n      <th>16</th>\n      <td>충청북도</td>\n      <td>66</td>\n      <td>76</td>\n      <td>83</td>\n      <td>99</td>\n      <td>73</td>\n      <td>44</td>\n      <td>32</td>\n      <td>59</td>\n      <td>70</td>\n    </tr>\n  </tbody>\n</table>\n</div>"
     },
     "metadata": {},
     "execution_count": 44
    }
   ],
   "source": [
    "testD = pd.read_csv('sub-data-files/healstate_region_deal_count.csv')\n",
    "testD"
   ]
  },
  {
   "cell_type": "code",
   "execution_count": 45,
   "metadata": {},
   "outputs": [],
   "source": [
    "# 힐스테이트 아파트 년도별 지역별 평균 평당 가격\n",
    "def make_healstate_region_avg_price_per_pyung():\n",
    "\n",
    "    dataD = pd.DataFrame({'REGION': region_table1})\n",
    "\n",
    "    for year in time_table2:\n",
    "\n",
    "        query = f\"\"\"\n",
    "            SELECT adp.region, round(AVG(adp.price_per_pyung)) AS Y{year}\n",
    "            FROM (SELECT A.region, A.apt_name, A.contract_date,\n",
    "                         (A.contract_price / (A.apt_size / 3.3)) price_per_pyung\n",
    "                  FROM apt_deal_price A\n",
    "                  WHERE A.apt_name LIKE '%힐스테이트%') adp\n",
    "            WHERE to_char(adp.contract_date, 'YYYY') = '{year}'\n",
    "            GROUP BY adp.region\n",
    "            ORDER BY adp.region ASC\n",
    "            \"\"\"\n",
    "\n",
    "        queD = get_data_from_db(query)\n",
    "        dataD = dataD.merge(queD, how='left')\n",
    "\n",
    "    lower_col = dataD.columns.values.tolist()\n",
    "    dataD.columns = [ l.lower() for l in lower_col ]\n",
    "\n",
    "    dataD.fillna(0, inplace=True)\n",
    "\n",
    "    dataD.set_index('region', inplace=True)\n",
    "    dataD = dataD.astype('int64')\n",
    "    dataD.reset_index(inplace=True)\n",
    "   \n",
    "    dataD.info()\n",
    "    dataD.to_csv('sub-data-files/healstate_region_avg_price_per_pyung.csv', index=False, encoding='utf-8-sig')"
   ]
  },
  {
   "cell_type": "code",
   "execution_count": 46,
   "metadata": {
    "tags": []
   },
   "outputs": [],
   "source": [
    "# make_healstate_region_avg_price_per_pyung()"
   ]
  },
  {
   "cell_type": "code",
   "execution_count": 47,
   "metadata": {},
   "outputs": [
    {
     "output_type": "execute_result",
     "data": {
      "text/plain": "     region     y2012     y2013     y2014     y2015     y2016     y2017  \\\n0       강원도   6089964   6656109   6774502   7306375   7147283   7970091   \n1       경기도  13342401  13286121  13705601  13970981  14987980  15959704   \n2      경상남도  11660903  13529165  13890272  13644062  12495329  11569224   \n3      경상북도         0         0         0         0         0         0   \n4     광주광역시  10058948  10315549  10695869  12004197  12409762  14184691   \n5     대구광역시   8301067   8556268  10916830  11993023  12031932  12660126   \n6     대전광역시         0         0         0         0         0         0   \n7     부산광역시   9163691   9452429  12600230  16102570  19119596  21581027   \n8     서울특별시  21969200  21710221  22559040  23211706  24630223  28194157   \n9   세종특별자치시   9761685  10154115  11430832  11165061  12426776  13579189   \n10    울산광역시  11149114  10863360  11122571  11679372  11567763  10959217   \n11    인천광역시  11279841  11079531  12181646  12230215  12869191  13067851   \n12     전라남도   7755451   7952787   8224357   8632487   9517305  10120398   \n13     전라북도         0         0         0   8541283   8735938  10791540   \n14  제주특별자치도         0         0         0         0         0         0   \n15     충청남도   8519745   8455318   8416442   8627553   8394105   9821946   \n16     충청북도   6897823   8238288   8793960   8811443   9116578   9057359   \n\n       y2018     y2019     y2020  \n0    8252250   8458579   8964353  \n1   16582067  19229504  19727782  \n2   10877289  11321630  12639328  \n3          0         0         0  \n4   16090945  17356589  18929916  \n5   16867372  15188047  19795528  \n6          0         0         0  \n7   21145368  22229441  24535092  \n8   30760228  39933305  41473816  \n9   16442972  19884256  25881093  \n10  10379242   9639468  12210540  \n11  13195499  13274438  14471554  \n12  11062476  12153321  13014264  \n13  10003787  10545661  11746038  \n14         0         0         0  \n15   9903048  10734923  11334529  \n16   8322880   8041334   8642541  ",
      "text/html": "<div>\n<style scoped>\n    .dataframe tbody tr th:only-of-type {\n        vertical-align: middle;\n    }\n\n    .dataframe tbody tr th {\n        vertical-align: top;\n    }\n\n    .dataframe thead th {\n        text-align: right;\n    }\n</style>\n<table border=\"1\" class=\"dataframe\">\n  <thead>\n    <tr style=\"text-align: right;\">\n      <th></th>\n      <th>region</th>\n      <th>y2012</th>\n      <th>y2013</th>\n      <th>y2014</th>\n      <th>y2015</th>\n      <th>y2016</th>\n      <th>y2017</th>\n      <th>y2018</th>\n      <th>y2019</th>\n      <th>y2020</th>\n    </tr>\n  </thead>\n  <tbody>\n    <tr>\n      <th>0</th>\n      <td>강원도</td>\n      <td>6089964</td>\n      <td>6656109</td>\n      <td>6774502</td>\n      <td>7306375</td>\n      <td>7147283</td>\n      <td>7970091</td>\n      <td>8252250</td>\n      <td>8458579</td>\n      <td>8964353</td>\n    </tr>\n    <tr>\n      <th>1</th>\n      <td>경기도</td>\n      <td>13342401</td>\n      <td>13286121</td>\n      <td>13705601</td>\n      <td>13970981</td>\n      <td>14987980</td>\n      <td>15959704</td>\n      <td>16582067</td>\n      <td>19229504</td>\n      <td>19727782</td>\n    </tr>\n    <tr>\n      <th>2</th>\n      <td>경상남도</td>\n      <td>11660903</td>\n      <td>13529165</td>\n      <td>13890272</td>\n      <td>13644062</td>\n      <td>12495329</td>\n      <td>11569224</td>\n      <td>10877289</td>\n      <td>11321630</td>\n      <td>12639328</td>\n    </tr>\n    <tr>\n      <th>3</th>\n      <td>경상북도</td>\n      <td>0</td>\n      <td>0</td>\n      <td>0</td>\n      <td>0</td>\n      <td>0</td>\n      <td>0</td>\n      <td>0</td>\n      <td>0</td>\n      <td>0</td>\n    </tr>\n    <tr>\n      <th>4</th>\n      <td>광주광역시</td>\n      <td>10058948</td>\n      <td>10315549</td>\n      <td>10695869</td>\n      <td>12004197</td>\n      <td>12409762</td>\n      <td>14184691</td>\n      <td>16090945</td>\n      <td>17356589</td>\n      <td>18929916</td>\n    </tr>\n    <tr>\n      <th>5</th>\n      <td>대구광역시</td>\n      <td>8301067</td>\n      <td>8556268</td>\n      <td>10916830</td>\n      <td>11993023</td>\n      <td>12031932</td>\n      <td>12660126</td>\n      <td>16867372</td>\n      <td>15188047</td>\n      <td>19795528</td>\n    </tr>\n    <tr>\n      <th>6</th>\n      <td>대전광역시</td>\n      <td>0</td>\n      <td>0</td>\n      <td>0</td>\n      <td>0</td>\n      <td>0</td>\n      <td>0</td>\n      <td>0</td>\n      <td>0</td>\n      <td>0</td>\n    </tr>\n    <tr>\n      <th>7</th>\n      <td>부산광역시</td>\n      <td>9163691</td>\n      <td>9452429</td>\n      <td>12600230</td>\n      <td>16102570</td>\n      <td>19119596</td>\n      <td>21581027</td>\n      <td>21145368</td>\n      <td>22229441</td>\n      <td>24535092</td>\n    </tr>\n    <tr>\n      <th>8</th>\n      <td>서울특별시</td>\n      <td>21969200</td>\n      <td>21710221</td>\n      <td>22559040</td>\n      <td>23211706</td>\n      <td>24630223</td>\n      <td>28194157</td>\n      <td>30760228</td>\n      <td>39933305</td>\n      <td>41473816</td>\n    </tr>\n    <tr>\n      <th>9</th>\n      <td>세종특별자치시</td>\n      <td>9761685</td>\n      <td>10154115</td>\n      <td>11430832</td>\n      <td>11165061</td>\n      <td>12426776</td>\n      <td>13579189</td>\n      <td>16442972</td>\n      <td>19884256</td>\n      <td>25881093</td>\n    </tr>\n    <tr>\n      <th>10</th>\n      <td>울산광역시</td>\n      <td>11149114</td>\n      <td>10863360</td>\n      <td>11122571</td>\n      <td>11679372</td>\n      <td>11567763</td>\n      <td>10959217</td>\n      <td>10379242</td>\n      <td>9639468</td>\n      <td>12210540</td>\n    </tr>\n    <tr>\n      <th>11</th>\n      <td>인천광역시</td>\n      <td>11279841</td>\n      <td>11079531</td>\n      <td>12181646</td>\n      <td>12230215</td>\n      <td>12869191</td>\n      <td>13067851</td>\n      <td>13195499</td>\n      <td>13274438</td>\n      <td>14471554</td>\n    </tr>\n    <tr>\n      <th>12</th>\n      <td>전라남도</td>\n      <td>7755451</td>\n      <td>7952787</td>\n      <td>8224357</td>\n      <td>8632487</td>\n      <td>9517305</td>\n      <td>10120398</td>\n      <td>11062476</td>\n      <td>12153321</td>\n      <td>13014264</td>\n    </tr>\n    <tr>\n      <th>13</th>\n      <td>전라북도</td>\n      <td>0</td>\n      <td>0</td>\n      <td>0</td>\n      <td>8541283</td>\n      <td>8735938</td>\n      <td>10791540</td>\n      <td>10003787</td>\n      <td>10545661</td>\n      <td>11746038</td>\n    </tr>\n    <tr>\n      <th>14</th>\n      <td>제주특별자치도</td>\n      <td>0</td>\n      <td>0</td>\n      <td>0</td>\n      <td>0</td>\n      <td>0</td>\n      <td>0</td>\n      <td>0</td>\n      <td>0</td>\n      <td>0</td>\n    </tr>\n    <tr>\n      <th>15</th>\n      <td>충청남도</td>\n      <td>8519745</td>\n      <td>8455318</td>\n      <td>8416442</td>\n      <td>8627553</td>\n      <td>8394105</td>\n      <td>9821946</td>\n      <td>9903048</td>\n      <td>10734923</td>\n      <td>11334529</td>\n    </tr>\n    <tr>\n      <th>16</th>\n      <td>충청북도</td>\n      <td>6897823</td>\n      <td>8238288</td>\n      <td>8793960</td>\n      <td>8811443</td>\n      <td>9116578</td>\n      <td>9057359</td>\n      <td>8322880</td>\n      <td>8041334</td>\n      <td>8642541</td>\n    </tr>\n  </tbody>\n</table>\n</div>"
     },
     "metadata": {},
     "execution_count": 47
    }
   ],
   "source": [
    "testD = pd.read_csv('sub-data-files/healstate_region_avg_price_per_pyung.csv')\n",
    "testD"
   ]
  },
  {
   "cell_type": "code",
   "execution_count": 48,
   "metadata": {},
   "outputs": [],
   "source": [
    "# 래미안 아파트 년도별 지역별 매매건수\n",
    "def make_raemian_region_deal_count():\n",
    "\n",
    "    dataD = pd.DataFrame({'REGION': region_table1})\n",
    "\n",
    "    for year in time_table2:\n",
    "\n",
    "        query = f\"\"\"\n",
    "            SELECT adp.region, COUNT(*) AS Y{year}\n",
    "            FROM (SELECT *\n",
    "                  FROM apt_deal_price A\n",
    "                  WHERE A.apt_name LIKE '%래미안%' or\n",
    "                        A.apt_name LIKE '%레미안%') adp\n",
    "            WHERE to_char(adp.contract_date, 'YYYY') = '{year}' and\n",
    "                  adp.apt_name NOT LIKE '%대동레미안%' and\n",
    "                  adp.apt_name NOT IN ('레미안블루')\n",
    "            GROUP BY adp.region\n",
    "            ORDER BY adp.region ASC\n",
    "            \"\"\"\n",
    "\n",
    "        queD = get_data_from_db(query)\n",
    "        dataD = dataD.merge(queD, how='left')\n",
    "\n",
    "    lower_col = dataD.columns.values.tolist()\n",
    "    dataD.columns = [ l.lower() for l in lower_col ]\n",
    "\n",
    "    dataD.fillna(0, inplace=True)\n",
    "\n",
    "    dataD.set_index('region', inplace=True)\n",
    "    dataD = dataD.astype('int64')\n",
    "    dataD.reset_index(inplace=True)\n",
    "   \n",
    "    dataD.info()\n",
    "    dataD.to_csv('sub-data-files/raemian_region_deal_count.csv', index=False, encoding='utf-8-sig')"
   ]
  },
  {
   "cell_type": "code",
   "execution_count": 52,
   "metadata": {
    "tags": []
   },
   "outputs": [
    {
     "output_type": "stream",
     "name": "stdout",
     "text": "<class 'pandas.core.frame.DataFrame'>\nRangeIndex: 17 entries, 0 to 16\nData columns (total 10 columns):\n #   Column  Non-Null Count  Dtype \n---  ------  --------------  ----- \n 0   region  17 non-null     object\n 1   y2012   17 non-null     int64 \n 2   y2013   17 non-null     int64 \n 3   y2014   17 non-null     int64 \n 4   y2015   17 non-null     int64 \n 5   y2016   17 non-null     int64 \n 6   y2017   17 non-null     int64 \n 7   y2018   17 non-null     int64 \n 8   y2019   17 non-null     int64 \n 9   y2020   17 non-null     int64 \ndtypes: int64(9), object(1)\nmemory usage: 1.5+ KB\n"
    }
   ],
   "source": [
    "# make_raemian_region_deal_count()"
   ]
  },
  {
   "cell_type": "code",
   "execution_count": 53,
   "metadata": {},
   "outputs": [
    {
     "output_type": "execute_result",
     "data": {
      "text/plain": "     region  y2012  y2013  y2014  y2015  y2016  y2017  y2018  y2019  y2020\n0       강원도      0      0      0      0      0      0      0      0      0\n1       경기도    550   2003   2127   2614   2645   2742   2893   2574   1961\n2      경상남도      0      0      0      0      0      0      0      0      0\n3      경상북도      0      0      0      0      0      0      0      0      0\n4     광주광역시      0      0      0      0      0      0      0      0      0\n5     대구광역시    481    745    592    570    332    526    531    511    300\n6     대전광역시     43    159    142    200    203    136    126    225     89\n7     부산광역시      0      0     19     40     45     43     45    204    156\n8     서울특별시    802   3338   4420   6324   6668   6873   4598   4979   2666\n9   세종특별자치시      2     10     47     81    122    121     93     91     58\n10    울산광역시     34     97    105    100     71     44     50     81     78\n11    인천광역시     50    251    306    337    291    273    329    291    189\n12     전라남도      0      0      0      0      0      0      0      0      0\n13     전라북도      0      0      0      0      0      0      0      0      0\n14  제주특별자치도      0      0      0      0      0      0      0      0      0\n15     충청남도      0      0      0      0      0      0      0     58      0\n16     충청북도     10     41     63     31     39     27     37     32     21",
      "text/html": "<div>\n<style scoped>\n    .dataframe tbody tr th:only-of-type {\n        vertical-align: middle;\n    }\n\n    .dataframe tbody tr th {\n        vertical-align: top;\n    }\n\n    .dataframe thead th {\n        text-align: right;\n    }\n</style>\n<table border=\"1\" class=\"dataframe\">\n  <thead>\n    <tr style=\"text-align: right;\">\n      <th></th>\n      <th>region</th>\n      <th>y2012</th>\n      <th>y2013</th>\n      <th>y2014</th>\n      <th>y2015</th>\n      <th>y2016</th>\n      <th>y2017</th>\n      <th>y2018</th>\n      <th>y2019</th>\n      <th>y2020</th>\n    </tr>\n  </thead>\n  <tbody>\n    <tr>\n      <th>0</th>\n      <td>강원도</td>\n      <td>0</td>\n      <td>0</td>\n      <td>0</td>\n      <td>0</td>\n      <td>0</td>\n      <td>0</td>\n      <td>0</td>\n      <td>0</td>\n      <td>0</td>\n    </tr>\n    <tr>\n      <th>1</th>\n      <td>경기도</td>\n      <td>550</td>\n      <td>2003</td>\n      <td>2127</td>\n      <td>2614</td>\n      <td>2645</td>\n      <td>2742</td>\n      <td>2893</td>\n      <td>2574</td>\n      <td>1961</td>\n    </tr>\n    <tr>\n      <th>2</th>\n      <td>경상남도</td>\n      <td>0</td>\n      <td>0</td>\n      <td>0</td>\n      <td>0</td>\n      <td>0</td>\n      <td>0</td>\n      <td>0</td>\n      <td>0</td>\n      <td>0</td>\n    </tr>\n    <tr>\n      <th>3</th>\n      <td>경상북도</td>\n      <td>0</td>\n      <td>0</td>\n      <td>0</td>\n      <td>0</td>\n      <td>0</td>\n      <td>0</td>\n      <td>0</td>\n      <td>0</td>\n      <td>0</td>\n    </tr>\n    <tr>\n      <th>4</th>\n      <td>광주광역시</td>\n      <td>0</td>\n      <td>0</td>\n      <td>0</td>\n      <td>0</td>\n      <td>0</td>\n      <td>0</td>\n      <td>0</td>\n      <td>0</td>\n      <td>0</td>\n    </tr>\n    <tr>\n      <th>5</th>\n      <td>대구광역시</td>\n      <td>481</td>\n      <td>745</td>\n      <td>592</td>\n      <td>570</td>\n      <td>332</td>\n      <td>526</td>\n      <td>531</td>\n      <td>511</td>\n      <td>300</td>\n    </tr>\n    <tr>\n      <th>6</th>\n      <td>대전광역시</td>\n      <td>43</td>\n      <td>159</td>\n      <td>142</td>\n      <td>200</td>\n      <td>203</td>\n      <td>136</td>\n      <td>126</td>\n      <td>225</td>\n      <td>89</td>\n    </tr>\n    <tr>\n      <th>7</th>\n      <td>부산광역시</td>\n      <td>0</td>\n      <td>0</td>\n      <td>19</td>\n      <td>40</td>\n      <td>45</td>\n      <td>43</td>\n      <td>45</td>\n      <td>204</td>\n      <td>156</td>\n    </tr>\n    <tr>\n      <th>8</th>\n      <td>서울특별시</td>\n      <td>802</td>\n      <td>3338</td>\n      <td>4420</td>\n      <td>6324</td>\n      <td>6668</td>\n      <td>6873</td>\n      <td>4598</td>\n      <td>4979</td>\n      <td>2666</td>\n    </tr>\n    <tr>\n      <th>9</th>\n      <td>세종특별자치시</td>\n      <td>2</td>\n      <td>10</td>\n      <td>47</td>\n      <td>81</td>\n      <td>122</td>\n      <td>121</td>\n      <td>93</td>\n      <td>91</td>\n      <td>58</td>\n    </tr>\n    <tr>\n      <th>10</th>\n      <td>울산광역시</td>\n      <td>34</td>\n      <td>97</td>\n      <td>105</td>\n      <td>100</td>\n      <td>71</td>\n      <td>44</td>\n      <td>50</td>\n      <td>81</td>\n      <td>78</td>\n    </tr>\n    <tr>\n      <th>11</th>\n      <td>인천광역시</td>\n      <td>50</td>\n      <td>251</td>\n      <td>306</td>\n      <td>337</td>\n      <td>291</td>\n      <td>273</td>\n      <td>329</td>\n      <td>291</td>\n      <td>189</td>\n    </tr>\n    <tr>\n      <th>12</th>\n      <td>전라남도</td>\n      <td>0</td>\n      <td>0</td>\n      <td>0</td>\n      <td>0</td>\n      <td>0</td>\n      <td>0</td>\n      <td>0</td>\n      <td>0</td>\n      <td>0</td>\n    </tr>\n    <tr>\n      <th>13</th>\n      <td>전라북도</td>\n      <td>0</td>\n      <td>0</td>\n      <td>0</td>\n      <td>0</td>\n      <td>0</td>\n      <td>0</td>\n      <td>0</td>\n      <td>0</td>\n      <td>0</td>\n    </tr>\n    <tr>\n      <th>14</th>\n      <td>제주특별자치도</td>\n      <td>0</td>\n      <td>0</td>\n      <td>0</td>\n      <td>0</td>\n      <td>0</td>\n      <td>0</td>\n      <td>0</td>\n      <td>0</td>\n      <td>0</td>\n    </tr>\n    <tr>\n      <th>15</th>\n      <td>충청남도</td>\n      <td>0</td>\n      <td>0</td>\n      <td>0</td>\n      <td>0</td>\n      <td>0</td>\n      <td>0</td>\n      <td>0</td>\n      <td>58</td>\n      <td>0</td>\n    </tr>\n    <tr>\n      <th>16</th>\n      <td>충청북도</td>\n      <td>10</td>\n      <td>41</td>\n      <td>63</td>\n      <td>31</td>\n      <td>39</td>\n      <td>27</td>\n      <td>37</td>\n      <td>32</td>\n      <td>21</td>\n    </tr>\n  </tbody>\n</table>\n</div>"
     },
     "metadata": {},
     "execution_count": 53
    }
   ],
   "source": [
    "testD = pd.read_csv('sub-data-files/raemian_region_deal_count.csv')\n",
    "testD"
   ]
  },
  {
   "cell_type": "code",
   "execution_count": 51,
   "metadata": {},
   "outputs": [],
   "source": [
    "# 래미안 아파트 년도별 지역별 평균 평당 가격\n",
    "def make_raemian_region_avg_price_per_pyung():\n",
    "\n",
    "    dataD = pd.DataFrame({'REGION': region_table1})\n",
    "\n",
    "    for year in time_table2:\n",
    "\n",
    "        query = f\"\"\"\n",
    "            SELECT adp.region, round(AVG(adp.price_per_pyung)) AS Y{year}\n",
    "            FROM (SELECT A.region, A.apt_name, A.contract_date,\n",
    "                         (A.contract_price / (A.apt_size / 3.3)) price_per_pyung\n",
    "                  FROM apt_deal_price A\n",
    "                  WHERE A.apt_name LIKE '%래미안%' or\n",
    "                        A.apt_name LIKE '%레미안%') adp\n",
    "            WHERE to_char(adp.contract_date, 'YYYY') = '{year}' and\n",
    "                  adp.apt_name NOT LIKE '%대동레미안%' and\n",
    "                  adp.apt_name NOT IN ('레미안블루')\n",
    "            GROUP BY adp.region\n",
    "            ORDER BY adp.region ASC\n",
    "            \"\"\"\n",
    "\n",
    "        queD = get_data_from_db(query)\n",
    "        dataD = dataD.merge(queD, how='left')\n",
    "\n",
    "    lower_col = dataD.columns.values.tolist()\n",
    "    dataD.columns = [ l.lower() for l in lower_col ]\n",
    "\n",
    "    dataD.fillna(0, inplace=True)\n",
    "\n",
    "    dataD.set_index('region', inplace=True)\n",
    "    dataD = dataD.astype('int64')\n",
    "    dataD.reset_index(inplace=True)\n",
    "   \n",
    "    dataD.info()\n",
    "    dataD.to_csv('sub-data-files/raemian_region_avg_price_per_pyung.csv', index=False, encoding='utf-8-sig')"
   ]
  },
  {
   "cell_type": "code",
   "execution_count": 54,
   "metadata": {
    "tags": []
   },
   "outputs": [
    {
     "output_type": "stream",
     "name": "stdout",
     "text": "<class 'pandas.core.frame.DataFrame'>\nRangeIndex: 17 entries, 0 to 16\nData columns (total 10 columns):\n #   Column  Non-Null Count  Dtype \n---  ------  --------------  ----- \n 0   region  17 non-null     object\n 1   y2012   17 non-null     int64 \n 2   y2013   17 non-null     int64 \n 3   y2014   17 non-null     int64 \n 4   y2015   17 non-null     int64 \n 5   y2016   17 non-null     int64 \n 6   y2017   17 non-null     int64 \n 7   y2018   17 non-null     int64 \n 8   y2019   17 non-null     int64 \n 9   y2020   17 non-null     int64 \ndtypes: int64(9), object(1)\nmemory usage: 1.5+ KB\n"
    }
   ],
   "source": [
    "# make_raemian_region_avg_price_per_pyung()"
   ]
  },
  {
   "cell_type": "code",
   "execution_count": 55,
   "metadata": {},
   "outputs": [
    {
     "output_type": "execute_result",
     "data": {
      "text/plain": "     region     y2012     y2013     y2014     y2015     y2016     y2017  \\\n0       강원도         0         0         0         0         0         0   \n1       경기도  16366634  15880318  16322448  17657037  19608343  20458745   \n2      경상남도         0         0         0         0         0         0   \n3      경상북도         0         0         0         0         0         0   \n4     광주광역시         0         0         0         0         0         0   \n5     대구광역시   8830004   9453744  11001934  12364259  12257492  12826133   \n6     대전광역시   8408909   8520085   8561376   8506557   8743648   9173932   \n7     부산광역시         0         0  15179772  17695371  20137807  23075709   \n8     서울특별시  21564691  21916229  22790607  23997526  26552414  30148579   \n9   세종특별자치시  10298128  10819159  12001072  12119308  12779788  13517637   \n10    울산광역시  11849711  12121037  12521420  13711259  14657101  14535390   \n11    인천광역시  10294925  11439595  12121884  12866083  13798448  14652944   \n12     전라남도         0         0         0         0         0         0   \n13     전라북도         0         0         0         0         0         0   \n14  제주특별자치도         0         0         0         0         0         0   \n15     충청남도         0         0         0         0         0         0   \n16     충청북도   5757438   5416174   5145296   6080222   5805752   5484103   \n\n       y2018     y2019     y2020  \n0          0         0         0  \n1   22017982  25684198  23678894  \n2          0         0         0  \n3          0         0         0  \n4          0         0         0  \n5   13582779  13471369  14286239  \n6    9089481   9535104  11866046  \n7   22773428  25042625  29677349  \n8   34501831  45069240  46929123  \n9   14427241  14970206  17341962  \n10  13549621  12940940  14115973  \n11  15399060  16303471  17015426  \n12         0         0         0  \n13         0         0         0  \n14         0         0         0  \n15         0  12345614         0  \n16   5413146   4794881   4936382  ",
      "text/html": "<div>\n<style scoped>\n    .dataframe tbody tr th:only-of-type {\n        vertical-align: middle;\n    }\n\n    .dataframe tbody tr th {\n        vertical-align: top;\n    }\n\n    .dataframe thead th {\n        text-align: right;\n    }\n</style>\n<table border=\"1\" class=\"dataframe\">\n  <thead>\n    <tr style=\"text-align: right;\">\n      <th></th>\n      <th>region</th>\n      <th>y2012</th>\n      <th>y2013</th>\n      <th>y2014</th>\n      <th>y2015</th>\n      <th>y2016</th>\n      <th>y2017</th>\n      <th>y2018</th>\n      <th>y2019</th>\n      <th>y2020</th>\n    </tr>\n  </thead>\n  <tbody>\n    <tr>\n      <th>0</th>\n      <td>강원도</td>\n      <td>0</td>\n      <td>0</td>\n      <td>0</td>\n      <td>0</td>\n      <td>0</td>\n      <td>0</td>\n      <td>0</td>\n      <td>0</td>\n      <td>0</td>\n    </tr>\n    <tr>\n      <th>1</th>\n      <td>경기도</td>\n      <td>16366634</td>\n      <td>15880318</td>\n      <td>16322448</td>\n      <td>17657037</td>\n      <td>19608343</td>\n      <td>20458745</td>\n      <td>22017982</td>\n      <td>25684198</td>\n      <td>23678894</td>\n    </tr>\n    <tr>\n      <th>2</th>\n      <td>경상남도</td>\n      <td>0</td>\n      <td>0</td>\n      <td>0</td>\n      <td>0</td>\n      <td>0</td>\n      <td>0</td>\n      <td>0</td>\n      <td>0</td>\n      <td>0</td>\n    </tr>\n    <tr>\n      <th>3</th>\n      <td>경상북도</td>\n      <td>0</td>\n      <td>0</td>\n      <td>0</td>\n      <td>0</td>\n      <td>0</td>\n      <td>0</td>\n      <td>0</td>\n      <td>0</td>\n      <td>0</td>\n    </tr>\n    <tr>\n      <th>4</th>\n      <td>광주광역시</td>\n      <td>0</td>\n      <td>0</td>\n      <td>0</td>\n      <td>0</td>\n      <td>0</td>\n      <td>0</td>\n      <td>0</td>\n      <td>0</td>\n      <td>0</td>\n    </tr>\n    <tr>\n      <th>5</th>\n      <td>대구광역시</td>\n      <td>8830004</td>\n      <td>9453744</td>\n      <td>11001934</td>\n      <td>12364259</td>\n      <td>12257492</td>\n      <td>12826133</td>\n      <td>13582779</td>\n      <td>13471369</td>\n      <td>14286239</td>\n    </tr>\n    <tr>\n      <th>6</th>\n      <td>대전광역시</td>\n      <td>8408909</td>\n      <td>8520085</td>\n      <td>8561376</td>\n      <td>8506557</td>\n      <td>8743648</td>\n      <td>9173932</td>\n      <td>9089481</td>\n      <td>9535104</td>\n      <td>11866046</td>\n    </tr>\n    <tr>\n      <th>7</th>\n      <td>부산광역시</td>\n      <td>0</td>\n      <td>0</td>\n      <td>15179772</td>\n      <td>17695371</td>\n      <td>20137807</td>\n      <td>23075709</td>\n      <td>22773428</td>\n      <td>25042625</td>\n      <td>29677349</td>\n    </tr>\n    <tr>\n      <th>8</th>\n      <td>서울특별시</td>\n      <td>21564691</td>\n      <td>21916229</td>\n      <td>22790607</td>\n      <td>23997526</td>\n      <td>26552414</td>\n      <td>30148579</td>\n      <td>34501831</td>\n      <td>45069240</td>\n      <td>46929123</td>\n    </tr>\n    <tr>\n      <th>9</th>\n      <td>세종특별자치시</td>\n      <td>10298128</td>\n      <td>10819159</td>\n      <td>12001072</td>\n      <td>12119308</td>\n      <td>12779788</td>\n      <td>13517637</td>\n      <td>14427241</td>\n      <td>14970206</td>\n      <td>17341962</td>\n    </tr>\n    <tr>\n      <th>10</th>\n      <td>울산광역시</td>\n      <td>11849711</td>\n      <td>12121037</td>\n      <td>12521420</td>\n      <td>13711259</td>\n      <td>14657101</td>\n      <td>14535390</td>\n      <td>13549621</td>\n      <td>12940940</td>\n      <td>14115973</td>\n    </tr>\n    <tr>\n      <th>11</th>\n      <td>인천광역시</td>\n      <td>10294925</td>\n      <td>11439595</td>\n      <td>12121884</td>\n      <td>12866083</td>\n      <td>13798448</td>\n      <td>14652944</td>\n      <td>15399060</td>\n      <td>16303471</td>\n      <td>17015426</td>\n    </tr>\n    <tr>\n      <th>12</th>\n      <td>전라남도</td>\n      <td>0</td>\n      <td>0</td>\n      <td>0</td>\n      <td>0</td>\n      <td>0</td>\n      <td>0</td>\n      <td>0</td>\n      <td>0</td>\n      <td>0</td>\n    </tr>\n    <tr>\n      <th>13</th>\n      <td>전라북도</td>\n      <td>0</td>\n      <td>0</td>\n      <td>0</td>\n      <td>0</td>\n      <td>0</td>\n      <td>0</td>\n      <td>0</td>\n      <td>0</td>\n      <td>0</td>\n    </tr>\n    <tr>\n      <th>14</th>\n      <td>제주특별자치도</td>\n      <td>0</td>\n      <td>0</td>\n      <td>0</td>\n      <td>0</td>\n      <td>0</td>\n      <td>0</td>\n      <td>0</td>\n      <td>0</td>\n      <td>0</td>\n    </tr>\n    <tr>\n      <th>15</th>\n      <td>충청남도</td>\n      <td>0</td>\n      <td>0</td>\n      <td>0</td>\n      <td>0</td>\n      <td>0</td>\n      <td>0</td>\n      <td>0</td>\n      <td>12345614</td>\n      <td>0</td>\n    </tr>\n    <tr>\n      <th>16</th>\n      <td>충청북도</td>\n      <td>5757438</td>\n      <td>5416174</td>\n      <td>5145296</td>\n      <td>6080222</td>\n      <td>5805752</td>\n      <td>5484103</td>\n      <td>5413146</td>\n      <td>4794881</td>\n      <td>4936382</td>\n    </tr>\n  </tbody>\n</table>\n</div>"
     },
     "metadata": {},
     "execution_count": 55
    }
   ],
   "source": [
    "testD = pd.read_csv('sub-data-files/raemian_region_avg_price_per_pyung.csv')\n",
    "testD"
   ]
  },
  {
   "cell_type": "code",
   "execution_count": 56,
   "metadata": {},
   "outputs": [],
   "source": [
    "# 푸르지오 아파트 년도별 지역별 매매건수\n",
    "def make_prugio_region_deal_count():\n",
    "\n",
    "    dataD = pd.DataFrame({'REGION': region_table1})\n",
    "\n",
    "    for year in time_table2:\n",
    "\n",
    "        query = f\"\"\"\n",
    "            SELECT adp.region, COUNT(*) AS Y{year}\n",
    "            FROM (SELECT *\n",
    "                  FROM apt_deal_price A\n",
    "                  WHERE A.apt_name LIKE '%푸르지오%') adp\n",
    "            WHERE to_char(adp.contract_date, 'YYYY') = '{year}'\n",
    "            GROUP BY adp.region\n",
    "            ORDER BY adp.region ASC\n",
    "            \"\"\"\n",
    "\n",
    "        queD = get_data_from_db(query)\n",
    "        dataD = dataD.merge(queD, how='left')\n",
    "\n",
    "    lower_col = dataD.columns.values.tolist()\n",
    "    dataD.columns = [ l.lower() for l in lower_col ]\n",
    "\n",
    "    dataD.fillna(0, inplace=True)\n",
    "\n",
    "    dataD.set_index('region', inplace=True)\n",
    "    dataD = dataD.astype('int64')\n",
    "    dataD.reset_index(inplace=True)\n",
    "   \n",
    "    dataD.info()\n",
    "    dataD.to_csv('sub-data-files/prugio_region_deal_count.csv', index=False, encoding='utf-8-sig')"
   ]
  },
  {
   "cell_type": "code",
   "execution_count": 57,
   "metadata": {
    "tags": []
   },
   "outputs": [
    {
     "output_type": "stream",
     "name": "stdout",
     "text": "<class 'pandas.core.frame.DataFrame'>\nRangeIndex: 17 entries, 0 to 16\nData columns (total 10 columns):\n #   Column  Non-Null Count  Dtype \n---  ------  --------------  ----- \n 0   region  17 non-null     object\n 1   y2012   17 non-null     int64 \n 2   y2013   17 non-null     int64 \n 3   y2014   17 non-null     int64 \n 4   y2015   17 non-null     int64 \n 5   y2016   17 non-null     int64 \n 6   y2017   17 non-null     int64 \n 7   y2018   17 non-null     int64 \n 8   y2019   17 non-null     int64 \n 9   y2020   17 non-null     int64 \ndtypes: int64(9), object(1)\nmemory usage: 1.5+ KB\n"
    }
   ],
   "source": [
    "# make_prugio_region_deal_count()"
   ]
  },
  {
   "cell_type": "code",
   "execution_count": 58,
   "metadata": {},
   "outputs": [
    {
     "output_type": "execute_result",
     "data": {
      "text/plain": "     region  y2012  y2013  y2014  y2015  y2016  y2017  y2018  y2019  y2020\n0       강원도      6     22     27     27     30     17     44     71     74\n1       경기도    794   2480   3350   3500   2996   3004   3833   4932   5564\n2      경상남도    351   1096   1272   1307    945    749    795   1321    953\n3      경상북도    187    468    431    353    224    290    274    587    540\n4     광주광역시      9     26     46     27     23     28     20     20      8\n5     대구광역시    377   1095   1028    671    403    870    800    573    411\n6     대전광역시     36     89     95     91    148    122    156    210    111\n7     부산광역시     65    314    392    677    586    398    590    600    570\n8     서울특별시    433   1315   1945   2583   2700   2777   2196   2060   1181\n9   세종특별자치시     45     96    105    192    313    389    232    348    383\n10    울산광역시    336    927    834    865    481    516    429    835    526\n11    인천광역시    373    502    849    779   1033    679    634   1003    988\n12     전라남도      7     18     34     56     44     50     23     12     28\n13     전라북도      4     15     11     12     11      8     25     91     99\n14  제주특별자치도      0      0      0      0      0      0      0      0      0\n15     충청남도    351    738    610    490    295    428    582    918    724\n16     충청북도    175    485    466    272    279    297    294    463    633",
      "text/html": "<div>\n<style scoped>\n    .dataframe tbody tr th:only-of-type {\n        vertical-align: middle;\n    }\n\n    .dataframe tbody tr th {\n        vertical-align: top;\n    }\n\n    .dataframe thead th {\n        text-align: right;\n    }\n</style>\n<table border=\"1\" class=\"dataframe\">\n  <thead>\n    <tr style=\"text-align: right;\">\n      <th></th>\n      <th>region</th>\n      <th>y2012</th>\n      <th>y2013</th>\n      <th>y2014</th>\n      <th>y2015</th>\n      <th>y2016</th>\n      <th>y2017</th>\n      <th>y2018</th>\n      <th>y2019</th>\n      <th>y2020</th>\n    </tr>\n  </thead>\n  <tbody>\n    <tr>\n      <th>0</th>\n      <td>강원도</td>\n      <td>6</td>\n      <td>22</td>\n      <td>27</td>\n      <td>27</td>\n      <td>30</td>\n      <td>17</td>\n      <td>44</td>\n      <td>71</td>\n      <td>74</td>\n    </tr>\n    <tr>\n      <th>1</th>\n      <td>경기도</td>\n      <td>794</td>\n      <td>2480</td>\n      <td>3350</td>\n      <td>3500</td>\n      <td>2996</td>\n      <td>3004</td>\n      <td>3833</td>\n      <td>4932</td>\n      <td>5564</td>\n    </tr>\n    <tr>\n      <th>2</th>\n      <td>경상남도</td>\n      <td>351</td>\n      <td>1096</td>\n      <td>1272</td>\n      <td>1307</td>\n      <td>945</td>\n      <td>749</td>\n      <td>795</td>\n      <td>1321</td>\n      <td>953</td>\n    </tr>\n    <tr>\n      <th>3</th>\n      <td>경상북도</td>\n      <td>187</td>\n      <td>468</td>\n      <td>431</td>\n      <td>353</td>\n      <td>224</td>\n      <td>290</td>\n      <td>274</td>\n      <td>587</td>\n      <td>540</td>\n    </tr>\n    <tr>\n      <th>4</th>\n      <td>광주광역시</td>\n      <td>9</td>\n      <td>26</td>\n      <td>46</td>\n      <td>27</td>\n      <td>23</td>\n      <td>28</td>\n      <td>20</td>\n      <td>20</td>\n      <td>8</td>\n    </tr>\n    <tr>\n      <th>5</th>\n      <td>대구광역시</td>\n      <td>377</td>\n      <td>1095</td>\n      <td>1028</td>\n      <td>671</td>\n      <td>403</td>\n      <td>870</td>\n      <td>800</td>\n      <td>573</td>\n      <td>411</td>\n    </tr>\n    <tr>\n      <th>6</th>\n      <td>대전광역시</td>\n      <td>36</td>\n      <td>89</td>\n      <td>95</td>\n      <td>91</td>\n      <td>148</td>\n      <td>122</td>\n      <td>156</td>\n      <td>210</td>\n      <td>111</td>\n    </tr>\n    <tr>\n      <th>7</th>\n      <td>부산광역시</td>\n      <td>65</td>\n      <td>314</td>\n      <td>392</td>\n      <td>677</td>\n      <td>586</td>\n      <td>398</td>\n      <td>590</td>\n      <td>600</td>\n      <td>570</td>\n    </tr>\n    <tr>\n      <th>8</th>\n      <td>서울특별시</td>\n      <td>433</td>\n      <td>1315</td>\n      <td>1945</td>\n      <td>2583</td>\n      <td>2700</td>\n      <td>2777</td>\n      <td>2196</td>\n      <td>2060</td>\n      <td>1181</td>\n    </tr>\n    <tr>\n      <th>9</th>\n      <td>세종특별자치시</td>\n      <td>45</td>\n      <td>96</td>\n      <td>105</td>\n      <td>192</td>\n      <td>313</td>\n      <td>389</td>\n      <td>232</td>\n      <td>348</td>\n      <td>383</td>\n    </tr>\n    <tr>\n      <th>10</th>\n      <td>울산광역시</td>\n      <td>336</td>\n      <td>927</td>\n      <td>834</td>\n      <td>865</td>\n      <td>481</td>\n      <td>516</td>\n      <td>429</td>\n      <td>835</td>\n      <td>526</td>\n    </tr>\n    <tr>\n      <th>11</th>\n      <td>인천광역시</td>\n      <td>373</td>\n      <td>502</td>\n      <td>849</td>\n      <td>779</td>\n      <td>1033</td>\n      <td>679</td>\n      <td>634</td>\n      <td>1003</td>\n      <td>988</td>\n    </tr>\n    <tr>\n      <th>12</th>\n      <td>전라남도</td>\n      <td>7</td>\n      <td>18</td>\n      <td>34</td>\n      <td>56</td>\n      <td>44</td>\n      <td>50</td>\n      <td>23</td>\n      <td>12</td>\n      <td>28</td>\n    </tr>\n    <tr>\n      <th>13</th>\n      <td>전라북도</td>\n      <td>4</td>\n      <td>15</td>\n      <td>11</td>\n      <td>12</td>\n      <td>11</td>\n      <td>8</td>\n      <td>25</td>\n      <td>91</td>\n      <td>99</td>\n    </tr>\n    <tr>\n      <th>14</th>\n      <td>제주특별자치도</td>\n      <td>0</td>\n      <td>0</td>\n      <td>0</td>\n      <td>0</td>\n      <td>0</td>\n      <td>0</td>\n      <td>0</td>\n      <td>0</td>\n      <td>0</td>\n    </tr>\n    <tr>\n      <th>15</th>\n      <td>충청남도</td>\n      <td>351</td>\n      <td>738</td>\n      <td>610</td>\n      <td>490</td>\n      <td>295</td>\n      <td>428</td>\n      <td>582</td>\n      <td>918</td>\n      <td>724</td>\n    </tr>\n    <tr>\n      <th>16</th>\n      <td>충청북도</td>\n      <td>175</td>\n      <td>485</td>\n      <td>466</td>\n      <td>272</td>\n      <td>279</td>\n      <td>297</td>\n      <td>294</td>\n      <td>463</td>\n      <td>633</td>\n    </tr>\n  </tbody>\n</table>\n</div>"
     },
     "metadata": {},
     "execution_count": 58
    }
   ],
   "source": [
    "testD = pd.read_csv('sub-data-files/prugio_region_deal_count.csv')\n",
    "testD"
   ]
  },
  {
   "cell_type": "code",
   "execution_count": 59,
   "metadata": {},
   "outputs": [],
   "source": [
    "# 푸르지오 아파트 년도별 지역별 평균 평당 가격\n",
    "def make_prugio_region_avg_price_per_pyung():\n",
    "\n",
    "    dataD = pd.DataFrame({'REGION': region_table1})\n",
    "\n",
    "    for year in time_table2:\n",
    "\n",
    "        query = f\"\"\"\n",
    "            SELECT adp.region, round(AVG(adp.price_per_pyung)) AS Y{year}\n",
    "            FROM (SELECT A.region, A.apt_name, A.contract_date,\n",
    "                         (A.contract_price / (A.apt_size / 3.3)) price_per_pyung\n",
    "                  FROM apt_deal_price A\n",
    "                  WHERE A.apt_name LIKE '%푸르지오%') adp\n",
    "            WHERE to_char(adp.contract_date, 'YYYY') = '{year}'\n",
    "            GROUP BY adp.region\n",
    "            ORDER BY adp.region ASC\n",
    "            \"\"\"\n",
    "\n",
    "        queD = get_data_from_db(query)\n",
    "        dataD = dataD.merge(queD, how='left')\n",
    "\n",
    "    lower_col = dataD.columns.values.tolist()\n",
    "    dataD.columns = [ l.lower() for l in lower_col ]\n",
    "\n",
    "    dataD.fillna(0, inplace=True)\n",
    "\n",
    "    dataD.set_index('region', inplace=True)\n",
    "    dataD = dataD.astype('int64')\n",
    "    dataD.reset_index(inplace=True)\n",
    "   \n",
    "    dataD.info()\n",
    "    dataD.to_csv('sub-data-files/prugio_region_avg_price_per_pyung.csv', index=False, encoding='utf-8-sig')"
   ]
  },
  {
   "cell_type": "code",
   "execution_count": 62,
   "metadata": {
    "tags": []
   },
   "outputs": [],
   "source": [
    "# make_prugio_region_avg_price_per_pyung()"
   ]
  },
  {
   "cell_type": "code",
   "execution_count": 61,
   "metadata": {},
   "outputs": [
    {
     "output_type": "execute_result",
     "data": {
      "text/plain": "     region     y2012     y2013     y2014     y2015     y2016     y2017  \\\n0       강원도   6953327   6719189   6996597   7301921   7879927   8390000   \n1       경기도  12317257  12835762  13262258  14146030  15030926  16609604   \n2      경상남도   8972833   9178008   9510955   9991416  10377447  10574611   \n3      경상북도   7985657   8699260   9430485   9653580   9350804   9281422   \n4     광주광역시   9447889   9955016  10612557  11512458  12358420  13292842   \n5     대구광역시   8763730   9383028  10632620  12610376  12628118  13103938   \n6     대전광역시   9720102  10025952  10324740  11017950  11514856  12276621   \n7     부산광역시  11580280  11546335  12026356  14121472  16213124  17397809   \n8     서울특별시  18770545  18443626  19550493  21068774  23920456  27322004   \n9   세종특별자치시   7228420   7167473   7936757   8868726   9870014  11085167   \n10    울산광역시  12401996  12247891  11919556  12957135  14391479  13435075   \n11    인천광역시  12761442  12123743  13723383  14018927  15272393  15876060   \n12     전라남도   7292200   7206071   7240179   7918254   8229456   8794710   \n13     전라북도   7295222   7806906   7209349   7745038   8291793   8460674   \n14  제주특별자치도         0         0         0         0         0         0   \n15     충청남도   9096749   9110546   9473019   9775688   9835865   9719339   \n16     충청북도   9836580   9671849  10823004  11052719  10547171  10474120   \n\n       y2018     y2019     y2020  \n0    9960774  10297607  10419113  \n1   17187648  17890422  18524093  \n2   11080551  10972761  11625285  \n3    9116952   9495687   9634937  \n4   15490842  18295093  18878699  \n5   14151080  14724294  14919303  \n6   12810128  13371615  15192554  \n7   14963795  18782982  20697370  \n8   30128505  39261913  38867329  \n9   11240308  11453555  13874856  \n10  12505102  12809475  14092919  \n11  16494937  17630555  18991160  \n12   8511820   7886423   7513801  \n13   9370044  10808724  12073276  \n14         0         0         0  \n15  10796475  12013388  13154495  \n16  10108791   9605187  10479848  ",
      "text/html": "<div>\n<style scoped>\n    .dataframe tbody tr th:only-of-type {\n        vertical-align: middle;\n    }\n\n    .dataframe tbody tr th {\n        vertical-align: top;\n    }\n\n    .dataframe thead th {\n        text-align: right;\n    }\n</style>\n<table border=\"1\" class=\"dataframe\">\n  <thead>\n    <tr style=\"text-align: right;\">\n      <th></th>\n      <th>region</th>\n      <th>y2012</th>\n      <th>y2013</th>\n      <th>y2014</th>\n      <th>y2015</th>\n      <th>y2016</th>\n      <th>y2017</th>\n      <th>y2018</th>\n      <th>y2019</th>\n      <th>y2020</th>\n    </tr>\n  </thead>\n  <tbody>\n    <tr>\n      <th>0</th>\n      <td>강원도</td>\n      <td>6953327</td>\n      <td>6719189</td>\n      <td>6996597</td>\n      <td>7301921</td>\n      <td>7879927</td>\n      <td>8390000</td>\n      <td>9960774</td>\n      <td>10297607</td>\n      <td>10419113</td>\n    </tr>\n    <tr>\n      <th>1</th>\n      <td>경기도</td>\n      <td>12317257</td>\n      <td>12835762</td>\n      <td>13262258</td>\n      <td>14146030</td>\n      <td>15030926</td>\n      <td>16609604</td>\n      <td>17187648</td>\n      <td>17890422</td>\n      <td>18524093</td>\n    </tr>\n    <tr>\n      <th>2</th>\n      <td>경상남도</td>\n      <td>8972833</td>\n      <td>9178008</td>\n      <td>9510955</td>\n      <td>9991416</td>\n      <td>10377447</td>\n      <td>10574611</td>\n      <td>11080551</td>\n      <td>10972761</td>\n      <td>11625285</td>\n    </tr>\n    <tr>\n      <th>3</th>\n      <td>경상북도</td>\n      <td>7985657</td>\n      <td>8699260</td>\n      <td>9430485</td>\n      <td>9653580</td>\n      <td>9350804</td>\n      <td>9281422</td>\n      <td>9116952</td>\n      <td>9495687</td>\n      <td>9634937</td>\n    </tr>\n    <tr>\n      <th>4</th>\n      <td>광주광역시</td>\n      <td>9447889</td>\n      <td>9955016</td>\n      <td>10612557</td>\n      <td>11512458</td>\n      <td>12358420</td>\n      <td>13292842</td>\n      <td>15490842</td>\n      <td>18295093</td>\n      <td>18878699</td>\n    </tr>\n    <tr>\n      <th>5</th>\n      <td>대구광역시</td>\n      <td>8763730</td>\n      <td>9383028</td>\n      <td>10632620</td>\n      <td>12610376</td>\n      <td>12628118</td>\n      <td>13103938</td>\n      <td>14151080</td>\n      <td>14724294</td>\n      <td>14919303</td>\n    </tr>\n    <tr>\n      <th>6</th>\n      <td>대전광역시</td>\n      <td>9720102</td>\n      <td>10025952</td>\n      <td>10324740</td>\n      <td>11017950</td>\n      <td>11514856</td>\n      <td>12276621</td>\n      <td>12810128</td>\n      <td>13371615</td>\n      <td>15192554</td>\n    </tr>\n    <tr>\n      <th>7</th>\n      <td>부산광역시</td>\n      <td>11580280</td>\n      <td>11546335</td>\n      <td>12026356</td>\n      <td>14121472</td>\n      <td>16213124</td>\n      <td>17397809</td>\n      <td>14963795</td>\n      <td>18782982</td>\n      <td>20697370</td>\n    </tr>\n    <tr>\n      <th>8</th>\n      <td>서울특별시</td>\n      <td>18770545</td>\n      <td>18443626</td>\n      <td>19550493</td>\n      <td>21068774</td>\n      <td>23920456</td>\n      <td>27322004</td>\n      <td>30128505</td>\n      <td>39261913</td>\n      <td>38867329</td>\n    </tr>\n    <tr>\n      <th>9</th>\n      <td>세종특별자치시</td>\n      <td>7228420</td>\n      <td>7167473</td>\n      <td>7936757</td>\n      <td>8868726</td>\n      <td>9870014</td>\n      <td>11085167</td>\n      <td>11240308</td>\n      <td>11453555</td>\n      <td>13874856</td>\n    </tr>\n    <tr>\n      <th>10</th>\n      <td>울산광역시</td>\n      <td>12401996</td>\n      <td>12247891</td>\n      <td>11919556</td>\n      <td>12957135</td>\n      <td>14391479</td>\n      <td>13435075</td>\n      <td>12505102</td>\n      <td>12809475</td>\n      <td>14092919</td>\n    </tr>\n    <tr>\n      <th>11</th>\n      <td>인천광역시</td>\n      <td>12761442</td>\n      <td>12123743</td>\n      <td>13723383</td>\n      <td>14018927</td>\n      <td>15272393</td>\n      <td>15876060</td>\n      <td>16494937</td>\n      <td>17630555</td>\n      <td>18991160</td>\n    </tr>\n    <tr>\n      <th>12</th>\n      <td>전라남도</td>\n      <td>7292200</td>\n      <td>7206071</td>\n      <td>7240179</td>\n      <td>7918254</td>\n      <td>8229456</td>\n      <td>8794710</td>\n      <td>8511820</td>\n      <td>7886423</td>\n      <td>7513801</td>\n    </tr>\n    <tr>\n      <th>13</th>\n      <td>전라북도</td>\n      <td>7295222</td>\n      <td>7806906</td>\n      <td>7209349</td>\n      <td>7745038</td>\n      <td>8291793</td>\n      <td>8460674</td>\n      <td>9370044</td>\n      <td>10808724</td>\n      <td>12073276</td>\n    </tr>\n    <tr>\n      <th>14</th>\n      <td>제주특별자치도</td>\n      <td>0</td>\n      <td>0</td>\n      <td>0</td>\n      <td>0</td>\n      <td>0</td>\n      <td>0</td>\n      <td>0</td>\n      <td>0</td>\n      <td>0</td>\n    </tr>\n    <tr>\n      <th>15</th>\n      <td>충청남도</td>\n      <td>9096749</td>\n      <td>9110546</td>\n      <td>9473019</td>\n      <td>9775688</td>\n      <td>9835865</td>\n      <td>9719339</td>\n      <td>10796475</td>\n      <td>12013388</td>\n      <td>13154495</td>\n    </tr>\n    <tr>\n      <th>16</th>\n      <td>충청북도</td>\n      <td>9836580</td>\n      <td>9671849</td>\n      <td>10823004</td>\n      <td>11052719</td>\n      <td>10547171</td>\n      <td>10474120</td>\n      <td>10108791</td>\n      <td>9605187</td>\n      <td>10479848</td>\n    </tr>\n  </tbody>\n</table>\n</div>"
     },
     "metadata": {},
     "execution_count": 61
    }
   ],
   "source": [
    "testD = pd.read_csv('sub-data-files/prugio_region_avg_price_per_pyung.csv')\n",
    "testD"
   ]
  },
  {
   "cell_type": "code",
   "execution_count": 63,
   "metadata": {},
   "outputs": [],
   "source": [
    "# 롯데캐슬 아파트 년도별 지역별 매매건수\n",
    "def make_lottecastle_region_deal_count():\n",
    "\n",
    "    dataD = pd.DataFrame({'REGION': region_table1})\n",
    "\n",
    "    for year in time_table2:\n",
    "\n",
    "        query = f\"\"\"\n",
    "            SELECT adp.region, COUNT(*) AS Y{year}\n",
    "            FROM (SELECT *\n",
    "                  FROM apt_deal_price A\n",
    "                  WHERE A.apt_name LIKE '%롯데캐슬%') adp\n",
    "            WHERE to_char(adp.contract_date, 'YYYY') = '{year}'\n",
    "            GROUP BY adp.region\n",
    "            ORDER BY adp.region ASC\n",
    "            \"\"\"\n",
    "\n",
    "        queD = get_data_from_db(query)\n",
    "        dataD = dataD.merge(queD, how='left')\n",
    "\n",
    "    lower_col = dataD.columns.values.tolist()\n",
    "    dataD.columns = [ l.lower() for l in lower_col ]\n",
    "\n",
    "    dataD.fillna(0, inplace=True)\n",
    "\n",
    "    dataD.set_index('region', inplace=True)\n",
    "    dataD = dataD.astype('int64')\n",
    "    dataD.reset_index(inplace=True)\n",
    "   \n",
    "    dataD.info()\n",
    "    dataD.to_csv('sub-data-files/lottecastle_region_deal_count.csv', index=False, encoding='utf-8-sig')"
   ]
  },
  {
   "cell_type": "code",
   "execution_count": 66,
   "metadata": {
    "tags": []
   },
   "outputs": [],
   "source": [
    "# make_lottecastle_region_deal_count()"
   ]
  },
  {
   "cell_type": "code",
   "execution_count": 65,
   "metadata": {},
   "outputs": [
    {
     "output_type": "execute_result",
     "data": {
      "text/plain": "     region  y2012  y2013  y2014  y2015  y2016  y2017  y2018  y2019  y2020\n0       강원도     61     89     94    125    158    108    133    167    308\n1       경기도    170    409    694   1617   1161   1002   1398   1362   1649\n2      경상남도     16     59     94    104     54     59    287    139    140\n3      경상북도      5      7     12     21     11     10     12     93    117\n4     광주광역시     27     69    112     73     74     81     90     82     59\n5     대구광역시    640   1313    797    778    369    761    750    624    414\n6     대전광역시      0      0      0      0      0      0      0      0      0\n7     부산광역시    456   1500   1905   2319   2147   1158   1003   1723   1416\n8     서울특별시    288    929   1049   1639   1669   1637   1347   1279    767\n9   세종특별자치시      0      0      0      0      0      0      0      0      0\n10    울산광역시     94    243    242    261    151    113     90    186    183\n11    인천광역시     81    313    531    403    296    321    361    417    402\n12     전라남도     23     54     78    110    133     93     68     72     74\n13     전라북도      2     16     25     26     14     18     10     19      9\n14  제주특별자치도      0      0      0      0      0      0      0      0      0\n15     충청남도    197    484    358    261    125    141    136    159    150\n16     충청북도     54    101     89     87     63     85    457    254    397",
      "text/html": "<div>\n<style scoped>\n    .dataframe tbody tr th:only-of-type {\n        vertical-align: middle;\n    }\n\n    .dataframe tbody tr th {\n        vertical-align: top;\n    }\n\n    .dataframe thead th {\n        text-align: right;\n    }\n</style>\n<table border=\"1\" class=\"dataframe\">\n  <thead>\n    <tr style=\"text-align: right;\">\n      <th></th>\n      <th>region</th>\n      <th>y2012</th>\n      <th>y2013</th>\n      <th>y2014</th>\n      <th>y2015</th>\n      <th>y2016</th>\n      <th>y2017</th>\n      <th>y2018</th>\n      <th>y2019</th>\n      <th>y2020</th>\n    </tr>\n  </thead>\n  <tbody>\n    <tr>\n      <th>0</th>\n      <td>강원도</td>\n      <td>61</td>\n      <td>89</td>\n      <td>94</td>\n      <td>125</td>\n      <td>158</td>\n      <td>108</td>\n      <td>133</td>\n      <td>167</td>\n      <td>308</td>\n    </tr>\n    <tr>\n      <th>1</th>\n      <td>경기도</td>\n      <td>170</td>\n      <td>409</td>\n      <td>694</td>\n      <td>1617</td>\n      <td>1161</td>\n      <td>1002</td>\n      <td>1398</td>\n      <td>1362</td>\n      <td>1649</td>\n    </tr>\n    <tr>\n      <th>2</th>\n      <td>경상남도</td>\n      <td>16</td>\n      <td>59</td>\n      <td>94</td>\n      <td>104</td>\n      <td>54</td>\n      <td>59</td>\n      <td>287</td>\n      <td>139</td>\n      <td>140</td>\n    </tr>\n    <tr>\n      <th>3</th>\n      <td>경상북도</td>\n      <td>5</td>\n      <td>7</td>\n      <td>12</td>\n      <td>21</td>\n      <td>11</td>\n      <td>10</td>\n      <td>12</td>\n      <td>93</td>\n      <td>117</td>\n    </tr>\n    <tr>\n      <th>4</th>\n      <td>광주광역시</td>\n      <td>27</td>\n      <td>69</td>\n      <td>112</td>\n      <td>73</td>\n      <td>74</td>\n      <td>81</td>\n      <td>90</td>\n      <td>82</td>\n      <td>59</td>\n    </tr>\n    <tr>\n      <th>5</th>\n      <td>대구광역시</td>\n      <td>640</td>\n      <td>1313</td>\n      <td>797</td>\n      <td>778</td>\n      <td>369</td>\n      <td>761</td>\n      <td>750</td>\n      <td>624</td>\n      <td>414</td>\n    </tr>\n    <tr>\n      <th>6</th>\n      <td>대전광역시</td>\n      <td>0</td>\n      <td>0</td>\n      <td>0</td>\n      <td>0</td>\n      <td>0</td>\n      <td>0</td>\n      <td>0</td>\n      <td>0</td>\n      <td>0</td>\n    </tr>\n    <tr>\n      <th>7</th>\n      <td>부산광역시</td>\n      <td>456</td>\n      <td>1500</td>\n      <td>1905</td>\n      <td>2319</td>\n      <td>2147</td>\n      <td>1158</td>\n      <td>1003</td>\n      <td>1723</td>\n      <td>1416</td>\n    </tr>\n    <tr>\n      <th>8</th>\n      <td>서울특별시</td>\n      <td>288</td>\n      <td>929</td>\n      <td>1049</td>\n      <td>1639</td>\n      <td>1669</td>\n      <td>1637</td>\n      <td>1347</td>\n      <td>1279</td>\n      <td>767</td>\n    </tr>\n    <tr>\n      <th>9</th>\n      <td>세종특별자치시</td>\n      <td>0</td>\n      <td>0</td>\n      <td>0</td>\n      <td>0</td>\n      <td>0</td>\n      <td>0</td>\n      <td>0</td>\n      <td>0</td>\n      <td>0</td>\n    </tr>\n    <tr>\n      <th>10</th>\n      <td>울산광역시</td>\n      <td>94</td>\n      <td>243</td>\n      <td>242</td>\n      <td>261</td>\n      <td>151</td>\n      <td>113</td>\n      <td>90</td>\n      <td>186</td>\n      <td>183</td>\n    </tr>\n    <tr>\n      <th>11</th>\n      <td>인천광역시</td>\n      <td>81</td>\n      <td>313</td>\n      <td>531</td>\n      <td>403</td>\n      <td>296</td>\n      <td>321</td>\n      <td>361</td>\n      <td>417</td>\n      <td>402</td>\n    </tr>\n    <tr>\n      <th>12</th>\n      <td>전라남도</td>\n      <td>23</td>\n      <td>54</td>\n      <td>78</td>\n      <td>110</td>\n      <td>133</td>\n      <td>93</td>\n      <td>68</td>\n      <td>72</td>\n      <td>74</td>\n    </tr>\n    <tr>\n      <th>13</th>\n      <td>전라북도</td>\n      <td>2</td>\n      <td>16</td>\n      <td>25</td>\n      <td>26</td>\n      <td>14</td>\n      <td>18</td>\n      <td>10</td>\n      <td>19</td>\n      <td>9</td>\n    </tr>\n    <tr>\n      <th>14</th>\n      <td>제주특별자치도</td>\n      <td>0</td>\n      <td>0</td>\n      <td>0</td>\n      <td>0</td>\n      <td>0</td>\n      <td>0</td>\n      <td>0</td>\n      <td>0</td>\n      <td>0</td>\n    </tr>\n    <tr>\n      <th>15</th>\n      <td>충청남도</td>\n      <td>197</td>\n      <td>484</td>\n      <td>358</td>\n      <td>261</td>\n      <td>125</td>\n      <td>141</td>\n      <td>136</td>\n      <td>159</td>\n      <td>150</td>\n    </tr>\n    <tr>\n      <th>16</th>\n      <td>충청북도</td>\n      <td>54</td>\n      <td>101</td>\n      <td>89</td>\n      <td>87</td>\n      <td>63</td>\n      <td>85</td>\n      <td>457</td>\n      <td>254</td>\n      <td>397</td>\n    </tr>\n  </tbody>\n</table>\n</div>"
     },
     "metadata": {},
     "execution_count": 65
    }
   ],
   "source": [
    "testD = pd.read_csv('sub-data-files/lottecastle_region_deal_count.csv')\n",
    "testD"
   ]
  },
  {
   "cell_type": "code",
   "execution_count": 67,
   "metadata": {},
   "outputs": [],
   "source": [
    "# 롯데캐슬 아파트 년도별 지역별 평균 평당 가격\n",
    "def make_lottecastle_region_avg_price_per_pyung():\n",
    "\n",
    "    dataD = pd.DataFrame({'REGION': region_table1})\n",
    "\n",
    "    for year in time_table2:\n",
    "\n",
    "        query = f\"\"\"\n",
    "            SELECT adp.region, round(AVG(adp.price_per_pyung)) AS Y{year}\n",
    "            FROM (SELECT A.region, A.apt_name, A.contract_date,\n",
    "                         (A.contract_price / (A.apt_size / 3.3)) price_per_pyung\n",
    "                  FROM apt_deal_price A\n",
    "                  WHERE A.apt_name LIKE '%롯데캐슬%') adp\n",
    "            WHERE to_char(adp.contract_date, 'YYYY') = '{year}'\n",
    "            GROUP BY adp.region\n",
    "            ORDER BY adp.region ASC\n",
    "            \"\"\"\n",
    "\n",
    "        queD = get_data_from_db(query)\n",
    "        dataD = dataD.merge(queD, how='left')\n",
    "\n",
    "    lower_col = dataD.columns.values.tolist()\n",
    "    dataD.columns = [ l.lower() for l in lower_col ]\n",
    "\n",
    "    dataD.fillna(0, inplace=True)\n",
    "\n",
    "    dataD.set_index('region', inplace=True)\n",
    "    dataD = dataD.astype('int64')\n",
    "    dataD.reset_index(inplace=True)\n",
    "   \n",
    "    dataD.info()\n",
    "    dataD.to_csv('sub-data-files/lottecastle_region_avg_price_per_pyung.csv', index=False, encoding='utf-8-sig')"
   ]
  },
  {
   "cell_type": "code",
   "execution_count": 68,
   "metadata": {
    "tags": []
   },
   "outputs": [
    {
     "output_type": "stream",
     "name": "stdout",
     "text": "<class 'pandas.core.frame.DataFrame'>\nRangeIndex: 17 entries, 0 to 16\nData columns (total 10 columns):\n #   Column  Non-Null Count  Dtype \n---  ------  --------------  ----- \n 0   region  17 non-null     object\n 1   y2012   17 non-null     int64 \n 2   y2013   17 non-null     int64 \n 3   y2014   17 non-null     int64 \n 4   y2015   17 non-null     int64 \n 5   y2016   17 non-null     int64 \n 6   y2017   17 non-null     int64 \n 7   y2018   17 non-null     int64 \n 8   y2019   17 non-null     int64 \n 9   y2020   17 non-null     int64 \ndtypes: int64(9), object(1)\nmemory usage: 1.5+ KB\n"
    }
   ],
   "source": [
    "# make_lottecastle_region_avg_price_per_pyung()"
   ]
  },
  {
   "cell_type": "code",
   "execution_count": 69,
   "metadata": {},
   "outputs": [
    {
     "output_type": "execute_result",
     "data": {
      "text/plain": "     region     y2012     y2013     y2014     y2015     y2016     y2017  \\\n0       강원도   6465095   7074002   7250960   7426996   8619124  10381692   \n1       경기도  13036535  11417251  13039280  14787668  15698581  15909431   \n2      경상남도   8122420   8529985   8089422   8415689   8878402   8928563   \n3      경상북도   8830888   8814264   8525089   8903110   9279923   9315884   \n4     광주광역시   7345022   7679655   8430480  10014987   9753359   9810347   \n5     대구광역시   8583699   8863110  10977041  12154845  13224278  14155718   \n6     대전광역시         0         0         0         0         0         0   \n7     부산광역시  10930125  10844429  11330428  11872258  13209165  14363002   \n8     서울특별시  22205397  22417828  23407774  23887212  25220645  28424578   \n9   세종특별자치시         0         0         0         0         0         0   \n10    울산광역시  11624678  10895320  11508873  12097141  12993283  13464975   \n11    인천광역시  10717174  11787212  14393215  13225107  14223749  14612187   \n12     전라남도   8504144   7851291   8124193   8029975   8482965   9587084   \n13     전라북도   7510628   6877965   7013780   7206803   7156108   6754877   \n14  제주특별자치도         0         0         0         0         0         0   \n15     충청남도   8108182   7914968   8510364   8966716   8776506   8325057   \n16     충청북도   7740454   7493875   7486069   8724882   9032697   8797854   \n\n       y2018     y2019     y2020  \n0   11314162  10238662  11358803  \n1   16287429  18280776  18319323  \n2    9304985  10749417  11787613  \n3    9151955  10986920  12544072  \n4   10525479  11292471  10959039  \n5   15300286  16648230  16378163  \n6          0         0         0  \n7   14286778  15785436  17022813  \n8   31236775  37478582  40127734  \n9          0         0         0  \n10  12814064  12035299  13429957  \n11  15913247  16892566  19246930  \n12  11162732  11809942  12465482  \n13   7000000   6724761   6926385  \n14         0         0         0  \n15   8100039   7854197   8040662  \n16   9710734   9641425  11160615  ",
      "text/html": "<div>\n<style scoped>\n    .dataframe tbody tr th:only-of-type {\n        vertical-align: middle;\n    }\n\n    .dataframe tbody tr th {\n        vertical-align: top;\n    }\n\n    .dataframe thead th {\n        text-align: right;\n    }\n</style>\n<table border=\"1\" class=\"dataframe\">\n  <thead>\n    <tr style=\"text-align: right;\">\n      <th></th>\n      <th>region</th>\n      <th>y2012</th>\n      <th>y2013</th>\n      <th>y2014</th>\n      <th>y2015</th>\n      <th>y2016</th>\n      <th>y2017</th>\n      <th>y2018</th>\n      <th>y2019</th>\n      <th>y2020</th>\n    </tr>\n  </thead>\n  <tbody>\n    <tr>\n      <th>0</th>\n      <td>강원도</td>\n      <td>6465095</td>\n      <td>7074002</td>\n      <td>7250960</td>\n      <td>7426996</td>\n      <td>8619124</td>\n      <td>10381692</td>\n      <td>11314162</td>\n      <td>10238662</td>\n      <td>11358803</td>\n    </tr>\n    <tr>\n      <th>1</th>\n      <td>경기도</td>\n      <td>13036535</td>\n      <td>11417251</td>\n      <td>13039280</td>\n      <td>14787668</td>\n      <td>15698581</td>\n      <td>15909431</td>\n      <td>16287429</td>\n      <td>18280776</td>\n      <td>18319323</td>\n    </tr>\n    <tr>\n      <th>2</th>\n      <td>경상남도</td>\n      <td>8122420</td>\n      <td>8529985</td>\n      <td>8089422</td>\n      <td>8415689</td>\n      <td>8878402</td>\n      <td>8928563</td>\n      <td>9304985</td>\n      <td>10749417</td>\n      <td>11787613</td>\n    </tr>\n    <tr>\n      <th>3</th>\n      <td>경상북도</td>\n      <td>8830888</td>\n      <td>8814264</td>\n      <td>8525089</td>\n      <td>8903110</td>\n      <td>9279923</td>\n      <td>9315884</td>\n      <td>9151955</td>\n      <td>10986920</td>\n      <td>12544072</td>\n    </tr>\n    <tr>\n      <th>4</th>\n      <td>광주광역시</td>\n      <td>7345022</td>\n      <td>7679655</td>\n      <td>8430480</td>\n      <td>10014987</td>\n      <td>9753359</td>\n      <td>9810347</td>\n      <td>10525479</td>\n      <td>11292471</td>\n      <td>10959039</td>\n    </tr>\n    <tr>\n      <th>5</th>\n      <td>대구광역시</td>\n      <td>8583699</td>\n      <td>8863110</td>\n      <td>10977041</td>\n      <td>12154845</td>\n      <td>13224278</td>\n      <td>14155718</td>\n      <td>15300286</td>\n      <td>16648230</td>\n      <td>16378163</td>\n    </tr>\n    <tr>\n      <th>6</th>\n      <td>대전광역시</td>\n      <td>0</td>\n      <td>0</td>\n      <td>0</td>\n      <td>0</td>\n      <td>0</td>\n      <td>0</td>\n      <td>0</td>\n      <td>0</td>\n      <td>0</td>\n    </tr>\n    <tr>\n      <th>7</th>\n      <td>부산광역시</td>\n      <td>10930125</td>\n      <td>10844429</td>\n      <td>11330428</td>\n      <td>11872258</td>\n      <td>13209165</td>\n      <td>14363002</td>\n      <td>14286778</td>\n      <td>15785436</td>\n      <td>17022813</td>\n    </tr>\n    <tr>\n      <th>8</th>\n      <td>서울특별시</td>\n      <td>22205397</td>\n      <td>22417828</td>\n      <td>23407774</td>\n      <td>23887212</td>\n      <td>25220645</td>\n      <td>28424578</td>\n      <td>31236775</td>\n      <td>37478582</td>\n      <td>40127734</td>\n    </tr>\n    <tr>\n      <th>9</th>\n      <td>세종특별자치시</td>\n      <td>0</td>\n      <td>0</td>\n      <td>0</td>\n      <td>0</td>\n      <td>0</td>\n      <td>0</td>\n      <td>0</td>\n      <td>0</td>\n      <td>0</td>\n    </tr>\n    <tr>\n      <th>10</th>\n      <td>울산광역시</td>\n      <td>11624678</td>\n      <td>10895320</td>\n      <td>11508873</td>\n      <td>12097141</td>\n      <td>12993283</td>\n      <td>13464975</td>\n      <td>12814064</td>\n      <td>12035299</td>\n      <td>13429957</td>\n    </tr>\n    <tr>\n      <th>11</th>\n      <td>인천광역시</td>\n      <td>10717174</td>\n      <td>11787212</td>\n      <td>14393215</td>\n      <td>13225107</td>\n      <td>14223749</td>\n      <td>14612187</td>\n      <td>15913247</td>\n      <td>16892566</td>\n      <td>19246930</td>\n    </tr>\n    <tr>\n      <th>12</th>\n      <td>전라남도</td>\n      <td>8504144</td>\n      <td>7851291</td>\n      <td>8124193</td>\n      <td>8029975</td>\n      <td>8482965</td>\n      <td>9587084</td>\n      <td>11162732</td>\n      <td>11809942</td>\n      <td>12465482</td>\n    </tr>\n    <tr>\n      <th>13</th>\n      <td>전라북도</td>\n      <td>7510628</td>\n      <td>6877965</td>\n      <td>7013780</td>\n      <td>7206803</td>\n      <td>7156108</td>\n      <td>6754877</td>\n      <td>7000000</td>\n      <td>6724761</td>\n      <td>6926385</td>\n    </tr>\n    <tr>\n      <th>14</th>\n      <td>제주특별자치도</td>\n      <td>0</td>\n      <td>0</td>\n      <td>0</td>\n      <td>0</td>\n      <td>0</td>\n      <td>0</td>\n      <td>0</td>\n      <td>0</td>\n      <td>0</td>\n    </tr>\n    <tr>\n      <th>15</th>\n      <td>충청남도</td>\n      <td>8108182</td>\n      <td>7914968</td>\n      <td>8510364</td>\n      <td>8966716</td>\n      <td>8776506</td>\n      <td>8325057</td>\n      <td>8100039</td>\n      <td>7854197</td>\n      <td>8040662</td>\n    </tr>\n    <tr>\n      <th>16</th>\n      <td>충청북도</td>\n      <td>7740454</td>\n      <td>7493875</td>\n      <td>7486069</td>\n      <td>8724882</td>\n      <td>9032697</td>\n      <td>8797854</td>\n      <td>9710734</td>\n      <td>9641425</td>\n      <td>11160615</td>\n    </tr>\n  </tbody>\n</table>\n</div>"
     },
     "metadata": {},
     "execution_count": 69
    }
   ],
   "source": [
    "testD = pd.read_csv('sub-data-files/lottecastle_region_avg_price_per_pyung.csv')\n",
    "testD"
   ]
  },
  {
   "cell_type": "code",
   "execution_count": null,
   "metadata": {},
   "outputs": [],
   "source": []
  }
 ]
}