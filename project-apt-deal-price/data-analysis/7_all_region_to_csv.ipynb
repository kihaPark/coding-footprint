{
 "metadata": {
  "language_info": {
   "codemirror_mode": {
    "name": "ipython",
    "version": 3
   },
   "file_extension": ".py",
   "mimetype": "text/x-python",
   "name": "python",
   "nbconvert_exporter": "python",
   "pygments_lexer": "ipython3",
   "version": "3.6.12-final"
  },
  "orig_nbformat": 2,
  "kernelspec": {
   "name": "python3",
   "display_name": "Python 3"
  }
 },
 "nbformat": 4,
 "nbformat_minor": 2,
 "cells": [
  {
   "cell_type": "code",
   "execution_count": 1,
   "metadata": {},
   "outputs": [],
   "source": [
    "import numpy as np\n",
    "import pandas as pd\n",
    "import matplotlib.pyplot as plt\n",
    "import cx_Oracle"
   ]
  },
  {
   "cell_type": "code",
   "execution_count": 2,
   "metadata": {},
   "outputs": [],
   "source": [
    "def get_data_from_db(query):\n",
    "    conn = cx_Oracle.connect('hoseo', 'hoseo', 'localhost:1521/xe')\n",
    "    df = pd.read_sql(query, conn)\n",
    "    conn.close()\n",
    "    return df"
   ]
  },
  {
   "cell_type": "code",
   "execution_count": 3,
   "metadata": {
    "tags": []
   },
   "outputs": [],
   "source": [
    "# 소비자물가지수 변동에 의한 화폐가치 계산\n",
    "value_factors = {\n",
    "    'value_year':[2012, 2013, 2014, 2015, 2016, 2017, 2018, 2019, 2020],\n",
    "    'value_factor':[1.083, 1.069, 1.056, 1.049, 1.039, 1.019, 1.004, 1.000, 1.000]\n",
    "}\n",
    "\n",
    "vf_df = pd.DataFrame(value_factors)\n",
    "# vf_df.info()"
   ]
  },
  {
   "cell_type": "code",
   "execution_count": 4,
   "metadata": {},
   "outputs": [],
   "source": [
    "# 기본 데이터 탐색으로 뽑아놓은 월별 평당 가격 데이터\n",
    "readD = pd.read_csv('sub-data-files/region_avg_price_per_pyung_month.csv')\n",
    "\n",
    "readD.set_index('region', inplace=True)\n",
    "readD = readD.T\n",
    "readD.index = [ f'{s[2:6]}/{s[-2:]}' for s in readD.index ]\n",
    "readD['전국'] = readD.mean(axis=1).astype('int64')\n",
    "readD.reset_index(inplace=True)\n",
    "# readD.head()"
   ]
  },
  {
   "cell_type": "code",
   "execution_count": 5,
   "metadata": {},
   "outputs": [],
   "source": [
    "region_table = [\n",
    "    ('강원도','gw'), ('경기도','gg'), ('경상남도','gsn'),\n",
    "    ('경상북도','gsb'), ('광주광역시','gj'), ('대구광역시','dg'),\n",
    "    ('대전광역시','dj'), ('부산광역시','bs'), ('서울특별시','so'),\n",
    "    ('세종특별자치시','sj'), ('울산광역시','us'), ('인천광역시','ic'),\n",
    "    ('전라남도','jrn'), ('전라북도','jrb'), ('제주특별자치도','jj'),\n",
    "    ('충청남도','ccn'), ('충청북도','ccb'), ('전국','all')\n",
    "]"
   ]
  },
  {
   "cell_type": "code",
   "execution_count": 6,
   "metadata": {},
   "outputs": [],
   "source": [
    "# eco_col = [\n",
    "#     '일자', '코스피', '코스피200', '코스피200건설', '코스닥', '다우존스', 's&p500',\n",
    "#     '상해종합', '니케이', '원달러환율', '금현물', '원유현물', '수출액', '수입액',\n",
    "#     '생활물가지수', '소비자물가지수(주택수도전기연료)', '소비자심리지수',\n",
    "#     '가계대출금리', '주택담보대출금리', '강원도p', '경기도p', '경상남도p', '경상북도p',\n",
    "#     '광주광역시p', '대구광역시p', '대전광역시p', '부산광역시p', '서울특별시p',\n",
    "#     '세종특별자치시p', '울산광역시p', '인천광역시p', '전라남도p', '전라북도p',\n",
    "#     '제주특별자치도p', '충청남도p', '충청북도p', '전국_re_cc', '서울특별시_re_cc',\n",
    "#     '인천광역시_re_cc', '경기도_re_cc', '부산광역시_re_cc', '대구광역시_re_cc',\n",
    "#     '광주광역시_re_cc', '대전광역시_re_cc', '울산광역시_re_cc', '강원도_re_cc',\n",
    "#     '충청북도_re_cc', '충청남도_re_cc', '전라북도_re_cc', '전라남도_re_cc',\n",
    "#     '경상북도_re_cc', '경상남도_re_cc', '강원_loan', '경기_loan', '경남_loan',\n",
    "#     '경북_loan', '광주_loan', '대구_loan', '대전_loan', '부산_loan', '서울_loan',\n",
    "#     '세종_loan', '울산_loan', '인천_loan', '전남_loan', '전북_loan', '제주_loan',\n",
    "#     '충남_loan', '충북_loan', '전국_loan'\n",
    "# ]\n",
    "\n",
    "eco_col = [\n",
    "    'date_ym', 'kospi', 'kospi200', 'kospi200construct', 'kosdaq', 'dowjones', 's&p500',\n",
    "    'shanghai', 'nikkei', 'exchange_rate', 'gold', 'oil', 'export', 'import',\n",
    "    'cpi_living', 'cpi', 'ccsi',\n",
    "    'loan_interest_rate', 'housing_loan_rate', 'gw_pop', 'gg_pop', 'gsn_pop', 'gsb_pop',\n",
    "    'gj_pop', 'dg_pop', 'dj_pop', 'bs_pop', 'so_pop',\n",
    "    'sj_pop', 'us_pop', 'ic_pop', 'jrn_pop', 'jrb_pop',\n",
    "    'jj_pop', 'ccn_pop', 'ccb_pop', 'all_re_ccsi', 'so_re_ccsi',\n",
    "    'ic_re_ccsi', 'gg_re_ccsi', 'bs_re_ccsi', 'dg_re_ccsi',\n",
    "    'gj_re_ccsi', 'dj_re_ccsi', 'us_re_ccsi', 'gw_re_ccsi',\n",
    "    'ccb_re_ccsi', 'ccn_re_ccsi', 'jrb_re_ccsi', 'jrn_re_ccsi',\n",
    "    'gsb_re_ccsi', 'gsn_re_ccsi', 'gw_loan', 'gg_loan', 'gsn_loan',\n",
    "    'gsb_loan', 'gj_loan', 'dg_loan', 'dj_loan', 'bs_loan', 'so_loan',\n",
    "    'sj_loan', 'us_loan', 'ic_loan', 'jrn_loan', 'jrb_loan', 'jj_loan',\n",
    "    'ccn_loan', 'ccb_loan', 'all_loan'\n",
    "]\n"
   ]
  },
  {
   "cell_type": "code",
   "execution_count": 7,
   "metadata": {
    "tags": []
   },
   "outputs": [],
   "source": [
    "ecoD = pd.read_csv('sub-data-files/economic_ex.csv')\n",
    "ecoD.columns = eco_col\n",
    "# ecoD.info()\n"
   ]
  },
  {
   "cell_type": "code",
   "execution_count": 8,
   "metadata": {},
   "outputs": [],
   "source": [
    "def make_csv_from_db(region, save_path):\n",
    "    \n",
    "    query = f\"\"\"\n",
    "        SELECT region, region_sub, apt_name,\n",
    "            apt_size, apt_floor, contract_date,\n",
    "            contract_price, completion_year,\n",
    "            (to_number(to_char(contract_date, 'YYYY')) - completion_year) period_completed,\n",
    "            round((apt_size / 3.3), 2) pyung,\n",
    "            round(contract_price / (apt_size / 3.3)) price_per_pyung\n",
    "        FROM apt_deal_price\n",
    "        WHERE region = '{region}'\n",
    "        \"\"\"\n",
    "\n",
    "    dataD = get_data_from_db(query)\n",
    "    lower_col = dataD.columns.values.tolist()\n",
    "    dataD.columns = [ l.lower() for l in lower_col ]\n",
    "\n",
    "    # 평당 현재 가격 정보 추가\n",
    "    dataD['contract_year'] = dataD['contract_date'].dt.year\n",
    "    dataD = dataD.merge(vf_df, how='left', left_on='contract_year', right_on='value_year')\n",
    "    dataD['price_per_pyung_present'] = round(dataD['price_per_pyung'] * dataD['value_factor'])\n",
    "\n",
    "    # 추가 데이터 머지를 위한 키값 추가\n",
    "    dataD['contract_date_key'] = dataD['contract_date'].dt.strftime('%Y/%m')\n",
    "\n",
    "    # 지역별 평당 가격 추가\n",
    "    dataD = dataD.merge(readD, how='left', left_on='contract_date_key', right_on='index')\n",
    "\n",
    "    # 지역별 평당 가격 비율 추가\n",
    "    for r in region_table:\n",
    "        dataD[f'{r[1]}_ratio'] = round(dataD[r[0]] / dataD[region], 2)\n",
    "\n",
    "    # 지역별 평당 가격 컬럼 제거\n",
    "    dataD.drop(columns= [ re[0] for re in region_table ], inplace=True)\n",
    "    \n",
    "    # 경제 데이터 추가\n",
    "    dataD = dataD.merge(ecoD, how='left', left_on='contract_date_key', right_on='date_ym')\n",
    "    \n",
    "    dataD.to_csv(save_path, index=False, encoding='utf-8-sig')\n",
    "    print(f'complete!!! {save_path}')\n"
   ]
  },
  {
   "cell_type": "code",
   "execution_count": 9,
   "metadata": {
    "tags": []
   },
   "outputs": [
    {
     "output_type": "stream",
     "name": "stdout",
     "text": "complete!!! region-data-files/gw_region.csv\n"
    }
   ],
   "source": [
    "# test function\n",
    "make_csv_from_db('강원도', 'region-data-files/gw_region.csv')"
   ]
  },
  {
   "cell_type": "code",
   "execution_count": 11,
   "metadata": {
    "tags": []
   },
   "outputs": [],
   "source": [
    "# batch jobs\n",
    "# for r in region_table[:-2]:\n",
    "#     make_csv_from_db(r[0], f'region-data-files/{r[1]}_region.csv')"
   ]
  },
  {
   "cell_type": "code",
   "execution_count": 10,
   "metadata": {
    "tags": []
   },
   "outputs": [
    {
     "output_type": "stream",
     "name": "stdout",
     "text": "<class 'pandas.core.frame.DataFrame'>\nRangeIndex: 142353 entries, 0 to 142352\nColumns: 105 entries, region to all_loan\ndtypes: float64(72), int64(26), object(7)\nmemory usage: 114.0+ MB\n"
    },
    {
     "output_type": "execute_result",
     "data": {
      "text/plain": "Index(['region', 'region_sub', 'apt_name', 'apt_size', 'apt_floor',\n       'contract_date', 'contract_price', 'completion_year',\n       'period_completed', 'pyung',\n       ...\n       'so_loan', 'sj_loan', 'us_loan', 'ic_loan', 'jrn_loan', 'jrb_loan',\n       'jj_loan', 'ccn_loan', 'ccb_loan', 'all_loan'],\n      dtype='object', length=105)"
     },
     "metadata": {},
     "execution_count": 10
    }
   ],
   "source": [
    "tt = pd.read_csv('region-data-files/gw_region.csv')\n",
    "tt.info()\n",
    "tt.columns"
   ]
  },
  {
   "cell_type": "code",
   "execution_count": null,
   "metadata": {},
   "outputs": [],
   "source": []
  }
 ]
}