{
 "metadata": {
  "language_info": {
   "codemirror_mode": {
    "name": "ipython",
    "version": 3
   },
   "file_extension": ".py",
   "mimetype": "text/x-python",
   "name": "python",
   "nbconvert_exporter": "python",
   "pygments_lexer": "ipython3",
   "version": "3.7.9-final"
  },
  "orig_nbformat": 2,
  "kernelspec": {
   "name": "python3",
   "display_name": "Python 3"
  }
 },
 "nbformat": 4,
 "nbformat_minor": 2,
 "cells": [
  {
   "cell_type": "code",
   "execution_count": 1,
   "metadata": {},
   "outputs": [],
   "source": [
    "import numpy as np\n",
    "import pandas as pd\n",
    "import matplotlib.pyplot as plt"
   ]
  },
  {
   "cell_type": "code",
   "execution_count": 2,
   "metadata": {},
   "outputs": [],
   "source": [
    "future_cols = ['date', 'time', 'f_open', 'f_high', 'f_low', 'f_close', 'f_vol']\n",
    "kospi200_cols = ['date', 'time', 'k200_open', 'k200_high', 'k200_low', 'k200_close', 'k200_vol']\n",
    "kospi_cols = ['date', 'time', 'k_open', 'k_high', 'k_low', 'k_close', 'k_vol']\n",
    "kosdaq_cols = ['date', 'time', 'd_open', 'd_high', 'd_low', 'd_close', 'd_vol']"
   ]
  },
  {
   "cell_type": "code",
   "execution_count": 3,
   "metadata": {},
   "outputs": [],
   "source": [
    "# futures\n",
    "# 2020/07/17, 9:00:00\n",
    "# 2020/11/09, 15:45:00\n",
    "\n",
    "# kospi200, kospi, kosdaq\n",
    "# 2020/07/16, 15:30:00\n",
    "# 2020/11/09, 15:30:00"
   ]
  },
  {
   "cell_type": "code",
   "execution_count": 4,
   "metadata": {},
   "outputs": [],
   "source": [
    "def convert_csv():\n",
    "    dataF = pd.read_excel('data-files/futures.xlsx')\n",
    "    dataF.columns = future_cols\n",
    "    dataF.set_index(['date', 'time'], inplace=True)\n",
    "    dataF.sort_index(inplace=True)\n",
    "    dataF = dataF.loc[('2020/07/17', '09:00:00'):('2020/11/09', '15:45:00'), :]\n",
    "    dataF.to_csv('data-files/futures.csv', index=True, encoding='utf-8-sig')\n",
    "    dataF.info()\n",
    "\n",
    "    dataK200 = pd.read_excel('data-files/kospi200.xlsx')\n",
    "    dataK200.columns = kospi200_cols\n",
    "    dataK200.set_index(['date', 'time'], inplace=True)\n",
    "    dataK200.sort_index(inplace=True)\n",
    "    dataK200 = dataK200.loc[('2020/07/16', '15:30:00'):('2020/11/09', '15:30:00'), :]\n",
    "    dataK200.info()\n",
    "\n",
    "    dataK = pd.read_excel('data-files/kospi.xlsx')\n",
    "    dataK.columns = kospi_cols\n",
    "    dataK.set_index(['date', 'time'], inplace=True)\n",
    "    dataK.sort_index(inplace=True)\n",
    "    dataK = dataK.loc[('2020/07/16', '15:30:00'):('2020/11/09', '15:30:00'), :]\n",
    "    dataK.info()\n",
    "\n",
    "    dataD = pd.read_excel('data-files/kosdaq.xlsx')\n",
    "    dataD.columns = kosdaq_cols\n",
    "    dataD.set_index(['date', 'time'],inplace=True)\n",
    "    dataD.sort_index(inplace=True)\n",
    "    dataD = dataD.loc[('2020/07/16', '15:30:00'):('2020/11/09', '15:30:00'), :]\n",
    "    dataD.info()\n",
    "\n",
    "    dataK200K = dataK200.merge(dataK, how='left', left_index=True, right_index=True)\n",
    "    dataK200KD = dataK200K.merge(dataD, how='left', left_index=True, right_index=True)\n",
    "    dataK200KD.to_csv('data-files/k200kd.csv', index=True, encoding='utf-8-sig')\n",
    "    dataK200KD.info()\n",
    "    \n",
    "# convert_csv()"
   ]
  },
  {
   "cell_type": "code",
   "execution_count": 10,
   "metadata": {},
   "outputs": [],
   "source": [
    "def make_allD():\n",
    "    furtures = pd.read_csv('data-files/futures.csv')\n",
    "    k200kd = pd.read_csv('data-files/k200kd.csv')\n",
    "\n",
    "    dataF = furtures.set_index(['date', 'time'])\n",
    "    dataK = k200kd.set_index(['date', 'time'])\n",
    "\n",
    "    dataFK = dataF.merge(dataK, how='outer', left_index=True, right_index=True)\n",
    "    dataFK.to_csv('data-files/allD.csv', index=True, encoding='utf-8-sig')\n",
    "\n",
    "    dataFK.info()\n",
    "\n",
    "# make_allD()"
   ]
  },
  {
   "cell_type": "code",
   "execution_count": 9,
   "metadata": {},
   "outputs": [
    {
     "output_type": "stream",
     "name": "stdout",
     "text": [
      "<class 'pandas.core.frame.DataFrame'>\nInt64Index: 1141 entries, 1 to 30478\nData columns (total 22 columns):\n #   Column      Non-Null Count  Dtype  \n---  ------      --------------  -----  \n 0   date        1141 non-null   object \n 1   time        1141 non-null   object \n 2   f_open      1141 non-null   float64\n 3   f_high      1141 non-null   float64\n 4   f_low       1141 non-null   float64\n 5   f_close     1141 non-null   float64\n 6   f_vol       1141 non-null   float64\n 7   k200_open   1141 non-null   float64\n 8   k200_high   1141 non-null   float64\n 9   k200_low    1141 non-null   float64\n 10  k200_close  1141 non-null   float64\n 11  k200_vol    1141 non-null   float64\n 12  k_open      1141 non-null   float64\n 13  k_high      1141 non-null   float64\n 14  k_low       1141 non-null   float64\n 15  k_close     1141 non-null   float64\n 16  k_vol       1141 non-null   float64\n 17  d_open      1141 non-null   float64\n 18  d_high      1141 non-null   float64\n 19  d_low       1141 non-null   float64\n 20  d_close     1141 non-null   float64\n 21  d_vol       1141 non-null   float64\ndtypes: float64(20), object(2)\nmemory usage: 205.0+ KB\n"
     ]
    }
   ],
   "source": [
    "# ('2020/07/16', '15:30:00'),\n",
    "# ('2020/09/10', '15:20:00'),\n",
    "# ('2020/09/10', '15:30:00')\n",
    "dataFK = pd.read_csv('data-files/allD.csv')\n",
    "\n",
    "null = dataFK.fillna(-1.0)\n",
    "# print(null.loc[null['f_open'] == -1.0].index)\n",
    "nullD = null.loc[null['k_open'] == -1.0]\n",
    "nullD.info()\n"
   ]
  },
  {
   "cell_type": "code",
   "execution_count": 9,
   "metadata": {},
   "outputs": [],
   "source": [
    "# result = testFK[['date', 'k_open', 'k_high', 'k_low', 'k_close', 'k_vol']].groupby(by=['date']).count()\n",
    "# date_list = sorted(np.unique(dataFK['date']))\n",
    "# date_list\n",
    "# np.unique(dataFK['time'])"
   ]
  },
  {
   "cell_type": "code",
   "execution_count": 13,
   "metadata": {},
   "outputs": [],
   "source": [
    "k200_nulls = ['k200_open', 'k200_high', 'k200_low', 'k200_close', 'k200_vol']\n",
    "k_nulls = ['k_open', 'k_high', 'k_low', 'k_close', 'k_vol']\n",
    "d_nulls = ['d_open', 'd_high', 'd_low', 'd_close', 'd_vol']\n",
    "\n",
    "def fill_values(df, origin_id, copy_id):\n",
    "\n",
    "    close = df.loc[origin_id, 'k200_close']\n",
    "    df.loc[copy_id, k200_nulls] = [close, close, close, close, 0]\n",
    "\n",
    "    close = df.loc[origin_id, 'k_close']\n",
    "    df.loc[copy_id, k_nulls] = [close, close, close, close, 0]\n",
    "\n",
    "    close = df.loc[origin_id, 'd_close']\n",
    "    df.loc[copy_id, d_nulls] = [close, close, close, close, 0]\n"
   ]
  },
  {
   "cell_type": "code",
   "execution_count": 18,
   "metadata": {},
   "outputs": [
    {
     "output_type": "stream",
     "name": "stdout",
     "text": [
      "<class 'pandas.core.frame.DataFrame'>\nMultiIndex: 30476 entries, ('2020/07/17', '09:00:00') to ('2020/11/09', '15:45:00')\nData columns (total 20 columns):\n #   Column      Non-Null Count  Dtype  \n---  ------      --------------  -----  \n 0   f_open      30476 non-null  float64\n 1   f_high      30476 non-null  float64\n 2   f_low       30476 non-null  float64\n 3   f_close     30476 non-null  float64\n 4   f_vol       30476 non-null  float64\n 5   k200_open   30476 non-null  float64\n 6   k200_high   30476 non-null  float64\n 7   k200_low    30476 non-null  float64\n 8   k200_close  30476 non-null  float64\n 9   k200_vol    30476 non-null  float64\n 10  k_open      30476 non-null  float64\n 11  k_high      30476 non-null  float64\n 12  k_low       30476 non-null  float64\n 13  k_close     30476 non-null  float64\n 14  k_vol       30476 non-null  float64\n 15  d_open      30476 non-null  float64\n 16  d_high      30476 non-null  float64\n 17  d_low       30476 non-null  float64\n 18  d_close     30476 non-null  float64\n 19  d_vol       30476 non-null  float64\ndtypes: float64(20)\nmemory usage: 4.8+ MB\n"
     ]
    }
   ],
   "source": [
    "def make_futuresD():\n",
    "\n",
    "    dataFK = pd.read_csv('data-files/allD.csv')\n",
    "    dataFK2 = dataFK.set_index(['date', 'time'])\n",
    "\n",
    "    date_list = sorted(np.unique(dataFK['date']))\n",
    "\n",
    "    null_time1 = ('15:30:00', '09:00:00') # 전날, 오늘\n",
    "    null_time2 = ('15:30:00', ['15:31:00', '15:32:00', '15:33:00', '15:34:00', '15:45:00']) # 오늘, 오늘\n",
    "    null_time3 = ('15:20:00', ['15:21:00', '15:22:00', '15:23:00', '15:24:00', '15:25:00', #오늘, 오늘\n",
    "                            '15:26:00', '15:27:00', '15:28:00', '15:29:00'])\n",
    "\n",
    "    # 0: 2020/07/16 ~\n",
    "    for idx, da in enumerate(date_list):\n",
    "\n",
    "        if idx <= 0:\n",
    "            continue\n",
    "\n",
    "        origin_id = (date_list[idx - 1], null_time1[0])\n",
    "        copy_id = (da, null_time1[1])\n",
    "        fill_values(dataFK2, origin_id, copy_id)\n",
    "        \n",
    "        if da == '2020/09/10':\n",
    "            continue\n",
    "\n",
    "        origin_id = (da, null_time2[0])\n",
    "        \n",
    "        for ti2 in null_time2[1]:\n",
    "            copy_id = (da, ti2)\n",
    "            fill_values(dataFK2, origin_id, copy_id)\n",
    "            \n",
    "        \n",
    "        origin_id = (da, null_time3[0])\n",
    "\n",
    "        for ti3 in null_time3[1]:\n",
    "            copy_id = (da, ti3)\n",
    "            fill_values(dataFK2, origin_id, copy_id)\n",
    "\n",
    "    dataFK2.dropna(axis=0, inplace=True)\n",
    "    dataFK2.to_csv('data-files/futuresD.csv', index=True, encoding='utf-8-sig')\n",
    "\n",
    "    dataFK2.info()    \n",
    "\n",
    "# make_futuresD()"
   ]
  },
  {
   "cell_type": "code",
   "execution_count": 19,
   "metadata": {},
   "outputs": [
    {
     "output_type": "stream",
     "name": "stdout",
     "text": [
      "<class 'pandas.core.frame.DataFrame'>\nRangeIndex: 30476 entries, 0 to 30475\nData columns (total 22 columns):\n #   Column      Non-Null Count  Dtype  \n---  ------      --------------  -----  \n 0   date        30476 non-null  object \n 1   time        30476 non-null  object \n 2   f_open      30476 non-null  float64\n 3   f_high      30476 non-null  float64\n 4   f_low       30476 non-null  float64\n 5   f_close     30476 non-null  float64\n 6   f_vol       30476 non-null  float64\n 7   k200_open   30476 non-null  float64\n 8   k200_high   30476 non-null  float64\n 9   k200_low    30476 non-null  float64\n 10  k200_close  30476 non-null  float64\n 11  k200_vol    30476 non-null  float64\n 12  k_open      30476 non-null  float64\n 13  k_high      30476 non-null  float64\n 14  k_low       30476 non-null  float64\n 15  k_close     30476 non-null  float64\n 16  k_vol       30476 non-null  float64\n 17  d_open      30476 non-null  float64\n 18  d_high      30476 non-null  float64\n 19  d_low       30476 non-null  float64\n 20  d_close     30476 non-null  float64\n 21  d_vol       30476 non-null  float64\ndtypes: float64(20), object(2)\nmemory usage: 5.1+ MB\n"
     ]
    },
    {
     "output_type": "execute_result",
     "data": {
      "text/plain": [
       "         date      time  f_open  f_high   f_low  f_close   f_vol  k200_open  \\\n",
       "0  2020/07/17  09:00:00  289.65  290.10  289.45   290.10  2952.0     289.25   \n",
       "1  2020/07/17  09:01:00  290.05  290.90  290.05   290.85  3622.0     289.90   \n",
       "2  2020/07/17  09:02:00  290.85  291.00  290.60   290.80  2421.0     290.65   \n",
       "3  2020/07/17  09:03:00  290.80  291.15  290.80   291.10  1855.0     290.37   \n",
       "4  2020/07/17  09:04:00  291.15  291.30  291.00   291.00  2633.0     291.07   \n",
       "5  2020/07/17  09:05:00  291.00  291.25  290.95   291.25  1427.0     291.15   \n",
       "6  2020/07/17  09:06:00  291.25  291.30  290.95   291.00  1467.0     291.20   \n",
       "7  2020/07/17  09:07:00  291.00  291.20  291.00   291.20  1031.0     290.97   \n",
       "8  2020/07/17  09:08:00  291.15  291.25  291.10   291.25   878.0     291.10   \n",
       "9  2020/07/17  09:09:00  291.25  291.40  291.15   291.35  1231.0     291.21   \n",
       "\n",
       "   k200_high  k200_low  ...   k_open   k_high    k_low  k_close    k_vol  \\\n",
       "0     289.25    289.25  ...  2183.76  2183.76  2183.76  2183.76      0.0   \n",
       "1     290.63    289.90  ...  2187.85  2191.66  2187.85  2191.58  15381.0   \n",
       "2     290.97    290.37  ...  2193.37  2194.98  2193.37  2193.37   7324.0   \n",
       "3     291.02    290.37  ...  2192.47  2195.46  2192.47  2194.76   5540.0   \n",
       "4     291.23    290.90  ...  2196.46  2197.28  2196.36  2196.63   8572.0   \n",
       "5     291.19    290.88  ...  2196.97  2196.97  2195.50  2196.17   5507.0   \n",
       "6     291.23    290.98  ...  2197.35  2197.35  2196.13  2196.64   5194.0   \n",
       "7     291.20    290.97  ...  2195.55  2196.60  2195.55  2196.60   4432.0   \n",
       "8     291.22    290.95  ...  2195.81  2196.61  2195.27  2195.53   4569.0   \n",
       "9     291.34    290.99  ...  2196.61  2196.61  2195.63  2196.41   4567.0   \n",
       "\n",
       "   d_open  d_high   d_low  d_close    d_vol  \n",
       "0  775.07  775.07  775.07   775.07      0.0  \n",
       "1  776.97  777.51  776.96   777.39  33111.0  \n",
       "2  777.48  777.90  777.48   777.72  14170.0  \n",
       "3  777.70  777.86  777.65   777.77  13601.0  \n",
       "4  777.79  778.18  777.76   778.18  11594.0  \n",
       "5  778.10  778.23  778.07   778.23   9365.0  \n",
       "6  778.24  778.24  778.03   778.03  10205.0  \n",
       "7  778.08  778.22  778.05   778.20  10233.0  \n",
       "8  778.29  778.41  778.27   778.40   9197.0  \n",
       "9  778.25  778.25  777.83   777.83   9124.0  \n",
       "\n",
       "[10 rows x 22 columns]"
      ],
      "text/html": "<div>\n<style scoped>\n    .dataframe tbody tr th:only-of-type {\n        vertical-align: middle;\n    }\n\n    .dataframe tbody tr th {\n        vertical-align: top;\n    }\n\n    .dataframe thead th {\n        text-align: right;\n    }\n</style>\n<table border=\"1\" class=\"dataframe\">\n  <thead>\n    <tr style=\"text-align: right;\">\n      <th></th>\n      <th>date</th>\n      <th>time</th>\n      <th>f_open</th>\n      <th>f_high</th>\n      <th>f_low</th>\n      <th>f_close</th>\n      <th>f_vol</th>\n      <th>k200_open</th>\n      <th>k200_high</th>\n      <th>k200_low</th>\n      <th>...</th>\n      <th>k_open</th>\n      <th>k_high</th>\n      <th>k_low</th>\n      <th>k_close</th>\n      <th>k_vol</th>\n      <th>d_open</th>\n      <th>d_high</th>\n      <th>d_low</th>\n      <th>d_close</th>\n      <th>d_vol</th>\n    </tr>\n  </thead>\n  <tbody>\n    <tr>\n      <th>0</th>\n      <td>2020/07/17</td>\n      <td>09:00:00</td>\n      <td>289.65</td>\n      <td>290.10</td>\n      <td>289.45</td>\n      <td>290.10</td>\n      <td>2952.0</td>\n      <td>289.25</td>\n      <td>289.25</td>\n      <td>289.25</td>\n      <td>...</td>\n      <td>2183.76</td>\n      <td>2183.76</td>\n      <td>2183.76</td>\n      <td>2183.76</td>\n      <td>0.0</td>\n      <td>775.07</td>\n      <td>775.07</td>\n      <td>775.07</td>\n      <td>775.07</td>\n      <td>0.0</td>\n    </tr>\n    <tr>\n      <th>1</th>\n      <td>2020/07/17</td>\n      <td>09:01:00</td>\n      <td>290.05</td>\n      <td>290.90</td>\n      <td>290.05</td>\n      <td>290.85</td>\n      <td>3622.0</td>\n      <td>289.90</td>\n      <td>290.63</td>\n      <td>289.90</td>\n      <td>...</td>\n      <td>2187.85</td>\n      <td>2191.66</td>\n      <td>2187.85</td>\n      <td>2191.58</td>\n      <td>15381.0</td>\n      <td>776.97</td>\n      <td>777.51</td>\n      <td>776.96</td>\n      <td>777.39</td>\n      <td>33111.0</td>\n    </tr>\n    <tr>\n      <th>2</th>\n      <td>2020/07/17</td>\n      <td>09:02:00</td>\n      <td>290.85</td>\n      <td>291.00</td>\n      <td>290.60</td>\n      <td>290.80</td>\n      <td>2421.0</td>\n      <td>290.65</td>\n      <td>290.97</td>\n      <td>290.37</td>\n      <td>...</td>\n      <td>2193.37</td>\n      <td>2194.98</td>\n      <td>2193.37</td>\n      <td>2193.37</td>\n      <td>7324.0</td>\n      <td>777.48</td>\n      <td>777.90</td>\n      <td>777.48</td>\n      <td>777.72</td>\n      <td>14170.0</td>\n    </tr>\n    <tr>\n      <th>3</th>\n      <td>2020/07/17</td>\n      <td>09:03:00</td>\n      <td>290.80</td>\n      <td>291.15</td>\n      <td>290.80</td>\n      <td>291.10</td>\n      <td>1855.0</td>\n      <td>290.37</td>\n      <td>291.02</td>\n      <td>290.37</td>\n      <td>...</td>\n      <td>2192.47</td>\n      <td>2195.46</td>\n      <td>2192.47</td>\n      <td>2194.76</td>\n      <td>5540.0</td>\n      <td>777.70</td>\n      <td>777.86</td>\n      <td>777.65</td>\n      <td>777.77</td>\n      <td>13601.0</td>\n    </tr>\n    <tr>\n      <th>4</th>\n      <td>2020/07/17</td>\n      <td>09:04:00</td>\n      <td>291.15</td>\n      <td>291.30</td>\n      <td>291.00</td>\n      <td>291.00</td>\n      <td>2633.0</td>\n      <td>291.07</td>\n      <td>291.23</td>\n      <td>290.90</td>\n      <td>...</td>\n      <td>2196.46</td>\n      <td>2197.28</td>\n      <td>2196.36</td>\n      <td>2196.63</td>\n      <td>8572.0</td>\n      <td>777.79</td>\n      <td>778.18</td>\n      <td>777.76</td>\n      <td>778.18</td>\n      <td>11594.0</td>\n    </tr>\n    <tr>\n      <th>5</th>\n      <td>2020/07/17</td>\n      <td>09:05:00</td>\n      <td>291.00</td>\n      <td>291.25</td>\n      <td>290.95</td>\n      <td>291.25</td>\n      <td>1427.0</td>\n      <td>291.15</td>\n      <td>291.19</td>\n      <td>290.88</td>\n      <td>...</td>\n      <td>2196.97</td>\n      <td>2196.97</td>\n      <td>2195.50</td>\n      <td>2196.17</td>\n      <td>5507.0</td>\n      <td>778.10</td>\n      <td>778.23</td>\n      <td>778.07</td>\n      <td>778.23</td>\n      <td>9365.0</td>\n    </tr>\n    <tr>\n      <th>6</th>\n      <td>2020/07/17</td>\n      <td>09:06:00</td>\n      <td>291.25</td>\n      <td>291.30</td>\n      <td>290.95</td>\n      <td>291.00</td>\n      <td>1467.0</td>\n      <td>291.20</td>\n      <td>291.23</td>\n      <td>290.98</td>\n      <td>...</td>\n      <td>2197.35</td>\n      <td>2197.35</td>\n      <td>2196.13</td>\n      <td>2196.64</td>\n      <td>5194.0</td>\n      <td>778.24</td>\n      <td>778.24</td>\n      <td>778.03</td>\n      <td>778.03</td>\n      <td>10205.0</td>\n    </tr>\n    <tr>\n      <th>7</th>\n      <td>2020/07/17</td>\n      <td>09:07:00</td>\n      <td>291.00</td>\n      <td>291.20</td>\n      <td>291.00</td>\n      <td>291.20</td>\n      <td>1031.0</td>\n      <td>290.97</td>\n      <td>291.20</td>\n      <td>290.97</td>\n      <td>...</td>\n      <td>2195.55</td>\n      <td>2196.60</td>\n      <td>2195.55</td>\n      <td>2196.60</td>\n      <td>4432.0</td>\n      <td>778.08</td>\n      <td>778.22</td>\n      <td>778.05</td>\n      <td>778.20</td>\n      <td>10233.0</td>\n    </tr>\n    <tr>\n      <th>8</th>\n      <td>2020/07/17</td>\n      <td>09:08:00</td>\n      <td>291.15</td>\n      <td>291.25</td>\n      <td>291.10</td>\n      <td>291.25</td>\n      <td>878.0</td>\n      <td>291.10</td>\n      <td>291.22</td>\n      <td>290.95</td>\n      <td>...</td>\n      <td>2195.81</td>\n      <td>2196.61</td>\n      <td>2195.27</td>\n      <td>2195.53</td>\n      <td>4569.0</td>\n      <td>778.29</td>\n      <td>778.41</td>\n      <td>778.27</td>\n      <td>778.40</td>\n      <td>9197.0</td>\n    </tr>\n    <tr>\n      <th>9</th>\n      <td>2020/07/17</td>\n      <td>09:09:00</td>\n      <td>291.25</td>\n      <td>291.40</td>\n      <td>291.15</td>\n      <td>291.35</td>\n      <td>1231.0</td>\n      <td>291.21</td>\n      <td>291.34</td>\n      <td>290.99</td>\n      <td>...</td>\n      <td>2196.61</td>\n      <td>2196.61</td>\n      <td>2195.63</td>\n      <td>2196.41</td>\n      <td>4567.0</td>\n      <td>778.25</td>\n      <td>778.25</td>\n      <td>777.83</td>\n      <td>777.83</td>\n      <td>9124.0</td>\n    </tr>\n  </tbody>\n</table>\n<p>10 rows × 22 columns</p>\n</div>"
     },
     "metadata": {},
     "execution_count": 19
    }
   ],
   "source": [
    "dataF = pd.read_csv('data-files/futuresD.csv')\n",
    "dataF.info()\n",
    "dataF.head(10)"
   ]
  },
  {
   "cell_type": "code",
   "execution_count": null,
   "metadata": {},
   "outputs": [],
   "source": []
  }
 ]
}