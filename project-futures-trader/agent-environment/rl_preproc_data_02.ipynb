{
 "metadata": {
  "language_info": {
   "codemirror_mode": {
    "name": "ipython",
    "version": 3
   },
   "file_extension": ".py",
   "mimetype": "text/x-python",
   "name": "python",
   "nbconvert_exporter": "python",
   "pygments_lexer": "ipython3",
   "version": "3.7.9-final"
  },
  "orig_nbformat": 2,
  "kernelspec": {
   "name": "python3",
   "display_name": "Python 3"
  }
 },
 "nbformat": 4,
 "nbformat_minor": 2,
 "cells": [
  {
   "cell_type": "code",
   "execution_count": 1,
   "metadata": {},
   "outputs": [],
   "source": [
    "import numpy as np\n",
    "import pandas as pd\n",
    "import matplotlib.pyplot as plt"
   ]
  },
  {
   "cell_type": "code",
   "execution_count": 2,
   "metadata": {},
   "outputs": [],
   "source": [
    "# futures\n",
    "# 2020/07/17, 9:00:00\n",
    "# 2020/11/09, 15:45:00\n",
    "\n",
    "# kospi200, kospi, kosdaq\n",
    "# 2020/07/16, 15:30:00\n",
    "# 2020/11/09, 15:30:00"
   ]
  },
  {
   "cell_type": "code",
   "execution_count": 3,
   "metadata": {},
   "outputs": [
    {
     "output_type": "stream",
     "name": "stdout",
     "text": [
      "<class 'pandas.core.frame.DataFrame'>\nRangeIndex: 30476 entries, 0 to 30475\nData columns (total 22 columns):\n #   Column      Non-Null Count  Dtype  \n---  ------      --------------  -----  \n 0   date        30476 non-null  object \n 1   time        30476 non-null  object \n 2   f_open      30476 non-null  float64\n 3   f_high      30476 non-null  float64\n 4   f_low       30476 non-null  float64\n 5   f_close     30476 non-null  float64\n 6   f_vol       30476 non-null  float64\n 7   k200_open   30476 non-null  float64\n 8   k200_high   30476 non-null  float64\n 9   k200_low    30476 non-null  float64\n 10  k200_close  30476 non-null  float64\n 11  k200_vol    30476 non-null  float64\n 12  k_open      30476 non-null  float64\n 13  k_high      30476 non-null  float64\n 14  k_low       30476 non-null  float64\n 15  k_close     30476 non-null  float64\n 16  k_vol       30476 non-null  float64\n 17  d_open      30476 non-null  float64\n 18  d_high      30476 non-null  float64\n 19  d_low       30476 non-null  float64\n 20  d_close     30476 non-null  float64\n 21  d_vol       30476 non-null  float64\ndtypes: float64(20), object(2)\nmemory usage: 5.1+ MB\n"
     ]
    }
   ],
   "source": [
    "dataF = pd.read_csv('data-files/futuresD.csv')\n",
    "dataF.info()"
   ]
  },
  {
   "cell_type": "code",
   "execution_count": 4,
   "metadata": {},
   "outputs": [],
   "source": [
    "# moving avg\n",
    "# movings = [5, 10, 20]\n",
    "# for moving in movings:\n",
    "#     dataF[f'f_close_ma{moving}'] = dataF['f_close'].rolling(moving).mean()\n",
    "#     dataF[f'f_vol_ma{moving}'] = dataF['f_vol'].rolling(moving).mean()\n",
    "\n",
    "# dataF.info()"
   ]
  },
  {
   "cell_type": "code",
   "execution_count": 5,
   "metadata": {},
   "outputs": [],
   "source": [
    "# price, volume ratio\n",
    "\n",
    "dataF['open_lastclose_ratio'] = np.zeros(len(dataF))\n",
    "dataF.loc[1:, 'open_lastclose_ratio'] = \\\n",
    "    (dataF['f_open'][1:].values - dataF['f_close'][:-1].values) / dataF['f_close'][:-1].values\n",
    "\n",
    "dataF['high_close_ratio'] = \\\n",
    "    (dataF['f_high'].values - dataF['f_close'].values) / dataF['f_close'].values\n",
    "dataF['low_close_ratio'] = \\\n",
    "    (dataF['f_low'].values - dataF['f_close'].values) / dataF['f_close'].values\n",
    "\n",
    "dataF['close_lastclose_ratio'] = np.zeros(len(dataF))\n",
    "dataF.loc[1:, 'close_lastclose_ratio'] = \\\n",
    "    (dataF['f_close'][1:].values - dataF['f_close'][:-1].values) / dataF['f_close'][:-1].values\n",
    "\n",
    "dataF['vol_lastvol_ratio'] = np.zeros(len(dataF))\n",
    "dataF.loc[1:, 'vol_lastvol_ratio'] = \\\n",
    "    (dataF['f_vol'][1:].values - dataF['f_vol'][:-1].values) / \\\n",
    "    dataF['f_vol'][:-1].replace(to_replace=0, method='ffill') \\\n",
    "        .replace(to_replace=0, method='bfill').values\n",
    "\n",
    "movings = [5, 10, 20]\n",
    "for moving in movings:\n",
    "    dataF[f'f_close_ma{moving}'] = dataF['f_close'].rolling(moving).mean()\n",
    "    dataF[f'f_vol_ma{moving}'] = dataF['f_vol'].rolling(moving).mean()\n",
    "\n",
    "for moving in movings:\n",
    "    dataF[f'close_ma{moving}_ratio'] = \\\n",
    "        (dataF['f_close'] - dataF[f'f_close_ma{moving}']) / dataF[f'f_close_ma{moving}']\n",
    "    dataF[f'vol_ma{moving}_ratio'] = \\\n",
    "        (dataF['f_vol'] - dataF[f'f_vol_ma{moving}']) / dataF[f'f_vol_ma{moving}']\n"
   ]
  },
  {
   "cell_type": "code",
   "execution_count": null,
   "metadata": {},
   "outputs": [],
   "source": []
  },
  {
   "cell_type": "code",
   "execution_count": 6,
   "metadata": {},
   "outputs": [
    {
     "output_type": "stream",
     "name": "stdout",
     "text": [
      "<class 'pandas.core.frame.DataFrame'>\nRangeIndex: 30476 entries, 0 to 30475\nData columns (total 39 columns):\n #   Column                 Non-Null Count  Dtype  \n---  ------                 --------------  -----  \n 0   date                   30476 non-null  object \n 1   time                   30476 non-null  object \n 2   f_open                 30476 non-null  float64\n 3   f_high                 30476 non-null  float64\n 4   f_low                  30476 non-null  float64\n 5   f_close                30476 non-null  float64\n 6   f_vol                  30476 non-null  float64\n 7   k200_open              30476 non-null  float64\n 8   k200_high              30476 non-null  float64\n 9   k200_low               30476 non-null  float64\n 10  k200_close             30476 non-null  float64\n 11  k200_vol               30476 non-null  float64\n 12  k_open                 30476 non-null  float64\n 13  k_high                 30476 non-null  float64\n 14  k_low                  30476 non-null  float64\n 15  k_close                30476 non-null  float64\n 16  k_vol                  30476 non-null  float64\n 17  d_open                 30476 non-null  float64\n 18  d_high                 30476 non-null  float64\n 19  d_low                  30476 non-null  float64\n 20  d_close                30476 non-null  float64\n 21  d_vol                  30476 non-null  float64\n 22  open_lastclose_ratio   30476 non-null  float64\n 23  high_close_ratio       30476 non-null  float64\n 24  low_close_ratio        30476 non-null  float64\n 25  close_lastclose_ratio  30476 non-null  float64\n 26  vol_lastvol_ratio      30476 non-null  float64\n 27  f_close_ma5            30472 non-null  float64\n 28  f_vol_ma5              30472 non-null  float64\n 29  f_close_ma10           30467 non-null  float64\n 30  f_vol_ma10             30467 non-null  float64\n 31  f_close_ma20           30457 non-null  float64\n 32  f_vol_ma20             30457 non-null  float64\n 33  close_ma5_ratio        30472 non-null  float64\n 34  vol_ma5_ratio          30472 non-null  float64\n 35  close_ma10_ratio       30467 non-null  float64\n 36  vol_ma10_ratio         30467 non-null  float64\n 37  close_ma20_ratio       30457 non-null  float64\n 38  vol_ma20_ratio         30457 non-null  float64\ndtypes: float64(37), object(2)\nmemory usage: 9.1+ MB\n"
     ]
    }
   ],
   "source": [
    "dataF.info()"
   ]
  },
  {
   "cell_type": "code",
   "execution_count": 38,
   "metadata": {},
   "outputs": [],
   "source": [
    "chart_cols = ['date', 'time', 'f_open', 'f_high', 'f_low', 'f_close', 'f_vol']\n",
    "train_cols = [\n",
    "    'open_lastclose_ratio', 'high_close_ratio', 'low_close_ratio',\n",
    "    'close_lastclose_ratio', 'vol_lastvol_ratio',\n",
    "    'close_ma5_ratio', 'vol_ma5_ratio',\n",
    "    'close_ma10_ratio', 'vol_ma10_ratio',\n",
    "    'close_ma20_ratio', 'vol_ma20_ratio'\n",
    "]"
   ]
  },
  {
   "cell_type": "code",
   "execution_count": 39,
   "metadata": {},
   "outputs": [
    {
     "output_type": "stream",
     "name": "stdout",
     "text": [
      "<class 'pandas.core.frame.DataFrame'>\nRangeIndex: 30476 entries, 0 to 30475\nData columns (total 11 columns):\n #   Column                 Non-Null Count  Dtype  \n---  ------                 --------------  -----  \n 0   open_lastclose_ratio   30476 non-null  float64\n 1   high_close_ratio       30476 non-null  float64\n 2   low_close_ratio        30476 non-null  float64\n 3   close_lastclose_ratio  30476 non-null  float64\n 4   vol_lastvol_ratio      30476 non-null  float64\n 5   close_ma5_ratio        30472 non-null  float64\n 6   vol_ma5_ratio          30472 non-null  float64\n 7   close_ma10_ratio       30467 non-null  float64\n 8   vol_ma10_ratio         30467 non-null  float64\n 9   close_ma20_ratio       30457 non-null  float64\n 10  vol_ma20_ratio         30457 non-null  float64\ndtypes: float64(11)\nmemory usage: 2.6 MB\n"
     ]
    },
    {
     "output_type": "execute_result",
     "data": {
      "text/plain": [
       "   open_lastclose_ratio  high_close_ratio  low_close_ratio  \\\n",
       "0              0.000000          0.000000        -0.002241   \n",
       "1             -0.000172          0.000172        -0.002751   \n",
       "2              0.000000          0.000688        -0.000688   \n",
       "3              0.000000          0.000172        -0.001031   \n",
       "4              0.000172          0.001031         0.000000   \n",
       "\n",
       "   close_lastclose_ratio  vol_lastvol_ratio  close_ma5_ratio  vol_ma5_ratio  \\\n",
       "0               0.000000           0.000000              NaN            NaN   \n",
       "1               0.002585           0.226965              NaN            NaN   \n",
       "2              -0.000172          -0.331585              NaN            NaN   \n",
       "3               0.001032          -0.233788              NaN            NaN   \n",
       "4              -0.000344           0.419407         0.000791      -0.023585   \n",
       "\n",
       "   close_ma10_ratio  vol_ma10_ratio  close_ma20_ratio  vol_ma20_ratio  \n",
       "0               NaN             NaN               NaN             NaN  \n",
       "1               NaN             NaN               NaN             NaN  \n",
       "2               NaN             NaN               NaN             NaN  \n",
       "3               NaN             NaN               NaN             NaN  \n",
       "4               NaN             NaN               NaN             NaN  "
      ],
      "text/html": "<div>\n<style scoped>\n    .dataframe tbody tr th:only-of-type {\n        vertical-align: middle;\n    }\n\n    .dataframe tbody tr th {\n        vertical-align: top;\n    }\n\n    .dataframe thead th {\n        text-align: right;\n    }\n</style>\n<table border=\"1\" class=\"dataframe\">\n  <thead>\n    <tr style=\"text-align: right;\">\n      <th></th>\n      <th>open_lastclose_ratio</th>\n      <th>high_close_ratio</th>\n      <th>low_close_ratio</th>\n      <th>close_lastclose_ratio</th>\n      <th>vol_lastvol_ratio</th>\n      <th>close_ma5_ratio</th>\n      <th>vol_ma5_ratio</th>\n      <th>close_ma10_ratio</th>\n      <th>vol_ma10_ratio</th>\n      <th>close_ma20_ratio</th>\n      <th>vol_ma20_ratio</th>\n    </tr>\n  </thead>\n  <tbody>\n    <tr>\n      <th>0</th>\n      <td>0.000000</td>\n      <td>0.000000</td>\n      <td>-0.002241</td>\n      <td>0.000000</td>\n      <td>0.000000</td>\n      <td>NaN</td>\n      <td>NaN</td>\n      <td>NaN</td>\n      <td>NaN</td>\n      <td>NaN</td>\n      <td>NaN</td>\n    </tr>\n    <tr>\n      <th>1</th>\n      <td>-0.000172</td>\n      <td>0.000172</td>\n      <td>-0.002751</td>\n      <td>0.002585</td>\n      <td>0.226965</td>\n      <td>NaN</td>\n      <td>NaN</td>\n      <td>NaN</td>\n      <td>NaN</td>\n      <td>NaN</td>\n      <td>NaN</td>\n    </tr>\n    <tr>\n      <th>2</th>\n      <td>0.000000</td>\n      <td>0.000688</td>\n      <td>-0.000688</td>\n      <td>-0.000172</td>\n      <td>-0.331585</td>\n      <td>NaN</td>\n      <td>NaN</td>\n      <td>NaN</td>\n      <td>NaN</td>\n      <td>NaN</td>\n      <td>NaN</td>\n    </tr>\n    <tr>\n      <th>3</th>\n      <td>0.000000</td>\n      <td>0.000172</td>\n      <td>-0.001031</td>\n      <td>0.001032</td>\n      <td>-0.233788</td>\n      <td>NaN</td>\n      <td>NaN</td>\n      <td>NaN</td>\n      <td>NaN</td>\n      <td>NaN</td>\n      <td>NaN</td>\n    </tr>\n    <tr>\n      <th>4</th>\n      <td>0.000172</td>\n      <td>0.001031</td>\n      <td>0.000000</td>\n      <td>-0.000344</td>\n      <td>0.419407</td>\n      <td>0.000791</td>\n      <td>-0.023585</td>\n      <td>NaN</td>\n      <td>NaN</td>\n      <td>NaN</td>\n      <td>NaN</td>\n    </tr>\n  </tbody>\n</table>\n</div>"
     },
     "metadata": {},
     "execution_count": 39
    }
   ],
   "source": [
    "trainD = dataF[train_cols]\n",
    "trainD.info()\n",
    "trainD.head(5)"
   ]
  },
  {
   "cell_type": "code",
   "execution_count": 41,
   "metadata": {},
   "outputs": [
    {
     "output_type": "stream",
     "name": "stdout",
     "text": [
      "<class 'pandas.core.frame.DataFrame'>\nRangeIndex: 30476 entries, 0 to 30475\nData columns (total 7 columns):\n #   Column   Non-Null Count  Dtype  \n---  ------   --------------  -----  \n 0   date     30476 non-null  object \n 1   time     30476 non-null  object \n 2   f_open   30476 non-null  float64\n 3   f_high   30476 non-null  float64\n 4   f_low    30476 non-null  float64\n 5   f_close  30476 non-null  float64\n 6   f_vol    30476 non-null  float64\ndtypes: float64(5), object(2)\nmemory usage: 1.6+ MB\n"
     ]
    },
    {
     "output_type": "execute_result",
     "data": {
      "text/plain": [
       "         date      time  f_open  f_high   f_low  f_close   f_vol\n",
       "0  2020/07/17  09:00:00  289.65  290.10  289.45   290.10  2952.0\n",
       "1  2020/07/17  09:01:00  290.05  290.90  290.05   290.85  3622.0\n",
       "2  2020/07/17  09:02:00  290.85  291.00  290.60   290.80  2421.0\n",
       "3  2020/07/17  09:03:00  290.80  291.15  290.80   291.10  1855.0\n",
       "4  2020/07/17  09:04:00  291.15  291.30  291.00   291.00  2633.0"
      ],
      "text/html": "<div>\n<style scoped>\n    .dataframe tbody tr th:only-of-type {\n        vertical-align: middle;\n    }\n\n    .dataframe tbody tr th {\n        vertical-align: top;\n    }\n\n    .dataframe thead th {\n        text-align: right;\n    }\n</style>\n<table border=\"1\" class=\"dataframe\">\n  <thead>\n    <tr style=\"text-align: right;\">\n      <th></th>\n      <th>date</th>\n      <th>time</th>\n      <th>f_open</th>\n      <th>f_high</th>\n      <th>f_low</th>\n      <th>f_close</th>\n      <th>f_vol</th>\n    </tr>\n  </thead>\n  <tbody>\n    <tr>\n      <th>0</th>\n      <td>2020/07/17</td>\n      <td>09:00:00</td>\n      <td>289.65</td>\n      <td>290.10</td>\n      <td>289.45</td>\n      <td>290.10</td>\n      <td>2952.0</td>\n    </tr>\n    <tr>\n      <th>1</th>\n      <td>2020/07/17</td>\n      <td>09:01:00</td>\n      <td>290.05</td>\n      <td>290.90</td>\n      <td>290.05</td>\n      <td>290.85</td>\n      <td>3622.0</td>\n    </tr>\n    <tr>\n      <th>2</th>\n      <td>2020/07/17</td>\n      <td>09:02:00</td>\n      <td>290.85</td>\n      <td>291.00</td>\n      <td>290.60</td>\n      <td>290.80</td>\n      <td>2421.0</td>\n    </tr>\n    <tr>\n      <th>3</th>\n      <td>2020/07/17</td>\n      <td>09:03:00</td>\n      <td>290.80</td>\n      <td>291.15</td>\n      <td>290.80</td>\n      <td>291.10</td>\n      <td>1855.0</td>\n    </tr>\n    <tr>\n      <th>4</th>\n      <td>2020/07/17</td>\n      <td>09:04:00</td>\n      <td>291.15</td>\n      <td>291.30</td>\n      <td>291.00</td>\n      <td>291.00</td>\n      <td>2633.0</td>\n    </tr>\n  </tbody>\n</table>\n</div>"
     },
     "metadata": {},
     "execution_count": 41
    }
   ],
   "source": [
    "chartD = dataF[chart_cols]\n",
    "chartD.info()\n",
    "chartD.head(5)"
   ]
  }
 ]
}